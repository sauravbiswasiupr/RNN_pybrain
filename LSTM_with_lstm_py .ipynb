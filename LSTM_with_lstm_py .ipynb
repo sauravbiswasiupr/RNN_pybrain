{
 "metadata": {
  "name": "LSTM_with_lstm_py "
 },
 "nbformat": 3,
 "nbformat_minor": 0,
 "worksheets": [
  {
   "cells": [
    {
     "cell_type": "code",
     "collapsed": false,
     "input": [
      "from numpy import * \n",
      "from pylab import * \n",
      "from ocrolib.lstm import LSTM   #will import LSTM and randu if needed \n",
      "#create a random sinewave between 0 and 10pi \n",
      "x=linspace(0,10*pi) \n",
      "y=sin(x)\n",
      "\n",
      "plot(y)"
     ],
     "language": "python",
     "metadata": {},
     "outputs": [
      {
       "output_type": "pyout",
       "prompt_number": 7,
       "text": [
        "[<matplotlib.lines.Line2D at 0x4a74490>]"
       ]
      },
      {
       "output_type": "display_data",
       "png": "[encoded data removed]"
      }
     ],
     "prompt_number": 7
    },
    {
     "cell_type": "code",
     "collapsed": false,
     "input": [
      "#now we construct the LSTM network which has an LSTM net and a logreg (or softmax) layer attached to it \n",
      "lstm = LSTM(1,10)\n",
      "print lstm "
     ],
     "language": "python",
     "metadata": {},
     "outputs": [
      {
       "output_type": "stream",
       "stream": "stdout",
       "text": [
        "<ocrolib.lstm.LSTM instance at 0x4a54710>\n"
       ]
      }
     ],
     "prompt_number": 8
    },
    {
     "cell_type": "code",
     "collapsed": false,
     "input": [
      "#now we need to convert each input into a timestep format which is k elements long vector for each timestep , k is 1 here \n",
      "inputs=[[i] for i in y]\n",
      "print inputs\n",
      "pred=lstm.forward(inputs)\n",
      "print pred"
     ],
     "language": "python",
     "metadata": {},
     "outputs": [
      {
       "output_type": "stream",
       "stream": "stdout",
       "text": [
        "[[0.0], [0.59811053049121599], [0.95866785303666058], [0.93846842204976044], [0.54553490121054871], [-0.064070219980712995], [-0.6482283953077882], [-0.97492791218182362], [-0.9144126230158125], [-0.49071755200393785], [0.12787716168450614], [0.6956825506034866], [0.98718178341445006], [0.88659930637299988], [0.43388373911755845], [-0.19115862870137293], [-0.74027799707531539], [-0.99537911294919812], [-0.85514276300534608], [-0.37526700487937481], [0.25365458390950762], [0.78183148246802947], [0.99948621620068789], [0.82017225459695609], [0.31510821802362177], [-0.3151082180236206], [-0.82017225459695642], [-0.99948621620068789], [-0.78183148246803025], [-0.25365458390950713], [0.37526700487937531], [0.85514276300534553], [0.99537911294919823], [0.74027799707531505], [0.19115862870137412], [-0.43388373911755734], [-0.88659930637300011], [-0.98718178341444995], [-0.69568255060348749], [-0.12787716168450647], [0.49071755200393835], [0.91441262301581161], [0.97492791218182384], [0.64822839530778842], [0.064070219980711995], [-0.54553490121054726], [-0.93846842204976022], [-0.95866785303666058], [-0.59811053049121776], [-1.2246467991473533e-15]]\n",
        "[[  1.90674954e-02  -1.25958338e-02  -7.17858364e-03  -1.64773481e-02\n",
        "    2.46043797e-02   1.45170973e-02   2.13498168e-02  -2.12730166e-02\n",
        "   -1.00016343e-02  -2.13032513e-02]\n",
        " [  3.10400466e-02  -2.38744582e-02  -1.07775546e-03  -1.57728818e-02\n",
        "    3.23789477e-02   2.91306871e-02   3.08908695e-02  -3.47436431e-02\n",
        "   -2.48471553e-02  -4.26173894e-02]\n",
        " [  3.79132843e-02  -3.32022206e-02   8.00567225e-03  -1.05451236e-02\n",
        "    3.41888826e-02   4.00457620e-02   3.51946671e-02  -4.26011531e-02\n",
        "   -3.76520004e-02  -5.94830789e-02]\n",
        " [  4.07499417e-02  -3.89940122e-02   1.18180951e-02  -8.18912852e-03\n",
        "    3.54503015e-02   4.42784686e-02   3.77898612e-02  -4.63413106e-02\n",
        "   -4.38675808e-02  -6.73266275e-02]\n",
        " [  4.04902599e-02  -4.00796687e-02   6.39005344e-03  -1.22455527e-02\n",
        "    3.84251812e-02   4.13274681e-02   4.01435835e-02  -4.68812039e-02\n",
        "   -4.15212857e-02  -6.44574404e-02]\n",
        " [  3.83492897e-02  -3.66590529e-02  -7.17508401e-03  -2.28756888e-02\n",
        "    4.31326019e-02   3.33898662e-02   4.24955779e-02  -4.49176827e-02\n",
        "   -3.11987663e-02  -5.33596903e-02]\n",
        " [  3.57287038e-02  -3.05544936e-02  -2.39615323e-02  -3.68769257e-02\n",
        "    4.81977748e-02   2.41329073e-02   4.44663442e-02  -4.15491879e-02\n",
        "   -1.64598827e-02  -3.94234182e-02]\n",
        " [  3.39108426e-02  -2.45473073e-02  -3.78412192e-02  -4.87353689e-02\n",
        "    5.18557964e-02   1.71542047e-02   4.55373964e-02  -3.85364417e-02\n",
        "   -3.31235845e-03  -2.83612466e-02]\n",
        " [  3.37432817e-02  -2.11774172e-02  -4.39164606e-02  -5.33777521e-02\n",
        "    5.28272248e-02   1.50099650e-02   4.54047003e-02  -3.76017853e-02\n",
        "    2.32884507e-03  -2.42303512e-02]\n",
        " [  3.54097239e-02  -2.17634817e-02  -3.99404806e-02  -4.89906879e-02\n",
        "    5.08131863e-02   1.86998154e-02   4.41715597e-02  -3.92916420e-02\n",
        "   -2.11676900e-03  -2.86514715e-02]\n",
        " [  3.83384602e-02  -2.60600798e-02  -2.71451348e-02  -3.78177484e-02\n",
        "    4.65987058e-02   2.71682777e-02   4.23569575e-02  -4.26652947e-02\n",
        "   -1.44286668e-02  -4.03868127e-02]\n",
        " [  4.13725702e-02  -3.24531060e-02  -1.04165929e-02  -2.46415900e-02\n",
        "    4.18102060e-02   3.71755843e-02   4.07109873e-02  -4.61557214e-02\n",
        "   -2.91011395e-02  -5.51602648e-02]\n",
        " [  4.32630999e-02  -3.85139020e-02   3.31116518e-03  -1.44243534e-02\n",
        "    3.83526220e-02   4.44284475e-02   3.99033639e-02  -4.85633800e-02\n",
        "   -4.04551249e-02  -6.68662227e-02]\n",
        " [  4.32524391e-02  -4.18398491e-02   8.25094908e-03  -1.07159258e-02\n",
        "    3.76568983e-02   4.57713146e-02   4.02494434e-02  -4.92804901e-02\n",
        "   -4.47100986e-02  -7.03895317e-02]\n",
        " [  4.13903116e-02  -4.10158710e-02   2.47727738e-03  -1.49867984e-02\n",
        "    4.00356845e-02   4.08317497e-02   4.16038554e-02  -4.80596490e-02\n",
        "   -4.04099777e-02  -6.42911233e-02]\n",
        " [  3.84544849e-02  -3.63126501e-02  -1.13929210e-02  -2.60663391e-02\n",
        "    4.45050652e-02   3.19319870e-02   4.34321271e-02  -4.50696796e-02\n",
        "   -2.86767747e-02  -5.14392825e-02]\n",
        " [  3.55946861e-02  -2.96707610e-02  -2.76470599e-02  -3.98351618e-02\n",
        "    4.92303847e-02   2.26665794e-02   4.50177026e-02  -4.12715998e-02\n",
        "   -1.36375323e-02  -3.72684169e-02]\n",
        " [  3.38971886e-02  -2.38308748e-02  -4.00596570e-02  -5.04555636e-02\n",
        "    5.23444388e-02   1.63896474e-02   4.57364314e-02  -3.83687622e-02\n",
        "   -1.52303612e-03  -2.71335877e-02]\n",
        " [  3.40225601e-02  -2.10918037e-02  -4.40826790e-02  -5.32448692e-02\n",
        "    5.26737999e-02   1.53363510e-02   4.52971383e-02  -3.78613991e-02\n",
        "    2.19334391e-03  -2.45584269e-02]\n",
        " [  3.59679671e-02  -2.24313394e-02  -3.80572509e-02  -4.71826159e-02\n",
        "    5.01111457e-02   2.01118733e-02   4.38627140e-02  -3.99431160e-02\n",
        "   -4.12555216e-03  -3.05817695e-02]\n",
        " [  3.90005903e-02  -2.72808148e-02  -2.39460111e-02  -3.51782401e-02\n",
        "    4.56279154e-02   2.91928678e-02   4.20037403e-02  -4.34337157e-02\n",
        "   -1.73878233e-02  -4.33227916e-02]\n",
        " [  4.18870892e-02  -3.37971284e-02  -7.23006560e-03  -2.22231812e-02\n",
        "    4.09553446e-02   3.89831982e-02   4.04725508e-02  -4.67668176e-02\n",
        "   -3.17997064e-02  -5.79680135e-02]\n",
        " [  4.34288488e-02  -3.94754775e-02   5.11871461e-03  -1.30822431e-02\n",
        "    3.79635314e-02   4.52285348e-02   3.98813645e-02  -4.88623006e-02\n",
        "   -4.19582721e-02  -6.83485620e-02]\n",
        " [  4.30145672e-02  -4.20320330e-02   7.92515406e-03  -1.09267586e-02\n",
        "    3.79004505e-02   4.52442791e-02   4.04535992e-02  -4.91984752e-02\n",
        "   -4.45415051e-02  -6.99113509e-02]\n",
        " [  4.08560707e-02  -4.03480771e-02   1.94437065e-04  -1.67485777e-02\n",
        "    4.08133715e-02   3.92609135e-02   4.19542779e-02  -4.75883937e-02\n",
        "   -3.85710052e-02  -6.21105272e-02]\n",
        " [  3.78387466e-02  -3.50574028e-02  -1.46634878e-02  -2.87818248e-02\n",
        "    4.54943019e-02   2.99896175e-02   4.37920756e-02  -4.43287030e-02\n",
        "   -2.57516416e-02  -4.85245250e-02]\n",
        " [  3.51333528e-02  -2.83523452e-02  -3.06175868e-02  -4.23979038e-02\n",
        "    5.00330886e-02   2.10808637e-02   4.52462803e-02  -4.05608117e-02\n",
        "   -1.07724520e-02  -3.47741754e-02]\n",
        " [  3.37660623e-02  -2.29819787e-02  -4.16359802e-02  -5.17347541e-02\n",
        "    5.26529044e-02   1.57149122e-02   4.57428718e-02  -3.80463748e-02\n",
        "    1.42687117e-05  -2.59427914e-02]\n",
        " [  3.42794397e-02  -2.10302347e-02  -4.36746043e-02  -5.26968102e-02\n",
        "    5.23760134e-02   1.58404396e-02   4.50765866e-02  -3.80931768e-02\n",
        "    1.69632005e-03  -2.50907003e-02]\n",
        " [  3.65225019e-02  -2.31641989e-02  -3.57509739e-02  -4.51113630e-02\n",
        "    4.93205314e-02   2.16732394e-02   4.35014787e-02  -4.05808432e-02\n",
        "   -6.38961709e-03  -3.27085106e-02]\n",
        " [  3.96324646e-02  -2.85263650e-02  -2.05897544e-02  -3.24951885e-02\n",
        "    4.46459370e-02   3.12346093e-02   4.16476547e-02  -4.41573124e-02\n",
        "   -2.03737697e-02  -4.62941665e-02]\n",
        " [  4.23337753e-02  -3.50824050e-02  -4.19892228e-03  -1.99607136e-02\n",
        "    4.01688992e-02   4.06377819e-02   4.02653560e-02  -4.73079136e-02\n",
        "   -3.43117085e-02  -6.05743392e-02]\n",
        " [  4.35076267e-02  -4.02945780e-02   6.54372099e-03  -1.20260234e-02\n",
        "    3.76955422e-02   4.57671158e-02   3.99038531e-02  -4.90804884e-02\n",
        "   -4.31463819e-02  -6.94504136e-02]\n",
        " [  4.27017475e-02  -4.20409671e-02   7.16995192e-03  -1.14657946e-02\n",
        "    3.82674342e-02   4.44682291e-02   4.06943924e-02  -4.90322344e-02\n",
        "   -4.40198050e-02  -6.90369304e-02]\n",
        " [  4.02851066e-02  -3.95263807e-02  -2.37859011e-03  -1.87691608e-02\n",
        "    4.16642690e-02   3.75556253e-02   4.23178079e-02  -4.70454961e-02\n",
        "   -3.64463598e-02  -5.96878493e-02]\n",
        " [  3.72352819e-02  -3.37413677e-02  -1.79756040e-02  -3.15656029e-02\n",
        "    4.64774220e-02   2.80637265e-02   4.41357874e-02  -4.35634852e-02\n",
        "   -2.27331048e-02  -4.56034921e-02]\n",
        " [  3.47267909e-02  -2.70884379e-02  -3.33828509e-02  -4.47836017e-02\n",
        "    5.07563684e-02   1.96410364e-02   4.54351204e-02  -3.99008370e-02\n",
        "   -8.07939787e-03  -3.24825550e-02]\n",
        " [  3.37122803e-02  -2.22739918e-02  -4.28427388e-02  -5.26653631e-02\n",
        "    5.28418937e-02   1.52654260e-02   4.57011583e-02  -3.78311885e-02\n",
        "    1.17279371e-03  -2.50787408e-02]\n",
        " [  3.46078472e-02  -2.11367991e-02  -4.28555005e-02  -5.17942542e-02\n",
        "    5.19636379e-02   1.65802378e-02   4.48183518e-02  -3.84267472e-02\n",
        "    7.92813621e-04  -2.59712526e-02]\n",
        " [  3.71131349e-02  -2.40298964e-02  -3.31434868e-02  -4.28338428e-02\n",
        "    4.84629334e-02   2.33906479e-02   4.31286556e-02  -4.12622921e-02\n",
        "   -8.89640968e-03  -3.50835661e-02]\n",
        " [  4.02474419e-02  -2.98213011e-02  -1.71810002e-02  -2.98179283e-02\n",
        "    4.36718564e-02   3.32710876e-02   4.13111171e-02  -4.48615843e-02\n",
        "   -2.33540338e-02  -4.92964664e-02]\n",
        " [  4.27170451e-02  -3.63125550e-02  -1.40204657e-03  -1.78881128e-02\n",
        "    3.94651614e-02   4.21145548e-02   4.01004130e-02  -4.77921856e-02\n",
        "   -3.66119745e-02  -6.29568729e-02]\n",
        " [  4.35044166e-02  -4.09705808e-02   7.54896037e-03  -1.12719555e-02\n",
        "    3.75536689e-02   4.60382212e-02   3.99739321e-02  -4.92250392e-02\n",
        "   -4.40087477e-02  -7.01659278e-02]\n",
        " [  4.23224624e-02  -4.18733454e-02   5.99352683e-03  -1.23287897e-02\n",
        "    3.87514962e-02   4.34601560e-02   4.09695720e-02  -4.87867257e-02\n",
        "   -4.31512506e-02  -6.77918193e-02]\n",
        " [  3.96881874e-02  -3.85689776e-02  -5.20054974e-03  -2.10190844e-02\n",
        "    4.25736353e-02   3.57454197e-02   4.26893744e-02  -4.64396247e-02\n",
        "   -3.40659043e-02  -5.70709606e-02]\n",
        " [  3.66542324e-02  -3.23896182e-02  -2.12781076e-02  -3.43690039e-02\n",
        "    4.74381154e-02   2.61830843e-02   4.44580833e-02  -4.27891469e-02\n",
        "   -1.96724892e-02  -4.27247028e-02]\n",
        " [  3.43817564e-02  -2.59011300e-02  -3.59026065e-02  -4.69477011e-02\n",
        "    5.13888974e-02   1.83673949e-02   4.55812899e-02  -3.93069955e-02\n",
        "   -5.60954021e-03  -3.04269064e-02]\n",
        " [  3.37372777e-02  -2.17181270e-02  -4.36612664e-02  -5.32316037e-02\n",
        "    5.29086353e-02   1.50493970e-02   4.56119491e-02  -3.77280627e-02\n",
        "    1.93011545e-03  -2.45549271e-02]\n",
        " [  3.50029794e-02  -2.14094881e-02  -4.16348366e-02  -5.05566135e-02\n",
        "    5.14430524e-02   1.75474222e-02   4.45266846e-02  -3.88536063e-02\n",
        "   -4.97799518e-04  -2.71906927e-02]\n",
        " [  3.77300486e-02  -2.50150695e-02  -3.02754586e-02  -4.03907422e-02\n",
        "    4.75518613e-02   2.52369646e-02   4.27505238e-02  -4.19738235e-02\n",
        "   -1.15984165e-02  -3.76716919e-02]]\n"
       ]
      }
     ],
     "prompt_number": 9
    },
    {
     "cell_type": "code",
     "collapsed": false,
     "input": [
      "#this is how you convert the outputs into proper format from those given \n",
      "#please remember to use the transformation below \n",
      "zs=array([p[0] for p in pred])\n",
      "print y.shape \n",
      "deltas=zs-y\n",
      "print deltas"
     ],
     "language": "python",
     "metadata": {},
     "outputs": [
      {
       "output_type": "stream",
       "stream": "stdout",
       "text": [
        "(50,)\n",
        "[ 0.0190675  -0.56707048 -0.92075457 -0.89771848 -0.50504464  0.10241951\n",
        "  0.6839571   1.00883875  0.9481559   0.52612728 -0.0895387  -0.65430998\n",
        " -0.94391868 -0.84334687 -0.39249343  0.22961311  0.77587268  1.0292763\n",
        "  0.88916532  0.41123497 -0.21465399 -0.73994439 -0.95605737 -0.77715769\n",
        " -0.27425215  0.35294696  0.85530561  1.03325228  0.81611092  0.29017709\n",
        " -0.33563454 -0.81280899 -0.95187149 -0.69757625 -0.15087352  0.47111902\n",
        "  0.9213261   1.02089406  0.7302904   0.1649903  -0.45047011 -0.87169558\n",
        " -0.9314235  -0.60590593 -0.02438203  0.58218913  0.97285018  0.99240513\n",
        "  0.63311351  0.03773005]\n"
       ]
      }
     ],
     "prompt_number": 10
    },
    {
     "cell_type": "code",
     "collapsed": false,
     "input": [
      "#lets see if the deltas calculated above work \n",
      "len(lstm.backward(deltas))\n",
      "lstm.info()\n",
      "def update(lr):\n",
      "    lstm.WIP=lstm.WIP-lr*lstm.DWIP\n",
      "    lstm.WFP=lstm.WFP -lr*lstm.DWFP \n",
      "    lstm.WOP=lstm.WOP-lr*lstm.DWOP\n",
      "    lstm.WGI=lstm.WGI-lr*lstm.DWGI\n",
      "    lstm.WGF=lstm.WGF-lr*lstm.DWGF\n",
      "    lstm.WGO=lstm.WGO-lr*lstm.DWGO\n",
      "    lstm.WCI=lstm.WCI-lr*lstm.DWCI\n",
      "    "
     ],
     "language": "python",
     "metadata": {},
     "outputs": [
      {
       "output_type": "stream",
       "stream": "stdout",
       "text": [
        "WFP (10,) -0.0922068112505 0.0952048638856\n",
        "WGF (10, 12) -0.0939818912708 0.0995024069816\n",
        "WGI (10, 12) -0.0983417139976 0.0976301306142\n",
        "WGO (10, 12) -0.0994365066341 0.0989668670316\n",
        "WIP (10,) -0.0931900064592 0.095949985127\n",
        "WOP (10,) -0.0624779294353 0.0850089134025\n",
        "ci (5000, 10) nan nan\n",
        "cierr (5000, 10) nan nan\n",
        "cix (5000, 10) nan nan\n",
        "gf (5000, 10) nan nan\n",
        "gferr (5000, 10) nan nan\n",
        "gfx (5000, 10) nan nan\n",
        "gi (5000, 10) nan nan\n",
        "gierr (5000, 10) nan nan\n",
        "gix (5000, 10) nan nan\n",
        "go (5000, 10) nan nan\n",
        "goerr (5000, 10) nan nan\n",
        "gox (5000, 10) nan nan\n",
        "output (5000, 10) nan nan\n",
        "source (5000, 12) nan nan\n",
        "state (5000, 10) nan nan\n",
        "stateerr (5000, 10) nan nan\n"
       ]
      }
     ],
     "prompt_number": 11
    },
    {
     "cell_type": "code",
     "collapsed": false,
     "input": [
      "update(0.01)"
     ],
     "language": "python",
     "metadata": {},
     "outputs": [],
     "prompt_number": 12
    },
    {
     "cell_type": "code",
     "collapsed": false,
     "input": [
      "print lstm.WGI"
     ],
     "language": "python",
     "metadata": {},
     "outputs": [
      {
       "output_type": "stream",
       "stream": "stdout",
       "text": [
        "[[-0.06610955  0.09018736  0.00201165 -0.06611828  0.03174848  0.00348663\n",
        "   0.0074384  -0.0281643   0.0009899  -0.07639032 -0.02132076  0.0868042 ]\n",
        " [ 0.08050179  0.04104922  0.02460217  0.03660305  0.01949758 -0.02541636\n",
        "  -0.07256882  0.06452345  0.00795039  0.07673076 -0.02474412 -0.06203141]\n",
        " [ 0.06952123 -0.0293559   0.02981147 -0.00660032  0.06003255  0.09686094\n",
        "  -0.09820342  0.09667195  0.06914034 -0.07668327  0.08794998  0.09349279]\n",
        " [-0.0597054  -0.06699289  0.04311758  0.07842011 -0.09053474 -0.02078629\n",
        "   0.01202043 -0.08914326  0.01873467  0.03230855  0.07761356  0.09653629]\n",
        " [-0.04060414 -0.00547957  0.06564747 -0.05118867 -0.00550094 -0.01225813\n",
        "   0.03147367  0.01738327 -0.01830304  0.09106769  0.08334765 -0.05945788]\n",
        " [-0.03346717  0.07464883  0.01973255  0.0278453   0.01665546  0.04111538\n",
        "   0.04199105 -0.0695484   0.05788829 -0.00415255 -0.09327137 -0.06206811]\n",
        " [-0.0842907   0.08548354 -0.09735025 -0.03707011 -0.01263853  0.03171674\n",
        "   0.09630591  0.08588544 -0.09562528  0.0014436   0.08095762  0.04008866]\n",
        " [ 0.08765425 -0.07413599  0.0851902   0.07624364  0.08300839  0.07696813\n",
        "   0.07910444 -0.09303088  0.08061617  0.01570445 -0.06849769  0.02870613]\n",
        " [-0.09336229  0.0135294  -0.00745823  0.01694514 -0.01007377  0.04504176\n",
        "  -0.06110775  0.03995825 -0.07090261  0.04745325  0.08339586  0.0977458 ]\n",
        " [ 0.00701354 -0.00142716  0.05657282 -0.05376089 -0.02384504  0.04011563\n",
        "   0.01062654  0.04731029 -0.09792943  0.06719036  0.06195742  0.0272982 ]]\n"
       ]
      }
     ],
     "prompt_number": 13
    },
    {
     "cell_type": "code",
     "collapsed": false,
     "input": [
      "class lstm(LSTM):\n",
      "    '''lstm that inherits from the LSTM class with an added update function'''\n",
      "    def update(self,lr):\n",
      "        self.WIP=self.WIP-lr*self.DWIP\n",
      "        self.WFP=self.WFP -lr*self.DWFP \n",
      "        self.WOP=self.WOP-lr*self.DWOP\n",
      "        self.WGI=self.WGI-lr*self.DWGI\n",
      "        self.WGF=self.WGF-lr*self.DWGF\n",
      "        self.WGO=self.WGO-lr*self.DWGO\n",
      "        self.WCI=self.WCI-lr*self.DWCI\n",
      "    def predict(self,sequence):\n",
      "        \"\"\"Returns the predicted output when 1 single sequence is passed through the network\"\"\"\n",
      "        assert len(sequence)>0\n",
      "        return self.forward(sequence)\n",
      "    \n",
      "#now we define the trainer class \n",
      "class Trainer():\n",
      "    def __init__(self,net,numepochs,inputs,targets,lr):\n",
      "        self.net=net\n",
      "        self.inputs=inputs\n",
      "        self.targets=targets\n",
      "        self.lr=lr\n",
      "        self.numepochs=numepochs\n",
      "    def train(self):\n",
      "       #calls to self.net.forward , backward and update \n",
      "       #return the error\n",
      "       errors=[]\n",
      "       for epoch in range(self.numepochs):\n",
      "        error=0\n",
      "        for i in range  (len(self.inputs)):\n",
      "            #each seq is a collection of values over time \n",
      "            #we need to call forward , backward and update for each seq \n",
      "            #prepare each seq first \n",
      "            seq=self.inputs[i]  \n",
      "            s=[[i] for i in seq]\n",
      "            pred=self.net.forward(s)\n",
      "            pred=array([p[0] for p in pred])\n",
      "            #now get the deltas for the whole sequence and propagate them back over time \n",
      "            deltas=pred-self.targets[i]\n",
      "            self.net.backward(deltas)\n",
      "            self.net.update(self.lr)\n",
      "            #so basically we do BPTT for one seq at a time for all the seqs \n",
      "            error=error+(sum(deltas**2)/(len(self.targets[i])*1.0))\n",
      "        error_epoch=0.5*error/(len(self.inputs))\n",
      "        print \"Error in epoch \" , epoch ,\"is :\" ,error_epoch\n",
      "        errors.append(error_epoch)\n",
      "       return errors     "
     ],
     "language": "python",
     "metadata": {},
     "outputs": [],
     "prompt_number": 36
    },
    {
     "cell_type": "code",
     "collapsed": false,
     "input": [
      "#generate a dataset of sine waves with diff freqs \n",
      "omegas=[i for i in range(1,11)]\n",
      "x=linspace(-10,10)\n",
      "sequences=array([exp(-x**2/(2.0*omega**2)) for omega in omegas])\n",
      "print sequences"
     ],
     "language": "python",
     "metadata": {},
     "outputs": [
      {
       "output_type": "stream",
       "stream": "stdout",
       "text": [
        "[[  1.92874985e-22   1.05130882e-20   4.85101310e-19   1.89488265e-17\n",
        "    6.26584898e-16   1.75398252e-14   4.15640953e-13   8.33794709e-12\n",
        "    1.41594920e-10   2.03556016e-09   2.47723921e-08   2.55211172e-07\n",
        "    2.22576419e-06   1.64326026e-05   1.02702565e-04   5.43380385e-04\n",
        "    2.43374100e-03   9.22767933e-03   2.96181796e-02   8.04770343e-02\n",
        "    1.85111456e-01   3.60447789e-01   5.94154193e-01   8.29093862e-01\n",
        "    9.79390679e-01   9.79390679e-01   8.29093862e-01   5.94154193e-01\n",
        "    3.60447789e-01   1.85111456e-01   8.04770343e-02   2.96181796e-02\n",
        "    9.22767933e-03   2.43374100e-03   5.43380385e-04   1.02702565e-04\n",
        "    1.64326026e-05   2.22576419e-06   2.55211172e-07   2.47723921e-08\n",
        "    2.03556016e-09   1.41594920e-10   8.33794709e-12   4.15640953e-13\n",
        "    1.75398252e-14   6.26584898e-16   1.89488265e-17   4.85101310e-19\n",
        "    1.05130882e-20   1.92874985e-22]\n",
        " [  3.72665317e-06   1.01258754e-05   2.63911377e-05   6.59774581e-05\n",
        "    1.58214026e-04   3.63920328e-04   8.02933509e-04   1.69927937e-03\n",
        "    3.44954582e-03   6.71693252e-03   1.25456159e-02   2.24763052e-02\n",
        "    3.86251152e-02   6.36687888e-02   1.00668900e-01   1.52677834e-01\n",
        "    2.22110244e-01   3.09936785e-01   4.14848563e-01   5.32620638e-01\n",
        "    6.55931254e-01   7.74837429e-01   8.77960125e-01   9.54225295e-01\n",
        "    9.94807364e-01   9.94807364e-01   9.54225295e-01   8.77960125e-01\n",
        "    7.74837429e-01   6.55931254e-01   5.32620638e-01   4.14848563e-01\n",
        "    3.09936785e-01   2.22110244e-01   1.52677834e-01   1.00668900e-01\n",
        "    6.36687888e-02   3.86251152e-02   2.24763052e-02   1.25456159e-02\n",
        "    6.71693252e-03   3.44954582e-03   1.69927937e-03   8.02933509e-04\n",
        "    3.63920328e-04   1.58214026e-04   6.59774581e-05   2.63911377e-05\n",
        "    1.01258754e-05   3.72665317e-06]\n",
        " [  3.86592014e-03   6.02826391e-03   9.22767933e-03   1.38660765e-02\n",
        "    2.04538726e-02   2.96181796e-02   4.21019331e-02   5.87498241e-02\n",
        "    8.04770343e-02   1.08217679e-01   1.42851672e-01   1.85111456e-01\n",
        "    2.35473548e-01   2.94043658e-01   3.60447789e-01   4.33744292e-01\n",
        "    5.12372769e-01   5.94154193e-01   6.76352581e-01   7.55801929e-01\n",
        "    8.29093862e-01   8.92812502e-01   9.43795028e-01   9.79390679e-01\n",
        "    9.97688824e-01   9.97688824e-01   9.79390679e-01   9.43795028e-01\n",
        "    8.92812502e-01   8.29093862e-01   7.55801929e-01   6.76352581e-01\n",
        "    5.94154193e-01   5.12372769e-01   4.33744292e-01   3.60447789e-01\n",
        "    2.94043658e-01   2.35473548e-01   1.85111456e-01   1.42851672e-01\n",
        "    1.08217679e-01   8.04770343e-02   5.87498241e-02   4.21019331e-02\n",
        "    2.96181796e-02   2.04538726e-02   1.38660765e-02   9.22767933e-03\n",
        "    6.02826391e-03   3.86592014e-03]\n",
        " [  4.39369336e-02   5.64102656e-02   7.16744762e-02   9.01257506e-02\n",
        "    1.12153090e-01   1.38118413e-01   1.68333245e-01   2.03032796e-01\n",
        "    2.42348580e-01   2.86281146e-01   3.34674788e-01   3.87196328e-01\n",
        "    4.43320125e-01   5.02321361e-01   5.63279351e-01   6.25092081e-01\n",
        "    6.86502538e-01   7.46136492e-01   8.02550552e-01   8.54288377e-01\n",
        "    8.99942125e-01   9.38215596e-01   9.67985157e-01   9.88354471e-01\n",
        "    9.98699306e-01   9.98699306e-01   9.88354471e-01   9.67985157e-01\n",
        "    9.38215596e-01   8.99942125e-01   8.54288377e-01   8.02550552e-01\n",
        "    7.46136492e-01   6.86502538e-01   6.25092081e-01   5.63279351e-01\n",
        "    5.02321361e-01   4.43320125e-01   3.87196328e-01   3.34674788e-01\n",
        "    2.86281146e-01   2.42348580e-01   2.03032796e-01   1.68333245e-01\n",
        "    1.38118413e-01   1.12153090e-01   9.01257506e-02   7.16744762e-02\n",
        "    5.64102656e-02   4.39369336e-02]\n",
        " [  1.35335283e-01   1.58806843e-01   1.85111456e-01   2.14340033e-01\n",
        "    2.46535348e-01   2.81683242e-01   3.19704488e-01   3.60447789e-01\n",
        "    4.03684344e-01   4.49104449e-01   4.96316505e-01   5.44848786e-01\n",
        "    5.94154193e-01   6.43618108e-01   6.92569324e-01   7.40293879e-01\n",
        "    7.86051452e-01   8.29093862e-01   8.68685024e-01   9.04121670e-01\n",
        "    9.34753999e-01   9.60005441e-01   9.79390679e-01   9.92531155e-01\n",
        "    9.99167361e-01   9.99167361e-01   9.92531155e-01   9.79390679e-01\n",
        "    9.60005441e-01   9.34753999e-01   9.04121670e-01   8.68685024e-01\n",
        "    8.29093862e-01   7.86051452e-01   7.40293879e-01   6.92569324e-01\n",
        "    6.43618108e-01   5.94154193e-01   5.44848786e-01   4.96316505e-01\n",
        "    4.49104449e-01   4.03684344e-01   3.60447789e-01   3.19704488e-01\n",
        "    2.81683242e-01   2.46535348e-01   2.14340033e-01   1.85111456e-01\n",
        "    1.58806843e-01   1.35335283e-01]\n",
        " [  2.49352209e-01   2.78642953e-01   3.09936785e-01   3.43153472e-01\n",
        "    3.78175933e-01   4.14848563e-01   4.52976330e-01   4.92324720e-01\n",
        "    5.32620638e-01   5.73554318e-01   6.14782267e-01   6.55931254e-01\n",
        "    6.96603307e-01   7.36381644e-01   7.74837429e-01   8.11537221e-01\n",
        "    8.46050935e-01   8.77960125e-01   9.06866351e-01   9.32399429e-01\n",
        "    9.54225295e-01   9.72053270e-01   9.85642499e-01   9.94807364e-01\n",
        "    9.99421705e-01   9.99421705e-01   9.94807364e-01   9.85642499e-01\n",
        "    9.72053270e-01   9.54225295e-01   9.32399429e-01   9.06866351e-01\n",
        "    8.77960125e-01   8.46050935e-01   8.11537221e-01   7.74837429e-01\n",
        "    7.36381644e-01   6.96603307e-01   6.55931254e-01   6.14782267e-01\n",
        "    5.73554318e-01   5.32620638e-01   4.92324720e-01   4.52976330e-01\n",
        "    4.14848563e-01   3.78175933e-01   3.43153472e-01   3.09936785e-01\n",
        "    2.78642953e-01   2.49352209e-01]\n",
        " [  3.60447789e-01   3.91093151e-01   4.22903694e-01   4.55749467e-01\n",
        "    4.89479248e-01   5.23921018e-01   5.58882849e-01   5.94154193e-01\n",
        "    6.29507593e-01   6.64700802e-01   6.99479283e-01   7.33579071e-01\n",
        "    7.66729956e-01   7.98658934e-01   8.29093862e-01   8.57767266e-01\n",
        "    8.84420215e-01   9.08806188e-01   9.30694856e-01   9.49875694e-01\n",
        "    9.66161348e-01   9.79390679e-01   9.89431419e-01   9.96182369e-01\n",
        "    9.99575097e-01   9.99575097e-01   9.96182369e-01   9.89431419e-01\n",
        "    9.79390679e-01   9.66161348e-01   9.49875694e-01   9.30694856e-01\n",
        "    9.08806188e-01   8.84420215e-01   8.57767266e-01   8.29093862e-01\n",
        "    7.98658934e-01   7.66729956e-01   7.33579071e-01   6.99479283e-01\n",
        "    6.64700802e-01   6.29507593e-01   5.94154193e-01   5.58882849e-01\n",
        "    5.23921018e-01   4.89479248e-01   4.55749467e-01   4.22903694e-01\n",
        "    3.91093151e-01   3.60447789e-01]\n",
        " [  4.57833362e-01   4.87348390e-01   5.17417522e-01   5.47913781e-01\n",
        "    5.78699106e-01   6.09625177e-01   6.40534423e-01   6.71261206e-01\n",
        "    7.01633182e-01   7.31472809e-01   7.60598998e-01   7.88828890e-01\n",
        "    8.15979714e-01   8.41870733e-01   8.66325220e-01   8.89172452e-01\n",
        "    9.10249684e-01   9.29404071e-01   9.46494510e-01   9.61393374e-01\n",
        "    9.73988088e-01   9.84182553e-01   9.91898365e-01   9.97075816e-01\n",
        "    9.99674668e-01   9.99674668e-01   9.97075816e-01   9.91898365e-01\n",
        "    9.84182553e-01   9.73988088e-01   9.61393374e-01   9.46494510e-01\n",
        "    9.29404071e-01   9.10249684e-01   8.89172452e-01   8.66325220e-01\n",
        "    8.41870733e-01   8.15979714e-01   7.88828890e-01   7.60598998e-01\n",
        "    7.31472809e-01   7.01633182e-01   6.71261206e-01   6.40534423e-01\n",
        "    6.09625177e-01   5.78699106e-01   5.47913781e-01   5.17417522e-01\n",
        "    4.87348390e-01   4.57833362e-01]\n",
        " [  5.39407507e-01   5.66701935e-01   5.94154193e-01   6.21656386e-01\n",
        "    6.49095195e-01   6.76352581e-01   7.03306564e-01   7.29832086e-01\n",
        "    7.55801929e-01   7.81087705e-01   8.05560884e-01   8.29093862e-01\n",
        "    8.51561056e-01   8.72840011e-01   8.92812502e-01   9.11365620e-01\n",
        "    9.28392840e-01   9.43795028e-01   9.57481409e-01   9.69370451e-01\n",
        "    9.79390679e-01   9.87481386e-01   9.93593248e-01   9.97688824e-01\n",
        "    9.99742939e-01   9.99742939e-01   9.97688824e-01   9.93593248e-01\n",
        "    9.87481386e-01   9.79390679e-01   9.69370451e-01   9.57481409e-01\n",
        "    9.43795028e-01   9.28392840e-01   9.11365620e-01   8.92812502e-01\n",
        "    8.72840011e-01   8.51561056e-01   8.29093862e-01   8.05560884e-01\n",
        "    7.81087705e-01   7.55801929e-01   7.29832086e-01   7.03306564e-01\n",
        "    6.76352581e-01   6.49095195e-01   6.21656386e-01   5.94154193e-01\n",
        "    5.66701935e-01   5.39407507e-01]\n",
        " [  6.06530660e-01   6.31273129e-01   6.55931254e-01   6.80418046e-01\n",
        "    7.04644066e-01   7.28517943e-01   7.51946917e-01   7.74837429e-01\n",
        "    7.97095719e-01   8.18628461e-01   8.39343399e-01   8.59150005e-01\n",
        "    8.77960125e-01   8.95688635e-01   9.12254077e-01   9.27579281e-01\n",
        "    9.41591964e-01   9.54225295e-01   9.65418426e-01   9.75116981e-01\n",
        "    9.83273496e-01   9.89847803e-01   9.94807364e-01   9.98127536e-01\n",
        "    9.99791775e-01   9.99791775e-01   9.98127536e-01   9.94807364e-01\n",
        "    9.89847803e-01   9.83273496e-01   9.75116981e-01   9.65418426e-01\n",
        "    9.54225295e-01   9.41591964e-01   9.27579281e-01   9.12254077e-01\n",
        "    8.95688635e-01   8.77960125e-01   8.59150005e-01   8.39343399e-01\n",
        "    8.18628461e-01   7.97095719e-01   7.74837429e-01   7.51946917e-01\n",
        "    7.28517943e-01   7.04644066e-01   6.80418046e-01   6.55931254e-01\n",
        "    6.31273129e-01   6.06530660e-01]]\n"
       ]
      }
     ],
     "prompt_number": 80
    },
    {
     "cell_type": "code",
     "collapsed": false,
     "input": [
      "len(sequences)"
     ],
     "language": "python",
     "metadata": {},
     "outputs": [
      {
       "output_type": "pyout",
       "prompt_number": 81,
       "text": [
        "10"
       ]
      }
     ],
     "prompt_number": 81
    },
    {
     "cell_type": "code",
     "collapsed": false,
     "input": [
      "for s in sequences:\n",
      "    plot(s)"
     ],
     "language": "python",
     "metadata": {},
     "outputs": [
      {
       "output_type": "display_data",
       "png": "[encoded data removed]"
      }
     ],
     "prompt_number": 82
    },
    {
     "cell_type": "code",
     "collapsed": false,
     "input": [
      "rnn=lstm(1,25)\n",
      "trainer=Trainer(rnn,50,sequences,sequences,0.001)\n",
      "errs=trainer.train()"
     ],
     "language": "python",
     "metadata": {},
     "outputs": [
      {
       "output_type": "stream",
       "stream": "stdout",
       "text": [
        "Error in epoch  0 is : 0.0391166176131\n",
        "Error in epoch "
       ]
      },
      {
       "output_type": "stream",
       "stream": "stdout",
       "text": [
        " 1 is : 0.0369962962981\n",
        "Error in epoch "
       ]
      },
      {
       "output_type": "stream",
       "stream": "stdout",
       "text": [
        " 2 is : 0.0355228422484\n",
        "Error in epoch "
       ]
      },
      {
       "output_type": "stream",
       "stream": "stdout",
       "text": [
        " 3 is : 0.034483425147\n",
        "Error in epoch "
       ]
      },
      {
       "output_type": "stream",
       "stream": "stdout",
       "text": [
        " 4 is : 0.0337412850013\n",
        "Error in epoch "
       ]
      },
      {
       "output_type": "stream",
       "stream": "stdout",
       "text": [
        " 5 is : 0.0332044554421\n",
        "Error in epoch "
       ]
      },
      {
       "output_type": "stream",
       "stream": "stdout",
       "text": [
        " 6 is : 0.032809502659\n",
        "Error in epoch "
       ]
      },
      {
       "output_type": "stream",
       "stream": "stdout",
       "text": [
        " 7 is : 0.0325122159089\n",
        "Error in epoch "
       ]
      },
      {
       "output_type": "stream",
       "stream": "stdout",
       "text": [
        " 8 is : 0.032281772881\n",
        "Error in epoch "
       ]
      },
      {
       "output_type": "stream",
       "stream": "stdout",
       "text": [
        " 9 is : 0.0320968103242\n",
        "Error in epoch "
       ]
      },
      {
       "output_type": "stream",
       "stream": "stdout",
       "text": [
        " 10 is : 0.0319426557049\n",
        "Error in epoch "
       ]
      },
      {
       "output_type": "stream",
       "stream": "stdout",
       "text": [
        " 11 is : 0.031809337412\n",
        "Error in epoch "
       ]
      },
      {
       "output_type": "stream",
       "stream": "stdout",
       "text": [
        " 12 is : 0.0316901513953\n",
        "Error in epoch "
       ]
      },
      {
       "output_type": "stream",
       "stream": "stdout",
       "text": [
        " 13 is : 0.0315806370118\n",
        "Error in epoch "
       ]
      },
      {
       "output_type": "stream",
       "stream": "stdout",
       "text": [
        " 14 is : 0.0314778548186\n",
        "Error in epoch "
       ]
      },
      {
       "output_type": "stream",
       "stream": "stdout",
       "text": [
        " 15 is : 0.0313798848393\n",
        "Error in epoch "
       ]
      },
      {
       "output_type": "stream",
       "stream": "stdout",
       "text": [
        " 16 is : 0.0312854831766\n",
        "Error in epoch "
       ]
      },
      {
       "output_type": "stream",
       "stream": "stdout",
       "text": [
        " 17 is : 0.0311938502959\n",
        "Error in epoch "
       ]
      },
      {
       "output_type": "stream",
       "stream": "stdout",
       "text": [
        " 18 is : 0.0311044766672\n",
        "Error in epoch "
       ]
      },
      {
       "output_type": "stream",
       "stream": "stdout",
       "text": [
        " 19 is : 0.031017041111\n",
        "Error in epoch "
       ]
      },
      {
       "output_type": "stream",
       "stream": "stdout",
       "text": [
        " 20 is : 0.0309313445069\n",
        "Error in epoch "
       ]
      },
      {
       "output_type": "stream",
       "stream": "stdout",
       "text": [
        " 21 is : 0.0308472669008\n",
        "Error in epoch "
       ]
      },
      {
       "output_type": "stream",
       "stream": "stdout",
       "text": [
        " 22 is : 0.0307647399016\n",
        "Error in epoch "
       ]
      },
      {
       "output_type": "stream",
       "stream": "stdout",
       "text": [
        " 23 is : 0.0306837289496\n",
        "Error in epoch "
       ]
      },
      {
       "output_type": "stream",
       "stream": "stdout",
       "text": [
        " 24 is : 0.0306042218888\n",
        "Error in epoch "
       ]
      },
      {
       "output_type": "stream",
       "stream": "stdout",
       "text": [
        " 25 is : 0.0305262215267\n",
        "Error in epoch "
       ]
      },
      {
       "output_type": "stream",
       "stream": "stdout",
       "text": [
        " 26 is : 0.0304497406873\n",
        "Error in epoch "
       ]
      },
      {
       "output_type": "stream",
       "stream": "stdout",
       "text": [
        " 27 is : 0.030374798815\n",
        "Error in epoch "
       ]
      },
      {
       "output_type": "stream",
       "stream": "stdout",
       "text": [
        " 28 is : 0.0303014195322\n",
        "Error in epoch "
       ]
      },
      {
       "output_type": "stream",
       "stream": "stdout",
       "text": [
        " 29 is : 0.0302296287866\n",
        "Error in epoch "
       ]
      },
      {
       "output_type": "stream",
       "stream": "stdout",
       "text": [
        " 30 is : 0.0301594533624\n",
        "Error in epoch "
       ]
      },
      {
       "output_type": "stream",
       "stream": "stdout",
       "text": [
        " 31 is : 0.0300909196241\n",
        "Error in epoch "
       ]
      },
      {
       "output_type": "stream",
       "stream": "stdout",
       "text": [
        " 32 is : 0.0300240524173\n",
        "Error in epoch "
       ]
      },
      {
       "output_type": "stream",
       "stream": "stdout",
       "text": [
        " 33 is : 0.029958874086\n",
        "Error in epoch "
       ]
      },
      {
       "output_type": "stream",
       "stream": "stdout",
       "text": [
        " 34 is : 0.0298954035878\n",
        "Error in epoch "
       ]
      },
      {
       "output_type": "stream",
       "stream": "stdout",
       "text": [
        " 35 is : 0.0298336557027\n",
        "Error in epoch "
       ]
      },
      {
       "output_type": "stream",
       "stream": "stdout",
       "text": [
        " 36 is : 0.0297736403368\n",
        "Error in epoch "
       ]
      },
      {
       "output_type": "stream",
       "stream": "stdout",
       "text": [
        " 37 is : 0.0297153619289\n",
        "Error in epoch "
       ]
      },
      {
       "output_type": "stream",
       "stream": "stdout",
       "text": [
        " 38 is : 0.0296588189662\n",
        "Error in epoch "
       ]
      },
      {
       "output_type": "stream",
       "stream": "stdout",
       "text": [
        " 39 is : 0.0296040036199\n",
        "Error in epoch "
       ]
      },
      {
       "output_type": "stream",
       "stream": "stdout",
       "text": [
        " 40 is : 0.0295509015053\n",
        "Error in epoch "
       ]
      },
      {
       "output_type": "stream",
       "stream": "stdout",
       "text": [
        " 41 is : 0.0294994915709\n",
        "Error in epoch "
       ]
      },
      {
       "output_type": "stream",
       "stream": "stdout",
       "text": [
        " 42 is : 0.0294497461195\n",
        "Error in epoch "
       ]
      },
      {
       "output_type": "stream",
       "stream": "stdout",
       "text": [
        " 43 is : 0.029401630957\n",
        "Error in epoch "
       ]
      },
      {
       "output_type": "stream",
       "stream": "stdout",
       "text": [
        " 44 is : 0.0293551056643\n",
        "Error in epoch "
       ]
      },
      {
       "output_type": "stream",
       "stream": "stdout",
       "text": [
        " 45 is : 0.0293101239832\n",
        "Error in epoch "
       ]
      },
      {
       "output_type": "stream",
       "stream": "stdout",
       "text": [
        " 46 is : 0.0292666343026\n",
        "Error in epoch "
       ]
      },
      {
       "output_type": "stream",
       "stream": "stdout",
       "text": [
        " 47 is : 0.0292245802304\n",
        "Error in epoch "
       ]
      },
      {
       "output_type": "stream",
       "stream": "stdout",
       "text": [
        " 48 is : 0.0291839012333\n",
        "Error in epoch "
       ]
      },
      {
       "output_type": "stream",
       "stream": "stdout",
       "text": [
        " 49 is : 0.029144533325\n"
       ]
      }
     ],
     "prompt_number": 95
    },
    {
     "cell_type": "code",
     "collapsed": false,
     "input": [
      "plot(errs)"
     ],
     "language": "python",
     "metadata": {},
     "outputs": [
      {
       "output_type": "pyout",
       "prompt_number": 96,
       "text": [
        "[<matplotlib.lines.Line2D at 0x57e6e10>]"
       ]
      },
      {
       "output_type": "display_data",
       "png": "[encoded data removed]"
      }
     ],
     "prompt_number": 96
    },
    {
     "cell_type": "code",
     "collapsed": false,
     "input": [
      "from matplotlib import pyplot as plt \n",
      "fig=plt.figure()\n",
      "plt.plot(errs)\n",
      "fig.savefig(\"toy_sines.png\")"
     ],
     "language": "python",
     "metadata": {},
     "outputs": [
      {
       "output_type": "display_data",
       "png": "[encoded data removed]"
      }
     ],
     "prompt_number": 89
    },
    {
     "cell_type": "code",
     "collapsed": false,
     "input": [
      "fig = plt.figure()\n",
      "for s in sequences:\n",
      "    plt.plot(s)\n",
      "fig.savefig(\"gaussians.png\")"
     ],
     "language": "python",
     "metadata": {},
     "outputs": [
      {
       "output_type": "display_data",
       "png": "[encoded data removed]"
      }
     ],
     "prompt_number": 92
    },
    {
     "cell_type": "code",
     "collapsed": false,
     "input": [],
     "language": "python",
     "metadata": {},
     "outputs": []
    }
   ],
   "metadata": {}
  }
 ]
}