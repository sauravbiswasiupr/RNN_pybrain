{
 "metadata": {
  "name": "MLP_with_lstm_py"
 },
 "nbformat": 3,
 "nbformat_minor": 0,
 "worksheets": [
  {
   "cells": [
    {
     "cell_type": "code",
     "collapsed": false,
     "input": [
      "from numpy import * \n",
      "import cPickle \n",
      "from ocrolib.lstm  import MLP \n"
     ],
     "language": "python",
     "metadata": {},
     "outputs": [],
     "prompt_number": 1
    },
    {
     "cell_type": "code",
     "collapsed": false,
     "input": [
      "#need to load the MNIST data \n",
      "f=open(\"/home/saurav/Desktop/CVPR_work/ocropus/ocropy/mnist.pkl\",\"rb\")\n",
      "train,valid,test=cPickle.load(f) \n",
      "train_x,train_y = train\n",
      "valid_x,valid_y=valid \n",
      "test_x,test_y=test \n"
     ],
     "language": "python",
     "metadata": {},
     "outputs": [],
     "prompt_number": 2
    },
    {
     "cell_type": "code",
     "collapsed": false,
     "input": [
      "#now subclass the MLP class from MLP and add an update function to it \n",
      "class ffn(MLP):\n",
      "    \"\"\"class that implements a feedforward network \"\"\"\n",
      "    def update(inp,target,self):\n",
      "       \"\"\"Function that updates its parameter values after running forward and propagating deltas back\"\"\"\n",
      "       pred=self.forward(inp) \n",
      "       #post non linearity delta will be just pred - target \n",
      "       deltas=target-pred \n",
      "       delta_prev=self.backward(deltas) \n",
      "       #delta_prev will be used only when you have multiple such hidden layers where you have to propagate the deltas back through all \n",
      "  "
     ],
     "language": "python",
     "metadata": {},
     "outputs": [],
     "prompt_number": 3
    },
    {
     "cell_type": "code",
     "collapsed": false,
     "input": [
      "#now we will write a trainer function to wrap up the training process \n",
      "class Trainer():\n",
      "       \"\"\"Trainer class \"\"\"\n",
      "       def __init__(self,net,input_x,input_y,numepochs,lr=0.01,batchlearn=False):\n",
      "            self.net=net\n",
      "            self.lr=lr \n",
      "            self.input_x=input_x \n",
      "            self.input_y=input_y \n",
      "            self.batchlearn=False\n",
      "            self.numepochs=numepochs \n",
      "        def Train():\n",
      "            \"\"\"training method for this class \"\"\"\n",
      "            #check if mode is batch learn or not \n",
      "            if batchlearn==True : \n",
      "                self.w1_change=0 \n",
      "                self.w2_change=0\n",
      "                self.ds_length=len(self.input_x)\n",
      "                for epoch in range(self.numepochs):\n",
      "                    for i in range(self.ds_length):\n",
      "                      inp = self.input_x[i] \n",
      "                      "
     ],
     "language": "python",
     "metadata": {},
     "outputs": []
    }
   ],
   "metadata": {}
  }
 ]
}