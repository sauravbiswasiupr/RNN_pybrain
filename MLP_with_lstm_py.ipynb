{
 "metadata": {
  "name": "MLP_with_lstm_py"
 },
 "nbformat": 3,
 "nbformat_minor": 0,
 "worksheets": [
  {
   "cells": [
    {
     "cell_type": "code",
     "collapsed": false,
     "input": [
      "from numpy import * \n",
      "import cPickle \n",
      "from ocrolib.lstm  import MLP,randu"
     ],
     "language": "python",
     "metadata": {},
     "outputs": [],
     "prompt_number": 13
    },
    {
     "cell_type": "code",
     "collapsed": false,
     "input": [],
     "language": "python",
     "metadata": {},
     "outputs": [],
     "prompt_number": 13
    },
    {
     "cell_type": "code",
     "collapsed": false,
     "input": [
      "#now create a linear classification dataset \n",
      "#0.7x1+ 0.4x2 > 0.5 is the hyperplane, a straight line \n",
      "def make_linear():\n",
      "    #makes a linearly separable dataset \n",
      "    data=random_sample((1000,2))\n",
      "    labels=array(1*(data[:,0]*0.7 + data[:,1]*0.4 > 0.5))\n",
      "    return data,labels "
     ],
     "language": "python",
     "metadata": {},
     "outputs": [],
     "prompt_number": 34
    },
    {
     "cell_type": "code",
     "collapsed": false,
     "input": [
      "data,labels = make_linear()\n",
      "print data[:4] \n",
      "print labels[:4] "
     ],
     "language": "python",
     "metadata": {},
     "outputs": [
      {
       "output_type": "stream",
       "stream": "stdout",
       "text": [
        "[[ 0.45130225  0.36954525]\n",
        " [ 0.51565266  0.256414  ]\n",
        " [ 0.04076538  0.44002304]\n",
        " [ 0.4693968   0.9268288 ]]\n",
        "[0 0 0 1]\n"
       ]
      }
     ],
     "prompt_number": 35
    },
    {
     "cell_type": "code",
     "collapsed": false,
     "input": [
      "#now we have linearly separable data \n",
      "#We have to construct the MLP classifier from the lstm.py class\n",
      "class ffn(MLP): \n",
      "    '''Feedforward network which inherits from the MLP class'''\n",
      "    #forward and backward have already been defined in the super class and we dont change it \n",
      "    def update(self,inputs,targets):\n",
      "        #forward call first to get the predicted outputs \n",
      "        predicted=array(self.forward(inputs)).reshape((targets.shape[0]))\n",
      "        #now subtract it from targets to get deltas for each datapt\n",
      "        deltas=targets-predicted\n",
      "        '''print \"targets shape :\",targets.shape \n",
      "        print \"predicted shape :\",predicted.shape \n",
      "        print \"deltas shape : \",deltas.shape''' \n",
      "        error=0.5*sum(deltas**2)\n",
      "        #propagate the deltas back \n",
      "        deltas_prev=self.backward(deltas)\n",
      "        #returns the deltas for the previous layer ( if at all present)\n",
      "        #now return the total weight changes for all the datapts in one epoch\n",
      "        return self.DW1 , self.DW2 , error"
     ],
     "language": "python",
     "metadata": {},
     "outputs": [],
     "prompt_number": 45
    },
    {
     "cell_type": "code",
     "collapsed": false,
     "input": [
      "#now we construct the trainer class\n",
      "class Trainer():\n",
      "    def __init__(self,net,numepochs,inputs,targets,lr):\n",
      "       #initialize the network and other params \n",
      "       self.net = net \n",
      "       self.numepochs=numepochs \n",
      "       self.inputs=inputs\n",
      "       self.targets=targets\n",
      "       self.lr = lr \n",
      "    def train(self):\n",
      "       errors=[] \n",
      "       for epoch in range(self.numepochs):\n",
      "            DW1,DW2,error=self.net.update(self.inputs,self.targets)\n",
      "            errors.append(error/(len(self.inputs)*1.0))\n",
      "            print \"Error in epoch \" , epoch , \"is :\",error/(len(self.inputs*1.0))\n",
      "            self.net.W1=self.net.W1 - self.lr*DW1\n",
      "            self.net.W2=self.net.W2 - self.lr*DW2\n",
      "       \n",
      "       return errors"
     ],
     "language": "python",
     "metadata": {},
     "outputs": [],
     "prompt_number": 48
    },
    {
     "cell_type": "code",
     "collapsed": false,
     "input": [
      "mlp=ffn(2,5,1,0.5)\n",
      "trainer=Trainer(mlp,1000,data,labels,0.01)\n",
      "errors=trainer.train()\n",
      "plot(errors)"
     ],
     "language": "python",
     "metadata": {},
     "outputs": [
      {
       "output_type": "stream",
       "stream": "stdout",
       "text": [
        "Error in epoch  0 is : 0.133207753634\n",
        "Error in epoch "
       ]
      },
      {
       "output_type": "stream",
       "stream": "stdout",
       "text": [
        " 1 is : 0.192930494169\n",
        "Error in epoch "
       ]
      },
      {
       "output_type": "stream",
       "stream": "stdout",
       "text": [
        " 2 is : 0.263784971255\n",
        "Error in epoch "
       ]
      },
      {
       "output_type": "stream",
       "stream": "stdout",
       "text": [
        " 3 is : 0.275333380115\n",
        "Error in epoch "
       ]
      },
      {
       "output_type": "stream",
       "stream": "stdout",
       "text": [
        " 4 is : 0.279445078698\n",
        "Error in epoch "
       ]
      },
      {
       "output_type": "stream",
       "stream": "stdout",
       "text": [
        " 5 is : 0.281594678432\n",
        "Error in epoch "
       ]
      },
      {
       "output_type": "stream",
       "stream": "stdout",
       "text": [
        " 6 is : 0.282922693178\n",
        "Error in epoch "
       ]
      },
      {
       "output_type": "stream",
       "stream": "stdout",
       "text": [
        " 7 is : 0.283826007919\n",
        "Error in epoch "
       ]
      },
      {
       "output_type": "stream",
       "stream": "stdout",
       "text": [
        " 8 is : 0.284480574703\n",
        "Error in epoch "
       ]
      },
      {
       "output_type": "stream",
       "stream": "stdout",
       "text": [
        " 9 is : 0.284976725286\n",
        "Error in epoch "
       ]
      },
      {
       "output_type": "stream",
       "stream": "stdout",
       "text": [
        " 10 is : 0.285365706427\n",
        "Error in epoch "
       ]
      },
      {
       "output_type": "stream",
       "stream": "stdout",
       "text": [
        " 11 is : 0.285678790307\n",
        "Error in epoch "
       ]
      },
      {
       "output_type": "stream",
       "stream": "stdout",
       "text": [
        " 12 is : 0.285936154935\n",
        "Error in epoch "
       ]
      },
      {
       "output_type": "stream",
       "stream": "stdout",
       "text": [
        " 13 is : 0.286151407903\n",
        "Error in epoch "
       ]
      },
      {
       "output_type": "stream",
       "stream": "stdout",
       "text": [
        " 14 is : 0.286334061257\n",
        "Error in epoch "
       ]
      },
      {
       "output_type": "stream",
       "stream": "stdout",
       "text": [
        " 15 is : 0.286490965146\n",
        "Error in epoch "
       ]
      },
      {
       "output_type": "stream",
       "stream": "stdout",
       "text": [
        " 16 is : 0.286627178265\n",
        "Error in epoch "
       ]
      },
      {
       "output_type": "stream",
       "stream": "stdout",
       "text": [
        " 17 is : 0.286746517523\n",
        "Error in epoch "
       ]
      },
      {
       "output_type": "stream",
       "stream": "stdout",
       "text": [
        " 18 is : 0.286851916964\n",
        "Error in epoch "
       ]
      },
      {
       "output_type": "stream",
       "stream": "stdout",
       "text": [
        " 19 is : 0.28694566897\n",
        "Error in epoch "
       ]
      },
      {
       "output_type": "stream",
       "stream": "stdout",
       "text": [
        " 20 is : 0.287029590482\n",
        "Error in epoch "
       ]
      },
      {
       "output_type": "stream",
       "stream": "stdout",
       "text": [
        " 21 is : 0.28710514009\n",
        "Error in epoch "
       ]
      },
      {
       "output_type": "stream",
       "stream": "stdout",
       "text": [
        " 22 is : 0.287173502156\n",
        "Error in epoch "
       ]
      },
      {
       "output_type": "stream",
       "stream": "stdout",
       "text": [
        " 23 is : 0.2872356483\n",
        "Error in epoch "
       ]
      },
      {
       "output_type": "stream",
       "stream": "stdout",
       "text": [
        " 24 is : 0.287292383065\n",
        "Error in epoch "
       ]
      },
      {
       "output_type": "stream",
       "stream": "stdout",
       "text": [
        " 25 is : 0.287344378304\n",
        "Error in epoch "
       ]
      },
      {
       "output_type": "stream",
       "stream": "stdout",
       "text": [
        " 26 is : 0.287392199418\n",
        "Error in epoch "
       ]
      },
      {
       "output_type": "stream",
       "stream": "stdout",
       "text": [
        " 27 is : 0.287436325605\n",
        "Error in epoch "
       ]
      },
      {
       "output_type": "stream",
       "stream": "stdout",
       "text": [
        " 28 is : 0.287477165661\n",
        "Error in epoch "
       ]
      },
      {
       "output_type": "stream",
       "stream": "stdout",
       "text": [
        " 29 is : 0.287515070431\n",
        "Error in epoch "
       ]
      },
      {
       "output_type": "stream",
       "stream": "stdout",
       "text": [
        " 30 is : 0.287550342708\n",
        "Error in epoch "
       ]
      },
      {
       "output_type": "stream",
       "stream": "stdout",
       "text": [
        " 31 is : 0.287583245176\n",
        "Error in epoch "
       ]
      },
      {
       "output_type": "stream",
       "stream": "stdout",
       "text": [
        " 32 is : 0.287614006823\n",
        "Error in epoch "
       ]
      },
      {
       "output_type": "stream",
       "stream": "stdout",
       "text": [
        " 33 is : 0.28764282817\n",
        "Error in epoch "
       ]
      },
      {
       "output_type": "stream",
       "stream": "stdout",
       "text": [
        " 34 is : 0.287669885549\n",
        "Error in epoch "
       ]
      },
      {
       "output_type": "stream",
       "stream": "stdout",
       "text": [
        " 35 is : 0.287695334638\n",
        "Error in epoch "
       ]
      },
      {
       "output_type": "stream",
       "stream": "stdout",
       "text": [
        " 36 is : 0.287719313394\n",
        "Error in epoch "
       ]
      },
      {
       "output_type": "stream",
       "stream": "stdout",
       "text": [
        " 37 is : 0.287741944498\n",
        "Error in epoch "
       ]
      },
      {
       "output_type": "stream",
       "stream": "stdout",
       "text": [
        " 38 is : 0.287763337408\n",
        "Error in epoch "
       ]
      },
      {
       "output_type": "stream",
       "stream": "stdout",
       "text": [
        " 39 is : 0.287783590091\n",
        "Error in epoch "
       ]
      },
      {
       "output_type": "stream",
       "stream": "stdout",
       "text": [
        " 40 is : 0.287802790489\n",
        "Error in epoch "
       ]
      },
      {
       "output_type": "stream",
       "stream": "stdout",
       "text": [
        " 41 is : 0.287821017763\n",
        "Error in epoch "
       ]
      },
      {
       "output_type": "stream",
       "stream": "stdout",
       "text": [
        " 42 is : 0.287838343366\n",
        "Error in epoch "
       ]
      },
      {
       "output_type": "stream",
       "stream": "stdout",
       "text": [
        " 43 is : 0.287854831952\n",
        "Error in epoch "
       ]
      },
      {
       "output_type": "stream",
       "stream": "stdout",
       "text": [
        " 44 is : 0.287870542165\n",
        "Error in epoch "
       ]
      },
      {
       "output_type": "stream",
       "stream": "stdout",
       "text": [
        " 45 is : 0.28788552732\n",
        "Error in epoch "
       ]
      },
      {
       "output_type": "stream",
       "stream": "stdout",
       "text": [
        " 46 is : 0.287899835994\n",
        "Error in epoch "
       ]
      },
      {
       "output_type": "stream",
       "stream": "stdout",
       "text": [
        " 47 is : 0.287913512539\n",
        "Error in epoch "
       ]
      },
      {
       "output_type": "stream",
       "stream": "stdout",
       "text": [
        " 48 is : 0.287926597531\n",
        "Error in epoch "
       ]
      },
      {
       "output_type": "stream",
       "stream": "stdout",
       "text": [
        " 49 is : 0.287939128161\n",
        "Error in epoch "
       ]
      },
      {
       "output_type": "stream",
       "stream": "stdout",
       "text": [
        " 50 is : 0.287951138582\n",
        "Error in epoch "
       ]
      },
      {
       "output_type": "stream",
       "stream": "stdout",
       "text": [
        " 51 is : 0.287962660209\n",
        "Error in epoch "
       ]
      },
      {
       "output_type": "stream",
       "stream": "stdout",
       "text": [
        " 52 is : 0.287973721992\n",
        "Error in epoch "
       ]
      },
      {
       "output_type": "stream",
       "stream": "stdout",
       "text": [
        " 53 is : 0.287984350648\n",
        "Error in epoch "
       ]
      },
      {
       "output_type": "stream",
       "stream": "stdout",
       "text": [
        " 54 is : 0.287994570875\n",
        "Error in epoch "
       ]
      },
      {
       "output_type": "stream",
       "stream": "stdout",
       "text": [
        " 55 is : 0.288004405535\n",
        "Error in epoch "
       ]
      },
      {
       "output_type": "stream",
       "stream": "stdout",
       "text": [
        " 56 is : 0.288013875825\n",
        "Error in epoch "
       ]
      },
      {
       "output_type": "stream",
       "stream": "stdout",
       "text": [
        " 57 is : 0.288023001423\n",
        "Error in epoch "
       ]
      },
      {
       "output_type": "stream",
       "stream": "stdout",
       "text": [
        " 58 is : 0.288031800622\n",
        "Error in epoch "
       ]
      },
      {
       "output_type": "stream",
       "stream": "stdout",
       "text": [
        " 59 is : 0.28804029045\n",
        "Error in epoch "
       ]
      },
      {
       "output_type": "stream",
       "stream": "stdout",
       "text": [
        " 60 is : 0.288048486775\n",
        "Error in epoch "
       ]
      },
      {
       "output_type": "stream",
       "stream": "stdout",
       "text": [
        " 61 is : 0.288056404405\n",
        "Error in epoch "
       ]
      },
      {
       "output_type": "stream",
       "stream": "stdout",
       "text": [
        " 62 is : 0.288064057173\n",
        "Error in epoch "
       ]
      },
      {
       "output_type": "stream",
       "stream": "stdout",
       "text": [
        " 63 is : 0.288071458015\n",
        "Error in epoch "
       ]
      },
      {
       "output_type": "stream",
       "stream": "stdout",
       "text": [
        " 64 is : 0.288078619044\n",
        "Error in epoch "
       ]
      },
      {
       "output_type": "stream",
       "stream": "stdout",
       "text": [
        " 65 is : 0.288085551609\n",
        "Error in epoch "
       ]
      },
      {
       "output_type": "stream",
       "stream": "stdout",
       "text": [
        " 66 is : 0.288092266362\n",
        "Error in epoch "
       ]
      },
      {
       "output_type": "stream",
       "stream": "stdout",
       "text": [
        " 67 is : 0.288098773304\n",
        "Error in epoch "
       ]
      },
      {
       "output_type": "stream",
       "stream": "stdout",
       "text": [
        " 68 is : 0.288105081836\n",
        "Error in epoch "
       ]
      },
      {
       "output_type": "stream",
       "stream": "stdout",
       "text": [
        " 69 is : 0.288111200804\n",
        "Error in epoch "
       ]
      },
      {
       "output_type": "stream",
       "stream": "stdout",
       "text": [
        " 70 is : 0.288117138537\n",
        "Error in epoch "
       ]
      },
      {
       "output_type": "stream",
       "stream": "stdout",
       "text": [
        " 71 is : 0.288122902887\n",
        "Error in epoch "
       ]
      },
      {
       "output_type": "stream",
       "stream": "stdout",
       "text": [
        " 72 is : 0.288128501261\n",
        "Error in epoch "
       ]
      },
      {
       "output_type": "stream",
       "stream": "stdout",
       "text": [
        " 73 is : 0.288133940652\n",
        "Error in epoch "
       ]
      },
      {
       "output_type": "stream",
       "stream": "stdout",
       "text": [
        " 74 is : 0.288139227668\n",
        "Error in epoch "
       ]
      },
      {
       "output_type": "stream",
       "stream": "stdout",
       "text": [
        " 75 is : 0.288144368556\n",
        "Error in epoch "
       ]
      },
      {
       "output_type": "stream",
       "stream": "stdout",
       "text": [
        " 76 is : 0.288149369229\n",
        "Error in epoch "
       ]
      },
      {
       "output_type": "stream",
       "stream": "stdout",
       "text": [
        " 77 is : 0.288154235288\n",
        "Error in epoch "
       ]
      },
      {
       "output_type": "stream",
       "stream": "stdout",
       "text": [
        " 78 is : 0.28815897204\n",
        "Error in epoch "
       ]
      },
      {
       "output_type": "stream",
       "stream": "stdout",
       "text": [
        " 79 is : 0.288163584517\n",
        "Error in epoch "
       ]
      },
      {
       "output_type": "stream",
       "stream": "stdout",
       "text": [
        " 80 is : 0.288168077497\n",
        "Error in epoch "
       ]
      },
      {
       "output_type": "stream",
       "stream": "stdout",
       "text": [
        " 81 is : 0.288172455516\n",
        "Error in epoch "
       ]
      },
      {
       "output_type": "stream",
       "stream": "stdout",
       "text": [
        " 82 is : 0.288176722884\n",
        "Error in epoch "
       ]
      },
      {
       "output_type": "stream",
       "stream": "stdout",
       "text": [
        " 83 is : 0.2881808837\n",
        "Error in epoch "
       ]
      },
      {
       "output_type": "stream",
       "stream": "stdout",
       "text": [
        " 84 is : 0.288184941864\n",
        "Error in epoch "
       ]
      },
      {
       "output_type": "stream",
       "stream": "stdout",
       "text": [
        " 85 is : 0.28818890109\n",
        "Error in epoch "
       ]
      },
      {
       "output_type": "stream",
       "stream": "stdout",
       "text": [
        " 86 is : 0.288192764914\n",
        "Error in epoch "
       ]
      },
      {
       "output_type": "stream",
       "stream": "stdout",
       "text": [
        " 87 is : 0.288196536708\n",
        "Error in epoch "
       ]
      },
      {
       "output_type": "stream",
       "stream": "stdout",
       "text": [
        " 88 is : 0.288200219686\n",
        "Error in epoch "
       ]
      },
      {
       "output_type": "stream",
       "stream": "stdout",
       "text": [
        " 89 is : 0.288203816916\n",
        "Error in epoch "
       ]
      },
      {
       "output_type": "stream",
       "stream": "stdout",
       "text": [
        " 90 is : 0.288207331328\n",
        "Error in epoch "
       ]
      },
      {
       "output_type": "stream",
       "stream": "stdout",
       "text": [
        " 91 is : 0.288210765719\n",
        "Error in epoch "
       ]
      },
      {
       "output_type": "stream",
       "stream": "stdout",
       "text": [
        " 92 is : 0.288214122762\n",
        "Error in epoch "
       ]
      },
      {
       "output_type": "stream",
       "stream": "stdout",
       "text": [
        " 93 is : 0.288217405015\n",
        "Error in epoch "
       ]
      },
      {
       "output_type": "stream",
       "stream": "stdout",
       "text": [
        " 94 is : 0.288220614923\n",
        "Error in epoch "
       ]
      },
      {
       "output_type": "stream",
       "stream": "stdout",
       "text": [
        " 95 is : 0.288223754826\n",
        "Error in epoch "
       ]
      },
      {
       "output_type": "stream",
       "stream": "stdout",
       "text": [
        " 96 is : 0.288226826967\n",
        "Error in epoch "
       ]
      },
      {
       "output_type": "stream",
       "stream": "stdout",
       "text": [
        " 97 is : 0.288229833492\n",
        "Error in epoch "
       ]
      },
      {
       "output_type": "stream",
       "stream": "stdout",
       "text": [
        " 98 is : 0.28823277646\n",
        "Error in epoch "
       ]
      },
      {
       "output_type": "stream",
       "stream": "stdout",
       "text": [
        " 99 is : 0.288235657843\n",
        "Error in epoch "
       ]
      },
      {
       "output_type": "stream",
       "stream": "stdout",
       "text": [
        " 100 is : 0.288238479534\n",
        "Error in epoch "
       ]
      },
      {
       "output_type": "stream",
       "stream": "stdout",
       "text": [
        " 101 is : 0.288241243351\n",
        "Error in epoch "
       ]
      },
      {
       "output_type": "stream",
       "stream": "stdout",
       "text": [
        " 102 is : 0.288243951036\n",
        "Error in epoch "
       ]
      },
      {
       "output_type": "stream",
       "stream": "stdout",
       "text": [
        " 103 is : 0.288246604265\n",
        "Error in epoch "
       ]
      },
      {
       "output_type": "stream",
       "stream": "stdout",
       "text": [
        " 104 is : 0.288249204647\n",
        "Error in epoch "
       ]
      },
      {
       "output_type": "stream",
       "stream": "stdout",
       "text": [
        " 105 is : 0.288251753729\n",
        "Error in epoch "
       ]
      },
      {
       "output_type": "stream",
       "stream": "stdout",
       "text": [
        " 106 is : 0.288254252998\n",
        "Error in epoch "
       ]
      },
      {
       "output_type": "stream",
       "stream": "stdout",
       "text": [
        " 107 is : 0.288256703885\n",
        "Error in epoch "
       ]
      },
      {
       "output_type": "stream",
       "stream": "stdout",
       "text": [
        " 108 is : 0.288259107766\n",
        "Error in epoch "
       ]
      },
      {
       "output_type": "stream",
       "stream": "stdout",
       "text": [
        " 109 is : 0.288261465967\n",
        "Error in epoch "
       ]
      },
      {
       "output_type": "stream",
       "stream": "stdout",
       "text": [
        " 110 is : 0.288263779764\n",
        "Error in epoch "
       ]
      },
      {
       "output_type": "stream",
       "stream": "stdout",
       "text": [
        " 111 is : 0.288266050386\n",
        "Error in epoch "
       ]
      },
      {
       "output_type": "stream",
       "stream": "stdout",
       "text": [
        " 112 is : 0.288268279018\n",
        "Error in epoch "
       ]
      },
      {
       "output_type": "stream",
       "stream": "stdout",
       "text": [
        " 113 is : 0.288270466802\n",
        "Error in epoch "
       ]
      },
      {
       "output_type": "stream",
       "stream": "stdout",
       "text": [
        " 114 is : 0.288272614839\n",
        "Error in epoch "
       ]
      },
      {
       "output_type": "stream",
       "stream": "stdout",
       "text": [
        " 115 is : 0.28827472419\n",
        "Error in epoch "
       ]
      },
      {
       "output_type": "stream",
       "stream": "stdout",
       "text": [
        " 116 is : 0.288276795882\n",
        "Error in epoch "
       ]
      },
      {
       "output_type": "stream",
       "stream": "stdout",
       "text": [
        " 117 is : 0.288278830902\n",
        "Error in epoch "
       ]
      },
      {
       "output_type": "stream",
       "stream": "stdout",
       "text": [
        " 118 is : 0.288280830206\n",
        "Error in epoch "
       ]
      },
      {
       "output_type": "stream",
       "stream": "stdout",
       "text": [
        " 119 is : 0.288282794716\n",
        "Error in epoch "
       ]
      },
      {
       "output_type": "stream",
       "stream": "stdout",
       "text": [
        " 120 is : 0.288284725322\n",
        "Error in epoch "
       ]
      },
      {
       "output_type": "stream",
       "stream": "stdout",
       "text": [
        " 121 is : 0.288286622887\n",
        "Error in epoch "
       ]
      },
      {
       "output_type": "stream",
       "stream": "stdout",
       "text": [
        " 122 is : 0.288288488242\n",
        "Error in epoch "
       ]
      },
      {
       "output_type": "stream",
       "stream": "stdout",
       "text": [
        " 123 is : 0.288290322191\n",
        "Error in epoch "
       ]
      },
      {
       "output_type": "stream",
       "stream": "stdout",
       "text": [
        " 124 is : 0.288292125513\n",
        "Error in epoch "
       ]
      },
      {
       "output_type": "stream",
       "stream": "stdout",
       "text": [
        " 125 is : 0.288293898961\n",
        "Error in epoch "
       ]
      },
      {
       "output_type": "stream",
       "stream": "stdout",
       "text": [
        " 126 is : 0.288295643263\n",
        "Error in epoch "
       ]
      },
      {
       "output_type": "stream",
       "stream": "stdout",
       "text": [
        " 127 is : 0.288297359124\n",
        "Error in epoch "
       ]
      },
      {
       "output_type": "stream",
       "stream": "stdout",
       "text": [
        " 128 is : 0.288299047227\n",
        "Error in epoch "
       ]
      },
      {
       "output_type": "stream",
       "stream": "stdout",
       "text": [
        " 129 is : 0.288300708233\n",
        "Error in epoch "
       ]
      },
      {
       "output_type": "stream",
       "stream": "stdout",
       "text": [
        " 130 is : 0.288302342783\n",
        "Error in epoch "
       ]
      },
      {
       "output_type": "stream",
       "stream": "stdout",
       "text": [
        " 131 is : 0.288303951496\n",
        "Error in epoch "
       ]
      },
      {
       "output_type": "stream",
       "stream": "stdout",
       "text": [
        " 132 is : 0.288305534975\n",
        "Error in epoch "
       ]
      },
      {
       "output_type": "stream",
       "stream": "stdout",
       "text": [
        " 133 is : 0.288307093802\n",
        "Error in epoch "
       ]
      },
      {
       "output_type": "stream",
       "stream": "stdout",
       "text": [
        " 134 is : 0.288308628543\n",
        "Error in epoch "
       ]
      },
      {
       "output_type": "stream",
       "stream": "stdout",
       "text": [
        " 135 is : 0.288310139745\n",
        "Error in epoch "
       ]
      },
      {
       "output_type": "stream",
       "stream": "stdout",
       "text": [
        " 136 is : 0.28831162794\n",
        "Error in epoch "
       ]
      },
      {
       "output_type": "stream",
       "stream": "stdout",
       "text": [
        " 137 is : 0.288313093644\n",
        "Error in epoch "
       ]
      },
      {
       "output_type": "stream",
       "stream": "stdout",
       "text": [
        " 138 is : 0.288314537359\n",
        "Error in epoch "
       ]
      },
      {
       "output_type": "stream",
       "stream": "stdout",
       "text": [
        " 139 is : 0.288315959569\n",
        "Error in epoch "
       ]
      },
      {
       "output_type": "stream",
       "stream": "stdout",
       "text": [
        " 140 is : 0.288317360747\n",
        "Error in epoch "
       ]
      },
      {
       "output_type": "stream",
       "stream": "stdout",
       "text": [
        " 141 is : 0.288318741351\n",
        "Error in epoch "
       ]
      },
      {
       "output_type": "stream",
       "stream": "stdout",
       "text": [
        " 142 is : 0.288320101827\n",
        "Error in epoch "
       ]
      },
      {
       "output_type": "stream",
       "stream": "stdout",
       "text": [
        " 143 is : 0.288321442606\n",
        "Error in epoch "
       ]
      },
      {
       "output_type": "stream",
       "stream": "stdout",
       "text": [
        " 144 is : 0.288322764108\n",
        "Error in epoch "
       ]
      },
      {
       "output_type": "stream",
       "stream": "stdout",
       "text": [
        " 145 is : 0.288324066743\n",
        "Error in epoch "
       ]
      },
      {
       "output_type": "stream",
       "stream": "stdout",
       "text": [
        " 146 is : 0.288325350907\n",
        "Error in epoch "
       ]
      },
      {
       "output_type": "stream",
       "stream": "stdout",
       "text": [
        " 147 is : 0.288326616986\n",
        "Error in epoch "
       ]
      },
      {
       "output_type": "stream",
       "stream": "stdout",
       "text": [
        " 148 is : 0.288327865356\n",
        "Error in epoch "
       ]
      },
      {
       "output_type": "stream",
       "stream": "stdout",
       "text": [
        " 149 is : 0.288329096381\n",
        "Error in epoch "
       ]
      },
      {
       "output_type": "stream",
       "stream": "stdout",
       "text": [
        " 150 is : 0.288330310417\n",
        "Error in epoch "
       ]
      },
      {
       "output_type": "stream",
       "stream": "stdout",
       "text": [
        " 151 is : 0.28833150781\n",
        "Error in epoch "
       ]
      },
      {
       "output_type": "stream",
       "stream": "stdout",
       "text": [
        " 152 is : 0.288332688895\n",
        "Error in epoch "
       ]
      },
      {
       "output_type": "stream",
       "stream": "stdout",
       "text": [
        " 153 is : 0.288333854001\n",
        "Error in epoch "
       ]
      },
      {
       "output_type": "stream",
       "stream": "stdout",
       "text": [
        " 154 is : 0.288335003445\n",
        "Error in epoch "
       ]
      },
      {
       "output_type": "stream",
       "stream": "stdout",
       "text": [
        " 155 is : 0.288336137539\n",
        "Error in epoch "
       ]
      },
      {
       "output_type": "stream",
       "stream": "stdout",
       "text": [
        " 156 is : 0.288337256584\n",
        "Error in epoch "
       ]
      },
      {
       "output_type": "stream",
       "stream": "stdout",
       "text": [
        " 157 is : 0.288338360876\n",
        "Error in epoch "
       ]
      },
      {
       "output_type": "stream",
       "stream": "stdout",
       "text": [
        " 158 is : 0.2883394507\n",
        "Error in epoch "
       ]
      },
      {
       "output_type": "stream",
       "stream": "stdout",
       "text": [
        " 159 is : 0.288340526337\n",
        "Error in epoch "
       ]
      },
      {
       "output_type": "stream",
       "stream": "stdout",
       "text": [
        " 160 is : 0.288341588058\n",
        "Error in epoch "
       ]
      },
      {
       "output_type": "stream",
       "stream": "stdout",
       "text": [
        " 161 is : 0.288342636129\n",
        "Error in epoch "
       ]
      },
      {
       "output_type": "stream",
       "stream": "stdout",
       "text": [
        " 162 is : 0.28834367081\n",
        "Error in epoch "
       ]
      },
      {
       "output_type": "stream",
       "stream": "stdout",
       "text": [
        " 163 is : 0.288344692351\n",
        "Error in epoch "
       ]
      },
      {
       "output_type": "stream",
       "stream": "stdout",
       "text": [
        " 164 is : 0.288345701001\n",
        "Error in epoch "
       ]
      },
      {
       "output_type": "stream",
       "stream": "stdout",
       "text": [
        " 165 is : 0.288346696997\n",
        "Error in epoch "
       ]
      },
      {
       "output_type": "stream",
       "stream": "stdout",
       "text": [
        " 166 is : 0.288347680575\n",
        "Error in epoch "
       ]
      },
      {
       "output_type": "stream",
       "stream": "stdout",
       "text": [
        " 167 is : 0.288348651963\n",
        "Error in epoch "
       ]
      },
      {
       "output_type": "stream",
       "stream": "stdout",
       "text": [
        " 168 is : 0.288349611384\n",
        "Error in epoch "
       ]
      },
      {
       "output_type": "stream",
       "stream": "stdout",
       "text": [
        " 169 is : 0.288350559055\n",
        "Error in epoch "
       ]
      },
      {
       "output_type": "stream",
       "stream": "stdout",
       "text": [
        " 170 is : 0.288351495189\n",
        "Error in epoch "
       ]
      },
      {
       "output_type": "stream",
       "stream": "stdout",
       "text": [
        " 171 is : 0.288352419992\n",
        "Error in epoch "
       ]
      },
      {
       "output_type": "stream",
       "stream": "stdout",
       "text": [
        " 172 is : 0.288353333668\n",
        "Error in epoch "
       ]
      },
      {
       "output_type": "stream",
       "stream": "stdout",
       "text": [
        " 173 is : 0.288354236413\n",
        "Error in epoch "
       ]
      },
      {
       "output_type": "stream",
       "stream": "stdout",
       "text": [
        " 174 is : 0.288355128421\n",
        "Error in epoch "
       ]
      },
      {
       "output_type": "stream",
       "stream": "stdout",
       "text": [
        " 175 is : 0.28835600988\n",
        "Error in epoch "
       ]
      },
      {
       "output_type": "stream",
       "stream": "stdout",
       "text": [
        " 176 is : 0.288356880974\n",
        "Error in epoch "
       ]
      },
      {
       "output_type": "stream",
       "stream": "stdout",
       "text": [
        " 177 is : 0.288357741884\n",
        "Error in epoch "
       ]
      },
      {
       "output_type": "stream",
       "stream": "stdout",
       "text": [
        " 178 is : 0.288358592784\n",
        "Error in epoch "
       ]
      },
      {
       "output_type": "stream",
       "stream": "stdout",
       "text": [
        " 179 is : 0.288359433846\n",
        "Error in epoch "
       ]
      },
      {
       "output_type": "stream",
       "stream": "stdout",
       "text": [
        " 180 is : 0.288360265239\n",
        "Error in epoch "
       ]
      },
      {
       "output_type": "stream",
       "stream": "stdout",
       "text": [
        " 181 is : 0.288361087126\n",
        "Error in epoch "
       ]
      },
      {
       "output_type": "stream",
       "stream": "stdout",
       "text": [
        " 182 is : 0.288361899668\n",
        "Error in epoch "
       ]
      },
      {
       "output_type": "stream",
       "stream": "stdout",
       "text": [
        " 183 is : 0.288362703022\n",
        "Error in epoch "
       ]
      },
      {
       "output_type": "stream",
       "stream": "stdout",
       "text": [
        " 184 is : 0.288363497341\n",
        "Error in epoch "
       ]
      },
      {
       "output_type": "stream",
       "stream": "stdout",
       "text": [
        " 185 is : 0.288364282774\n",
        "Error in epoch "
       ]
      },
      {
       "output_type": "stream",
       "stream": "stdout",
       "text": [
        " 186 is : 0.28836505947\n",
        "Error in epoch "
       ]
      },
      {
       "output_type": "stream",
       "stream": "stdout",
       "text": [
        " 187 is : 0.288365827571\n",
        "Error in epoch "
       ]
      },
      {
       "output_type": "stream",
       "stream": "stdout",
       "text": [
        " 188 is : 0.288366587217\n",
        "Error in epoch "
       ]
      },
      {
       "output_type": "stream",
       "stream": "stdout",
       "text": [
        " 189 is : 0.288367338546\n",
        "Error in epoch "
       ]
      },
      {
       "output_type": "stream",
       "stream": "stdout",
       "text": [
        " 190 is : 0.288368081693\n",
        "Error in epoch "
       ]
      },
      {
       "output_type": "stream",
       "stream": "stdout",
       "text": [
        " 191 is : 0.288368816789\n",
        "Error in epoch "
       ]
      },
      {
       "output_type": "stream",
       "stream": "stdout",
       "text": [
        " 192 is : 0.288369543963\n",
        "Error in epoch "
       ]
      },
      {
       "output_type": "stream",
       "stream": "stdout",
       "text": [
        " 193 is : 0.28837026334\n",
        "Error in epoch "
       ]
      },
      {
       "output_type": "stream",
       "stream": "stdout",
       "text": [
        " 194 is : 0.288370975045\n",
        "Error in epoch "
       ]
      },
      {
       "output_type": "stream",
       "stream": "stdout",
       "text": [
        " 195 is : 0.288371679198\n",
        "Error in epoch "
       ]
      },
      {
       "output_type": "stream",
       "stream": "stdout",
       "text": [
        " 196 is : 0.288372375917\n",
        "Error in epoch "
       ]
      },
      {
       "output_type": "stream",
       "stream": "stdout",
       "text": [
        " 197 is : 0.288373065318\n",
        "Error in epoch "
       ]
      },
      {
       "output_type": "stream",
       "stream": "stdout",
       "text": [
        " 198 is : 0.288373747516\n",
        "Error in epoch "
       ]
      },
      {
       "output_type": "stream",
       "stream": "stdout",
       "text": [
        " 199 is : 0.28837442262\n",
        "Error in epoch "
       ]
      },
      {
       "output_type": "stream",
       "stream": "stdout",
       "text": [
        " 200 is : 0.28837509074\n",
        "Error in epoch "
       ]
      },
      {
       "output_type": "stream",
       "stream": "stdout",
       "text": [
        " 201 is : 0.288375751983\n",
        "Error in epoch "
       ]
      },
      {
       "output_type": "stream",
       "stream": "stdout",
       "text": [
        " 202 is : 0.288376406453\n",
        "Error in epoch "
       ]
      },
      {
       "output_type": "stream",
       "stream": "stdout",
       "text": [
        " 203 is : 0.288377054253\n",
        "Error in epoch "
       ]
      },
      {
       "output_type": "stream",
       "stream": "stdout",
       "text": [
        " 204 is : 0.288377695482\n",
        "Error in epoch "
       ]
      },
      {
       "output_type": "stream",
       "stream": "stdout",
       "text": [
        " 205 is : 0.28837833024\n",
        "Error in epoch "
       ]
      },
      {
       "output_type": "stream",
       "stream": "stdout",
       "text": [
        " 206 is : 0.288378958623\n",
        "Error in epoch "
       ]
      },
      {
       "output_type": "stream",
       "stream": "stdout",
       "text": [
        " 207 is : 0.288379580726\n",
        "Error in epoch "
       ]
      },
      {
       "output_type": "stream",
       "stream": "stdout",
       "text": [
        " 208 is : 0.28838019664\n",
        "Error in epoch "
       ]
      },
      {
       "output_type": "stream",
       "stream": "stdout",
       "text": [
        " 209 is : 0.288380806458\n",
        "Error in epoch "
       ]
      },
      {
       "output_type": "stream",
       "stream": "stdout",
       "text": [
        " 210 is : 0.288381410268\n",
        "Error in epoch "
       ]
      },
      {
       "output_type": "stream",
       "stream": "stdout",
       "text": [
        " 211 is : 0.288382008157\n",
        "Error in epoch "
       ]
      },
      {
       "output_type": "stream",
       "stream": "stdout",
       "text": [
        " 212 is : 0.288382600213\n",
        "Error in epoch "
       ]
      },
      {
       "output_type": "stream",
       "stream": "stdout",
       "text": [
        " 213 is : 0.288383186517\n",
        "Error in epoch "
       ]
      },
      {
       "output_type": "stream",
       "stream": "stdout",
       "text": [
        " 214 is : 0.288383767154\n",
        "Error in epoch "
       ]
      },
      {
       "output_type": "stream",
       "stream": "stdout",
       "text": [
        " 215 is : 0.288384342204\n",
        "Error in epoch "
       ]
      },
      {
       "output_type": "stream",
       "stream": "stdout",
       "text": [
        " 216 is : 0.288384911746\n",
        "Error in epoch "
       ]
      },
      {
       "output_type": "stream",
       "stream": "stdout",
       "text": [
        " 217 is : 0.288385475859\n",
        "Error in epoch "
       ]
      },
      {
       "output_type": "stream",
       "stream": "stdout",
       "text": [
        " 218 is : 0.288386034618\n",
        "Error in epoch "
       ]
      },
      {
       "output_type": "stream",
       "stream": "stdout",
       "text": [
        " 219 is : 0.2883865881\n",
        "Error in epoch "
       ]
      },
      {
       "output_type": "stream",
       "stream": "stdout",
       "text": [
        " 220 is : 0.288387136377\n",
        "Error in epoch "
       ]
      },
      {
       "output_type": "stream",
       "stream": "stdout",
       "text": [
        " 221 is : 0.288387679522\n",
        "Error in epoch "
       ]
      },
      {
       "output_type": "stream",
       "stream": "stdout",
       "text": [
        " 222 is : 0.288388217605\n",
        "Error in epoch "
       ]
      },
      {
       "output_type": "stream",
       "stream": "stdout",
       "text": [
        " 223 is : 0.288388750698\n",
        "Error in epoch "
       ]
      },
      {
       "output_type": "stream",
       "stream": "stdout",
       "text": [
        " 224 is : 0.288389278867\n",
        "Error in epoch "
       ]
      },
      {
       "output_type": "stream",
       "stream": "stdout",
       "text": [
        " 225 is : 0.288389802181\n",
        "Error in epoch "
       ]
      },
      {
       "output_type": "stream",
       "stream": "stdout",
       "text": [
        " 226 is : 0.288390320704\n",
        "Error in epoch "
       ]
      },
      {
       "output_type": "stream",
       "stream": "stdout",
       "text": [
        " 227 is : 0.288390834503\n",
        "Error in epoch "
       ]
      },
      {
       "output_type": "stream",
       "stream": "stdout",
       "text": [
        " 228 is : 0.28839134364\n",
        "Error in epoch "
       ]
      },
      {
       "output_type": "stream",
       "stream": "stdout",
       "text": [
        " 229 is : 0.288391848179\n",
        "Error in epoch "
       ]
      },
      {
       "output_type": "stream",
       "stream": "stdout",
       "text": [
        " 230 is : 0.288392348179\n",
        "Error in epoch "
       ]
      },
      {
       "output_type": "stream",
       "stream": "stdout",
       "text": [
        " 231 is : 0.288392843703\n",
        "Error in epoch "
       ]
      },
      {
       "output_type": "stream",
       "stream": "stdout",
       "text": [
        " 232 is : 0.288393334809\n",
        "Error in epoch "
       ]
      },
      {
       "output_type": "stream",
       "stream": "stdout",
       "text": [
        " 233 is : 0.288393821554\n",
        "Error in epoch "
       ]
      },
      {
       "output_type": "stream",
       "stream": "stdout",
       "text": [
        " 234 is : 0.288394303998\n",
        "Error in epoch "
       ]
      },
      {
       "output_type": "stream",
       "stream": "stdout",
       "text": [
        " 235 is : 0.288394782195\n",
        "Error in epoch "
       ]
      },
      {
       "output_type": "stream",
       "stream": "stdout",
       "text": [
        " 236 is : 0.288395256201\n",
        "Error in epoch "
       ]
      },
      {
       "output_type": "stream",
       "stream": "stdout",
       "text": [
        " 237 is : 0.28839572607\n",
        "Error in epoch "
       ]
      },
      {
       "output_type": "stream",
       "stream": "stdout",
       "text": [
        " 238 is : 0.288396191856\n",
        "Error in epoch "
       ]
      },
      {
       "output_type": "stream",
       "stream": "stdout",
       "text": [
        " 239 is : 0.288396653611\n",
        "Error in epoch "
       ]
      },
      {
       "output_type": "stream",
       "stream": "stdout",
       "text": [
        " 240 is : 0.288397111386\n",
        "Error in epoch "
       ]
      },
      {
       "output_type": "stream",
       "stream": "stdout",
       "text": [
        " 241 is : 0.288397565233\n",
        "Error in epoch "
       ]
      },
      {
       "output_type": "stream",
       "stream": "stdout",
       "text": [
        " 242 is : 0.288398015201\n",
        "Error in epoch "
       ]
      },
      {
       "output_type": "stream",
       "stream": "stdout",
       "text": [
        " 243 is : 0.288398461339\n",
        "Error in epoch "
       ]
      },
      {
       "output_type": "stream",
       "stream": "stdout",
       "text": [
        " 244 is : 0.288398903695\n",
        "Error in epoch "
       ]
      },
      {
       "output_type": "stream",
       "stream": "stdout",
       "text": [
        " 245 is : 0.288399342317\n",
        "Error in epoch "
       ]
      },
      {
       "output_type": "stream",
       "stream": "stdout",
       "text": [
        " 246 is : 0.288399777252\n",
        "Error in epoch "
       ]
      },
      {
       "output_type": "stream",
       "stream": "stdout",
       "text": [
        " 247 is : 0.288400208544\n",
        "Error in epoch "
       ]
      },
      {
       "output_type": "stream",
       "stream": "stdout",
       "text": [
        " 248 is : 0.28840063624\n",
        "Error in epoch "
       ]
      },
      {
       "output_type": "stream",
       "stream": "stdout",
       "text": [
        " 249 is : 0.288401060384\n",
        "Error in epoch "
       ]
      },
      {
       "output_type": "stream",
       "stream": "stdout",
       "text": [
        " 250 is : 0.288401481019\n",
        "Error in epoch "
       ]
      },
      {
       "output_type": "stream",
       "stream": "stdout",
       "text": [
        " 251 is : 0.288401898188\n",
        "Error in epoch "
       ]
      },
      {
       "output_type": "stream",
       "stream": "stdout",
       "text": [
        " 252 is : 0.288402311933\n",
        "Error in epoch "
       ]
      },
      {
       "output_type": "stream",
       "stream": "stdout",
       "text": [
        " 253 is : 0.288402722297\n",
        "Error in epoch "
       ]
      },
      {
       "output_type": "stream",
       "stream": "stdout",
       "text": [
        " 254 is : 0.288403129319\n",
        "Error in epoch "
       ]
      },
      {
       "output_type": "stream",
       "stream": "stdout",
       "text": [
        " 255 is : 0.28840353304\n",
        "Error in epoch "
       ]
      },
      {
       "output_type": "stream",
       "stream": "stdout",
       "text": [
        " 256 is : 0.2884039335\n",
        "Error in epoch "
       ]
      },
      {
       "output_type": "stream",
       "stream": "stdout",
       "text": [
        " 257 is : 0.288404330737\n",
        "Error in epoch "
       ]
      },
      {
       "output_type": "stream",
       "stream": "stdout",
       "text": [
        " 258 is : 0.288404724791\n",
        "Error in epoch "
       ]
      },
      {
       "output_type": "stream",
       "stream": "stdout",
       "text": [
        " 259 is : 0.288405115698\n",
        "Error in epoch "
       ]
      },
      {
       "output_type": "stream",
       "stream": "stdout",
       "text": [
        " 260 is : 0.288405503496\n",
        "Error in epoch "
       ]
      },
      {
       "output_type": "stream",
       "stream": "stdout",
       "text": [
        " 261 is : 0.288405888221\n",
        "Error in epoch "
       ]
      },
      {
       "output_type": "stream",
       "stream": "stdout",
       "text": [
        " 262 is : 0.28840626991\n",
        "Error in epoch "
       ]
      },
      {
       "output_type": "stream",
       "stream": "stdout",
       "text": [
        " 263 is : 0.288406648597\n",
        "Error in epoch "
       ]
      },
      {
       "output_type": "stream",
       "stream": "stdout",
       "text": [
        " 264 is : 0.288407024319\n",
        "Error in epoch "
       ]
      },
      {
       "output_type": "stream",
       "stream": "stdout",
       "text": [
        " 265 is : 0.288407397108\n",
        "Error in epoch "
       ]
      },
      {
       "output_type": "stream",
       "stream": "stdout",
       "text": [
        " 266 is : 0.288407766999\n",
        "Error in epoch "
       ]
      },
      {
       "output_type": "stream",
       "stream": "stdout",
       "text": [
        " 267 is : 0.288408134026\n",
        "Error in epoch "
       ]
      },
      {
       "output_type": "stream",
       "stream": "stdout",
       "text": [
        " 268 is : 0.288408498221\n",
        "Error in epoch "
       ]
      },
      {
       "output_type": "stream",
       "stream": "stdout",
       "text": [
        " 269 is : 0.288408859616\n",
        "Error in epoch "
       ]
      },
      {
       "output_type": "stream",
       "stream": "stdout",
       "text": [
        " 270 is : 0.288409218243\n",
        "Error in epoch "
       ]
      },
      {
       "output_type": "stream",
       "stream": "stdout",
       "text": [
        " 271 is : 0.288409574134\n",
        "Error in epoch "
       ]
      },
      {
       "output_type": "stream",
       "stream": "stdout",
       "text": [
        " 272 is : 0.28840992732\n",
        "Error in epoch "
       ]
      },
      {
       "output_type": "stream",
       "stream": "stdout",
       "text": [
        " 273 is : 0.28841027783\n",
        "Error in epoch "
       ]
      },
      {
       "output_type": "stream",
       "stream": "stdout",
       "text": [
        " 274 is : 0.288410625695\n",
        "Error in epoch "
       ]
      },
      {
       "output_type": "stream",
       "stream": "stdout",
       "text": [
        " 275 is : 0.288410970945\n",
        "Error in epoch "
       ]
      },
      {
       "output_type": "stream",
       "stream": "stdout",
       "text": [
        " 276 is : 0.288411313608\n",
        "Error in epoch "
       ]
      },
      {
       "output_type": "stream",
       "stream": "stdout",
       "text": [
        " 277 is : 0.288411653713\n",
        "Error in epoch "
       ]
      },
      {
       "output_type": "stream",
       "stream": "stdout",
       "text": [
        " 278 is : 0.288411991289\n",
        "Error in epoch "
       ]
      },
      {
       "output_type": "stream",
       "stream": "stdout",
       "text": [
        " 279 is : 0.288412326363\n",
        "Error in epoch "
       ]
      },
      {
       "output_type": "stream",
       "stream": "stdout",
       "text": [
        " 280 is : 0.288412658963\n",
        "Error in epoch "
       ]
      },
      {
       "output_type": "stream",
       "stream": "stdout",
       "text": [
        " 281 is : 0.288412989115\n",
        "Error in epoch "
       ]
      },
      {
       "output_type": "stream",
       "stream": "stdout",
       "text": [
        " 282 is : 0.288413316846\n",
        "Error in epoch "
       ]
      },
      {
       "output_type": "stream",
       "stream": "stdout",
       "text": [
        " 283 is : 0.288413642184\n",
        "Error in epoch "
       ]
      },
      {
       "output_type": "stream",
       "stream": "stdout",
       "text": [
        " 284 is : 0.288413965152\n",
        "Error in epoch "
       ]
      },
      {
       "output_type": "stream",
       "stream": "stdout",
       "text": [
        " 285 is : 0.288414285778\n",
        "Error in epoch "
       ]
      },
      {
       "output_type": "stream",
       "stream": "stdout",
       "text": [
        " 286 is : 0.288414604086\n",
        "Error in epoch "
       ]
      },
      {
       "output_type": "stream",
       "stream": "stdout",
       "text": [
        " 287 is : 0.288414920101\n",
        "Error in epoch "
       ]
      },
      {
       "output_type": "stream",
       "stream": "stdout",
       "text": [
        " 288 is : 0.288415233847\n",
        "Error in epoch "
       ]
      },
      {
       "output_type": "stream",
       "stream": "stdout",
       "text": [
        " 289 is : 0.288415545348\n",
        "Error in epoch "
       ]
      },
      {
       "output_type": "stream",
       "stream": "stdout",
       "text": [
        " 290 is : 0.288415854629\n",
        "Error in epoch "
       ]
      },
      {
       "output_type": "stream",
       "stream": "stdout",
       "text": [
        " 291 is : 0.288416161713\n",
        "Error in epoch "
       ]
      },
      {
       "output_type": "stream",
       "stream": "stdout",
       "text": [
        " 292 is : 0.288416466622\n",
        "Error in epoch "
       ]
      },
      {
       "output_type": "stream",
       "stream": "stdout",
       "text": [
        " 293 is : 0.288416769379\n",
        "Error in epoch "
       ]
      },
      {
       "output_type": "stream",
       "stream": "stdout",
       "text": [
        " 294 is : 0.288417070008\n",
        "Error in epoch "
       ]
      },
      {
       "output_type": "stream",
       "stream": "stdout",
       "text": [
        " 295 is : 0.28841736853\n",
        "Error in epoch "
       ]
      },
      {
       "output_type": "stream",
       "stream": "stdout",
       "text": [
        " 296 is : 0.288417664967\n",
        "Error in epoch "
       ]
      },
      {
       "output_type": "stream",
       "stream": "stdout",
       "text": [
        " 297 is : 0.28841795934\n",
        "Error in epoch "
       ]
      },
      {
       "output_type": "stream",
       "stream": "stdout",
       "text": [
        " 298 is : 0.288418251671\n",
        "Error in epoch "
       ]
      },
      {
       "output_type": "stream",
       "stream": "stdout",
       "text": [
        " 299 is : 0.288418541981\n",
        "Error in epoch "
       ]
      },
      {
       "output_type": "stream",
       "stream": "stdout",
       "text": [
        " 300 is : 0.288418830291\n",
        "Error in epoch "
       ]
      },
      {
       "output_type": "stream",
       "stream": "stdout",
       "text": [
        " 301 is : 0.28841911662\n",
        "Error in epoch "
       ]
      },
      {
       "output_type": "stream",
       "stream": "stdout",
       "text": [
        " 302 is : 0.288419400989\n",
        "Error in epoch "
       ]
      },
      {
       "output_type": "stream",
       "stream": "stdout",
       "text": [
        " 303 is : 0.288419683418\n",
        "Error in epoch "
       ]
      },
      {
       "output_type": "stream",
       "stream": "stdout",
       "text": [
        " 304 is : 0.288419963927\n",
        "Error in epoch "
       ]
      },
      {
       "output_type": "stream",
       "stream": "stdout",
       "text": [
        " 305 is : 0.288420242534\n",
        "Error in epoch "
       ]
      },
      {
       "output_type": "stream",
       "stream": "stdout",
       "text": [
        " 306 is : 0.288420519259\n",
        "Error in epoch "
       ]
      },
      {
       "output_type": "stream",
       "stream": "stdout",
       "text": [
        " 307 is : 0.28842079412\n",
        "Error in epoch "
       ]
      },
      {
       "output_type": "stream",
       "stream": "stdout",
       "text": [
        " 308 is : 0.288421067137\n",
        "Error in epoch "
       ]
      },
      {
       "output_type": "stream",
       "stream": "stdout",
       "text": [
        " 309 is : 0.288421338328\n",
        "Error in epoch "
       ]
      },
      {
       "output_type": "stream",
       "stream": "stdout",
       "text": [
        " 310 is : 0.28842160771\n",
        "Error in epoch "
       ]
      },
      {
       "output_type": "stream",
       "stream": "stdout",
       "text": [
        " 311 is : 0.288421875301\n",
        "Error in epoch "
       ]
      },
      {
       "output_type": "stream",
       "stream": "stdout",
       "text": [
        " 312 is : 0.28842214112\n",
        "Error in epoch "
       ]
      },
      {
       "output_type": "stream",
       "stream": "stdout",
       "text": [
        " 313 is : 0.288422405183\n",
        "Error in epoch "
       ]
      },
      {
       "output_type": "stream",
       "stream": "stdout",
       "text": [
        " 314 is : 0.288422667507\n",
        "Error in epoch "
       ]
      },
      {
       "output_type": "stream",
       "stream": "stdout",
       "text": [
        " 315 is : 0.28842292811\n",
        "Error in epoch "
       ]
      },
      {
       "output_type": "stream",
       "stream": "stdout",
       "text": [
        " 316 is : 0.288423187009\n",
        "Error in epoch "
       ]
      },
      {
       "output_type": "stream",
       "stream": "stdout",
       "text": [
        " 317 is : 0.288423444219\n",
        "Error in epoch "
       ]
      },
      {
       "output_type": "stream",
       "stream": "stdout",
       "text": [
        " 318 is : 0.288423699757\n",
        "Error in epoch "
       ]
      },
      {
       "output_type": "stream",
       "stream": "stdout",
       "text": [
        " 319 is : 0.28842395364\n",
        "Error in epoch "
       ]
      },
      {
       "output_type": "stream",
       "stream": "stdout",
       "text": [
        " 320 is : 0.288424205882\n",
        "Error in epoch "
       ]
      },
      {
       "output_type": "stream",
       "stream": "stdout",
       "text": [
        " 321 is : 0.288424456501\n",
        "Error in epoch "
       ]
      },
      {
       "output_type": "stream",
       "stream": "stdout",
       "text": [
        " 322 is : 0.28842470551\n",
        "Error in epoch "
       ]
      },
      {
       "output_type": "stream",
       "stream": "stdout",
       "text": [
        " 323 is : 0.288424952926\n",
        "Error in epoch "
       ]
      },
      {
       "output_type": "stream",
       "stream": "stdout",
       "text": [
        " 324 is : 0.288425198764\n",
        "Error in epoch "
       ]
      },
      {
       "output_type": "stream",
       "stream": "stdout",
       "text": [
        " 325 is : 0.288425443038\n",
        "Error in epoch "
       ]
      },
      {
       "output_type": "stream",
       "stream": "stdout",
       "text": [
        " 326 is : 0.288425685763\n",
        "Error in epoch "
       ]
      },
      {
       "output_type": "stream",
       "stream": "stdout",
       "text": [
        " 327 is : 0.288425926954\n",
        "Error in epoch "
       ]
      },
      {
       "output_type": "stream",
       "stream": "stdout",
       "text": [
        " 328 is : 0.288426166625\n",
        "Error in epoch "
       ]
      },
      {
       "output_type": "stream",
       "stream": "stdout",
       "text": [
        " 329 is : 0.288426404791\n",
        "Error in epoch "
       ]
      },
      {
       "output_type": "stream",
       "stream": "stdout",
       "text": [
        " 330 is : 0.288426641465\n",
        "Error in epoch "
       ]
      },
      {
       "output_type": "stream",
       "stream": "stdout",
       "text": [
        " 331 is : 0.288426876661\n",
        "Error in epoch "
       ]
      },
      {
       "output_type": "stream",
       "stream": "stdout",
       "text": [
        " 332 is : 0.288427110392\n",
        "Error in epoch "
       ]
      },
      {
       "output_type": "stream",
       "stream": "stdout",
       "text": [
        " 333 is : 0.288427342673\n",
        "Error in epoch "
       ]
      },
      {
       "output_type": "stream",
       "stream": "stdout",
       "text": [
        " 334 is : 0.288427573517\n",
        "Error in epoch "
       ]
      },
      {
       "output_type": "stream",
       "stream": "stdout",
       "text": [
        " 335 is : 0.288427802936\n",
        "Error in epoch "
       ]
      },
      {
       "output_type": "stream",
       "stream": "stdout",
       "text": [
        " 336 is : 0.288428030944\n",
        "Error in epoch "
       ]
      },
      {
       "output_type": "stream",
       "stream": "stdout",
       "text": [
        " 337 is : 0.288428257554\n",
        "Error in epoch "
       ]
      },
      {
       "output_type": "stream",
       "stream": "stdout",
       "text": [
        " 338 is : 0.288428482779\n",
        "Error in epoch "
       ]
      },
      {
       "output_type": "stream",
       "stream": "stdout",
       "text": [
        " 339 is : 0.28842870663\n",
        "Error in epoch "
       ]
      },
      {
       "output_type": "stream",
       "stream": "stdout",
       "text": [
        " 340 is : 0.28842892912\n",
        "Error in epoch "
       ]
      },
      {
       "output_type": "stream",
       "stream": "stdout",
       "text": [
        " 341 is : 0.288429150262\n",
        "Error in epoch "
       ]
      },
      {
       "output_type": "stream",
       "stream": "stdout",
       "text": [
        " 342 is : 0.288429370067\n",
        "Error in epoch "
       ]
      },
      {
       "output_type": "stream",
       "stream": "stdout",
       "text": [
        " 343 is : 0.288429588549\n",
        "Error in epoch "
       ]
      },
      {
       "output_type": "stream",
       "stream": "stdout",
       "text": [
        " 344 is : 0.288429805717\n",
        "Error in epoch "
       ]
      },
      {
       "output_type": "stream",
       "stream": "stdout",
       "text": [
        " 345 is : 0.288430021585\n",
        "Error in epoch "
       ]
      },
      {
       "output_type": "stream",
       "stream": "stdout",
       "text": [
        " 346 is : 0.288430236163\n",
        "Error in epoch "
       ]
      },
      {
       "output_type": "stream",
       "stream": "stdout",
       "text": [
        " 347 is : 0.288430449463\n",
        "Error in epoch "
       ]
      },
      {
       "output_type": "stream",
       "stream": "stdout",
       "text": [
        " 348 is : 0.288430661497\n",
        "Error in epoch "
       ]
      },
      {
       "output_type": "stream",
       "stream": "stdout",
       "text": [
        " 349 is : 0.288430872275\n",
        "Error in epoch "
       ]
      },
      {
       "output_type": "stream",
       "stream": "stdout",
       "text": [
        " 350 is : 0.288431081808\n",
        "Error in epoch "
       ]
      },
      {
       "output_type": "stream",
       "stream": "stdout",
       "text": [
        " 351 is : 0.288431290108\n",
        "Error in epoch "
       ]
      },
      {
       "output_type": "stream",
       "stream": "stdout",
       "text": [
        " 352 is : 0.288431497185\n",
        "Error in epoch "
       ]
      },
      {
       "output_type": "stream",
       "stream": "stdout",
       "text": [
        " 353 is : 0.288431703049\n",
        "Error in epoch "
       ]
      },
      {
       "output_type": "stream",
       "stream": "stdout",
       "text": [
        " 354 is : 0.288431907712\n",
        "Error in epoch "
       ]
      },
      {
       "output_type": "stream",
       "stream": "stdout",
       "text": [
        " 355 is : 0.288432111183\n",
        "Error in epoch "
       ]
      },
      {
       "output_type": "stream",
       "stream": "stdout",
       "text": [
        " 356 is : 0.288432313474\n",
        "Error in epoch "
       ]
      },
      {
       "output_type": "stream",
       "stream": "stdout",
       "text": [
        " 357 is : 0.288432514593\n",
        "Error in epoch "
       ]
      },
      {
       "output_type": "stream",
       "stream": "stdout",
       "text": [
        " 358 is : 0.288432714551\n",
        "Error in epoch "
       ]
      },
      {
       "output_type": "stream",
       "stream": "stdout",
       "text": [
        " 359 is : 0.288432913359\n",
        "Error in epoch "
       ]
      },
      {
       "output_type": "stream",
       "stream": "stdout",
       "text": [
        " 360 is : 0.288433111025\n",
        "Error in epoch "
       ]
      },
      {
       "output_type": "stream",
       "stream": "stdout",
       "text": [
        " 361 is : 0.28843330756\n",
        "Error in epoch "
       ]
      },
      {
       "output_type": "stream",
       "stream": "stdout",
       "text": [
        " 362 is : 0.288433502972\n",
        "Error in epoch "
       ]
      },
      {
       "output_type": "stream",
       "stream": "stdout",
       "text": [
        " 363 is : 0.288433697273\n",
        "Error in epoch "
       ]
      },
      {
       "output_type": "stream",
       "stream": "stdout",
       "text": [
        " 364 is : 0.28843389047\n",
        "Error in epoch "
       ]
      },
      {
       "output_type": "stream",
       "stream": "stdout",
       "text": [
        " 365 is : 0.288434082574\n",
        "Error in epoch "
       ]
      },
      {
       "output_type": "stream",
       "stream": "stdout",
       "text": [
        " 366 is : 0.288434273593\n",
        "Error in epoch "
       ]
      },
      {
       "output_type": "stream",
       "stream": "stdout",
       "text": [
        " 367 is : 0.288434463536\n",
        "Error in epoch "
       ]
      },
      {
       "output_type": "stream",
       "stream": "stdout",
       "text": [
        " 368 is : 0.288434652413\n",
        "Error in epoch "
       ]
      },
      {
       "output_type": "stream",
       "stream": "stdout",
       "text": [
        " 369 is : 0.288434840232\n",
        "Error in epoch "
       ]
      },
      {
       "output_type": "stream",
       "stream": "stdout",
       "text": [
        " 370 is : 0.288435027003\n",
        "Error in epoch "
       ]
      },
      {
       "output_type": "stream",
       "stream": "stdout",
       "text": [
        " 371 is : 0.288435212733\n",
        "Error in epoch "
       ]
      },
      {
       "output_type": "stream",
       "stream": "stdout",
       "text": [
        " 372 is : 0.288435397431\n",
        "Error in epoch "
       ]
      },
      {
       "output_type": "stream",
       "stream": "stdout",
       "text": [
        " 373 is : 0.288435581107\n",
        "Error in epoch "
       ]
      },
      {
       "output_type": "stream",
       "stream": "stdout",
       "text": [
        " 374 is : 0.288435763767\n",
        "Error in epoch "
       ]
      },
      {
       "output_type": "stream",
       "stream": "stdout",
       "text": [
        " 375 is : 0.288435945421\n",
        "Error in epoch "
       ]
      },
      {
       "output_type": "stream",
       "stream": "stdout",
       "text": [
        " 376 is : 0.288436126077\n",
        "Error in epoch "
       ]
      },
      {
       "output_type": "stream",
       "stream": "stdout",
       "text": [
        " 377 is : 0.288436305743\n",
        "Error in epoch "
       ]
      },
      {
       "output_type": "stream",
       "stream": "stdout",
       "text": [
        " 378 is : 0.288436484426\n",
        "Error in epoch "
       ]
      },
      {
       "output_type": "stream",
       "stream": "stdout",
       "text": [
        " 379 is : 0.288436662136\n",
        "Error in epoch "
       ]
      },
      {
       "output_type": "stream",
       "stream": "stdout",
       "text": [
        " 380 is : 0.288436838879\n",
        "Error in epoch "
       ]
      },
      {
       "output_type": "stream",
       "stream": "stdout",
       "text": [
        " 381 is : 0.288437014663\n",
        "Error in epoch "
       ]
      },
      {
       "output_type": "stream",
       "stream": "stdout",
       "text": [
        " 382 is : 0.288437189497\n",
        "Error in epoch "
       ]
      },
      {
       "output_type": "stream",
       "stream": "stdout",
       "text": [
        " 383 is : 0.288437363388\n",
        "Error in epoch "
       ]
      },
      {
       "output_type": "stream",
       "stream": "stdout",
       "text": [
        " 384 is : 0.288437536343\n",
        "Error in epoch "
       ]
      },
      {
       "output_type": "stream",
       "stream": "stdout",
       "text": [
        " 385 is : 0.28843770837\n",
        "Error in epoch "
       ]
      },
      {
       "output_type": "stream",
       "stream": "stdout",
       "text": [
        " 386 is : 0.288437879476\n",
        "Error in epoch "
       ]
      },
      {
       "output_type": "stream",
       "stream": "stdout",
       "text": [
        " 387 is : 0.288438049669\n",
        "Error in epoch "
       ]
      },
      {
       "output_type": "stream",
       "stream": "stdout",
       "text": [
        " 388 is : 0.288438218955\n",
        "Error in epoch "
       ]
      },
      {
       "output_type": "stream",
       "stream": "stdout",
       "text": [
        " 389 is : 0.288438387342\n",
        "Error in epoch "
       ]
      },
      {
       "output_type": "stream",
       "stream": "stdout",
       "text": [
        " 390 is : 0.288438554838\n",
        "Error in epoch "
       ]
      },
      {
       "output_type": "stream",
       "stream": "stdout",
       "text": [
        " 391 is : 0.288438721448\n",
        "Error in epoch "
       ]
      },
      {
       "output_type": "stream",
       "stream": "stdout",
       "text": [
        " 392 is : 0.28843888718\n",
        "Error in epoch "
       ]
      },
      {
       "output_type": "stream",
       "stream": "stdout",
       "text": [
        " 393 is : 0.28843905204\n",
        "Error in epoch "
       ]
      },
      {
       "output_type": "stream",
       "stream": "stdout",
       "text": [
        " 394 is : 0.288439216037\n",
        "Error in epoch "
       ]
      },
      {
       "output_type": "stream",
       "stream": "stdout",
       "text": [
        " 395 is : 0.288439379175\n",
        "Error in epoch "
       ]
      },
      {
       "output_type": "stream",
       "stream": "stdout",
       "text": [
        " 396 is : 0.288439541463\n",
        "Error in epoch "
       ]
      },
      {
       "output_type": "stream",
       "stream": "stdout",
       "text": [
        " 397 is : 0.288439702905\n",
        "Error in epoch "
       ]
      },
      {
       "output_type": "stream",
       "stream": "stdout",
       "text": [
        " 398 is : 0.28843986351\n",
        "Error in epoch "
       ]
      },
      {
       "output_type": "stream",
       "stream": "stdout",
       "text": [
        " 399 is : 0.288440023283\n",
        "Error in epoch "
       ]
      },
      {
       "output_type": "stream",
       "stream": "stdout",
       "text": [
        " 400 is : 0.288440182232\n",
        "Error in epoch "
       ]
      },
      {
       "output_type": "stream",
       "stream": "stdout",
       "text": [
        " 401 is : 0.288440340361\n",
        "Error in epoch "
       ]
      },
      {
       "output_type": "stream",
       "stream": "stdout",
       "text": [
        " 402 is : 0.288440497677\n",
        "Error in epoch "
       ]
      },
      {
       "output_type": "stream",
       "stream": "stdout",
       "text": [
        " 403 is : 0.288440654187\n",
        "Error in epoch "
       ]
      },
      {
       "output_type": "stream",
       "stream": "stdout",
       "text": [
        " 404 is : 0.288440809897\n",
        "Error in epoch "
       ]
      },
      {
       "output_type": "stream",
       "stream": "stdout",
       "text": [
        " 405 is : 0.288440964812\n",
        "Error in epoch "
       ]
      },
      {
       "output_type": "stream",
       "stream": "stdout",
       "text": [
        " 406 is : 0.28844111894\n",
        "Error in epoch "
       ]
      },
      {
       "output_type": "stream",
       "stream": "stdout",
       "text": [
        " 407 is : 0.288441272284\n",
        "Error in epoch "
       ]
      },
      {
       "output_type": "stream",
       "stream": "stdout",
       "text": [
        " 408 is : 0.288441424853\n",
        "Error in epoch "
       ]
      },
      {
       "output_type": "stream",
       "stream": "stdout",
       "text": [
        " 409 is : 0.288441576651\n",
        "Error in epoch "
       ]
      },
      {
       "output_type": "stream",
       "stream": "stdout",
       "text": [
        " 410 is : 0.288441727684\n",
        "Error in epoch "
       ]
      },
      {
       "output_type": "stream",
       "stream": "stdout",
       "text": [
        " 411 is : 0.288441877958\n",
        "Error in epoch "
       ]
      },
      {
       "output_type": "stream",
       "stream": "stdout",
       "text": [
        " 412 is : 0.288442027478\n",
        "Error in epoch "
       ]
      },
      {
       "output_type": "stream",
       "stream": "stdout",
       "text": [
        " 413 is : 0.288442176251\n",
        "Error in epoch "
       ]
      },
      {
       "output_type": "stream",
       "stream": "stdout",
       "text": [
        " 414 is : 0.288442324281\n",
        "Error in epoch "
       ]
      },
      {
       "output_type": "stream",
       "stream": "stdout",
       "text": [
        " 415 is : 0.288442471574\n",
        "Error in epoch "
       ]
      },
      {
       "output_type": "stream",
       "stream": "stdout",
       "text": [
        " 416 is : 0.288442618136\n",
        "Error in epoch "
       ]
      },
      {
       "output_type": "stream",
       "stream": "stdout",
       "text": [
        " 417 is : 0.288442763972\n",
        "Error in epoch "
       ]
      },
      {
       "output_type": "stream",
       "stream": "stdout",
       "text": [
        " 418 is : 0.288442909087\n",
        "Error in epoch "
       ]
      },
      {
       "output_type": "stream",
       "stream": "stdout",
       "text": [
        " 419 is : 0.288443053487\n",
        "Error in epoch "
       ]
      },
      {
       "output_type": "stream",
       "stream": "stdout",
       "text": [
        " 420 is : 0.288443197176\n",
        "Error in epoch "
       ]
      },
      {
       "output_type": "stream",
       "stream": "stdout",
       "text": [
        " 421 is : 0.288443340161\n",
        "Error in epoch "
       ]
      },
      {
       "output_type": "stream",
       "stream": "stdout",
       "text": [
        " 422 is : 0.288443482445\n",
        "Error in epoch "
       ]
      },
      {
       "output_type": "stream",
       "stream": "stdout",
       "text": [
        " 423 is : 0.288443624035\n",
        "Error in epoch "
       ]
      },
      {
       "output_type": "stream",
       "stream": "stdout",
       "text": [
        " 424 is : 0.288443764935\n",
        "Error in epoch "
       ]
      },
      {
       "output_type": "stream",
       "stream": "stdout",
       "text": [
        " 425 is : 0.28844390515\n",
        "Error in epoch "
       ]
      },
      {
       "output_type": "stream",
       "stream": "stdout",
       "text": [
        " 426 is : 0.288444044686\n",
        "Error in epoch "
       ]
      },
      {
       "output_type": "stream",
       "stream": "stdout",
       "text": [
        " 427 is : 0.288444183546\n",
        "Error in epoch "
       ]
      },
      {
       "output_type": "stream",
       "stream": "stdout",
       "text": [
        " 428 is : 0.288444321736\n",
        "Error in epoch "
       ]
      },
      {
       "output_type": "stream",
       "stream": "stdout",
       "text": [
        " 429 is : 0.288444459261\n",
        "Error in epoch "
       ]
      },
      {
       "output_type": "stream",
       "stream": "stdout",
       "text": [
        " 430 is : 0.288444596125\n",
        "Error in epoch "
       ]
      },
      {
       "output_type": "stream",
       "stream": "stdout",
       "text": [
        " 431 is : 0.288444732333\n",
        "Error in epoch "
       ]
      },
      {
       "output_type": "stream",
       "stream": "stdout",
       "text": [
        " 432 is : 0.28844486789\n",
        "Error in epoch "
       ]
      },
      {
       "output_type": "stream",
       "stream": "stdout",
       "text": [
        " 433 is : 0.288445002801\n",
        "Error in epoch "
       ]
      },
      {
       "output_type": "stream",
       "stream": "stdout",
       "text": [
        " 434 is : 0.288445137069\n",
        "Error in epoch "
       ]
      },
      {
       "output_type": "stream",
       "stream": "stdout",
       "text": [
        " 435 is : 0.2884452707\n",
        "Error in epoch "
       ]
      },
      {
       "output_type": "stream",
       "stream": "stdout",
       "text": [
        " 436 is : 0.288445403697\n",
        "Error in epoch "
       ]
      },
      {
       "output_type": "stream",
       "stream": "stdout",
       "text": [
        " 437 is : 0.288445536066\n",
        "Error in epoch "
       ]
      },
      {
       "output_type": "stream",
       "stream": "stdout",
       "text": [
        " 438 is : 0.288445667811\n",
        "Error in epoch "
       ]
      },
      {
       "output_type": "stream",
       "stream": "stdout",
       "text": [
        " 439 is : 0.288445798936\n",
        "Error in epoch "
       ]
      },
      {
       "output_type": "stream",
       "stream": "stdout",
       "text": [
        " 440 is : 0.288445929446\n",
        "Error in epoch "
       ]
      },
      {
       "output_type": "stream",
       "stream": "stdout",
       "text": [
        " 441 is : 0.288446059344\n",
        "Error in epoch "
       ]
      },
      {
       "output_type": "stream",
       "stream": "stdout",
       "text": [
        " 442 is : 0.288446188635\n",
        "Error in epoch "
       ]
      },
      {
       "output_type": "stream",
       "stream": "stdout",
       "text": [
        " 443 is : 0.288446317323\n",
        "Error in epoch "
       ]
      },
      {
       "output_type": "stream",
       "stream": "stdout",
       "text": [
        " 444 is : 0.288446445413\n",
        "Error in epoch "
       ]
      },
      {
       "output_type": "stream",
       "stream": "stdout",
       "text": [
        " 445 is : 0.288446572909\n",
        "Error in epoch "
       ]
      },
      {
       "output_type": "stream",
       "stream": "stdout",
       "text": [
        " 446 is : 0.288446699813\n",
        "Error in epoch "
       ]
      },
      {
       "output_type": "stream",
       "stream": "stdout",
       "text": [
        " 447 is : 0.288446826132\n",
        "Error in epoch "
       ]
      },
      {
       "output_type": "stream",
       "stream": "stdout",
       "text": [
        " 448 is : 0.288446951868\n",
        "Error in epoch "
       ]
      },
      {
       "output_type": "stream",
       "stream": "stdout",
       "text": [
        " 449 is : 0.288447077026\n",
        "Error in epoch "
       ]
      },
      {
       "output_type": "stream",
       "stream": "stdout",
       "text": [
        " 450 is : 0.288447201609\n",
        "Error in epoch "
       ]
      },
      {
       "output_type": "stream",
       "stream": "stdout",
       "text": [
        " 451 is : 0.288447325622\n",
        "Error in epoch "
       ]
      },
      {
       "output_type": "stream",
       "stream": "stdout",
       "text": [
        " 452 is : 0.288447449068\n",
        "Error in epoch "
       ]
      },
      {
       "output_type": "stream",
       "stream": "stdout",
       "text": [
        " 453 is : 0.288447571952\n",
        "Error in epoch "
       ]
      },
      {
       "output_type": "stream",
       "stream": "stdout",
       "text": [
        " 454 is : 0.288447694276\n",
        "Error in epoch "
       ]
      },
      {
       "output_type": "stream",
       "stream": "stdout",
       "text": [
        " 455 is : 0.288447816045\n",
        "Error in epoch "
       ]
      },
      {
       "output_type": "stream",
       "stream": "stdout",
       "text": [
        " 456 is : 0.288447937263\n",
        "Error in epoch "
       ]
      },
      {
       "output_type": "stream",
       "stream": "stdout",
       "text": [
        " 457 is : 0.288448057933\n",
        "Error in epoch "
       ]
      },
      {
       "output_type": "stream",
       "stream": "stdout",
       "text": [
        " 458 is : 0.288448178059\n",
        "Error in epoch "
       ]
      },
      {
       "output_type": "stream",
       "stream": "stdout",
       "text": [
        " 459 is : 0.288448297644\n",
        "Error in epoch "
       ]
      },
      {
       "output_type": "stream",
       "stream": "stdout",
       "text": [
        " 460 is : 0.288448416692\n",
        "Error in epoch "
       ]
      },
      {
       "output_type": "stream",
       "stream": "stdout",
       "text": [
        " 461 is : 0.288448535207\n",
        "Error in epoch "
       ]
      },
      {
       "output_type": "stream",
       "stream": "stdout",
       "text": [
        " 462 is : 0.288448653193\n",
        "Error in epoch "
       ]
      },
      {
       "output_type": "stream",
       "stream": "stdout",
       "text": [
        " 463 is : 0.288448770652\n",
        "Error in epoch "
       ]
      },
      {
       "output_type": "stream",
       "stream": "stdout",
       "text": [
        " 464 is : 0.288448887588\n",
        "Error in epoch "
       ]
      },
      {
       "output_type": "stream",
       "stream": "stdout",
       "text": [
        " 465 is : 0.288449004005\n",
        "Error in epoch "
       ]
      },
      {
       "output_type": "stream",
       "stream": "stdout",
       "text": [
        " 466 is : 0.288449119906\n",
        "Error in epoch "
       ]
      },
      {
       "output_type": "stream",
       "stream": "stdout",
       "text": [
        " 467 is : 0.288449235294\n",
        "Error in epoch "
       ]
      },
      {
       "output_type": "stream",
       "stream": "stdout",
       "text": [
        " 468 is : 0.288449350174\n",
        "Error in epoch "
       ]
      },
      {
       "output_type": "stream",
       "stream": "stdout",
       "text": [
        " 469 is : 0.288449464547\n",
        "Error in epoch "
       ]
      },
      {
       "output_type": "stream",
       "stream": "stdout",
       "text": [
        " 470 is : 0.288449578418\n",
        "Error in epoch "
       ]
      },
      {
       "output_type": "stream",
       "stream": "stdout",
       "text": [
        " 471 is : 0.28844969179\n",
        "Error in epoch "
       ]
      },
      {
       "output_type": "stream",
       "stream": "stdout",
       "text": [
        " 472 is : 0.288449804665\n",
        "Error in epoch "
       ]
      },
      {
       "output_type": "stream",
       "stream": "stdout",
       "text": [
        " 473 is : 0.288449917048\n",
        "Error in epoch "
       ]
      },
      {
       "output_type": "stream",
       "stream": "stdout",
       "text": [
        " 474 is : 0.288450028941\n",
        "Error in epoch "
       ]
      },
      {
       "output_type": "stream",
       "stream": "stdout",
       "text": [
        " 475 is : 0.288450140348\n",
        "Error in epoch "
       ]
      },
      {
       "output_type": "stream",
       "stream": "stdout",
       "text": [
        " 476 is : 0.288450251272\n",
        "Error in epoch "
       ]
      },
      {
       "output_type": "stream",
       "stream": "stdout",
       "text": [
        " 477 is : 0.288450361715\n",
        "Error in epoch "
       ]
      },
      {
       "output_type": "stream",
       "stream": "stdout",
       "text": [
        " 478 is : 0.288450471681\n",
        "Error in epoch "
       ]
      },
      {
       "output_type": "stream",
       "stream": "stdout",
       "text": [
        " 479 is : 0.288450581173\n",
        "Error in epoch "
       ]
      },
      {
       "output_type": "stream",
       "stream": "stdout",
       "text": [
        " 480 is : 0.288450690194\n",
        "Error in epoch "
       ]
      },
      {
       "output_type": "stream",
       "stream": "stdout",
       "text": [
        " 481 is : 0.288450798747\n",
        "Error in epoch "
       ]
      },
      {
       "output_type": "stream",
       "stream": "stdout",
       "text": [
        " 482 is : 0.288450906835\n",
        "Error in epoch "
       ]
      },
      {
       "output_type": "stream",
       "stream": "stdout",
       "text": [
        " 483 is : 0.288451014461\n",
        "Error in epoch "
       ]
      },
      {
       "output_type": "stream",
       "stream": "stdout",
       "text": [
        " 484 is : 0.288451121628\n",
        "Error in epoch "
       ]
      },
      {
       "output_type": "stream",
       "stream": "stdout",
       "text": [
        " 485 is : 0.288451228338\n",
        "Error in epoch "
       ]
      },
      {
       "output_type": "stream",
       "stream": "stdout",
       "text": [
        " 486 is : 0.288451334595\n",
        "Error in epoch "
       ]
      },
      {
       "output_type": "stream",
       "stream": "stdout",
       "text": [
        " 487 is : 0.288451440402\n",
        "Error in epoch "
       ]
      },
      {
       "output_type": "stream",
       "stream": "stdout",
       "text": [
        " 488 is : 0.288451545761\n",
        "Error in epoch "
       ]
      },
      {
       "output_type": "stream",
       "stream": "stdout",
       "text": [
        " 489 is : 0.288451650674\n",
        "Error in epoch "
       ]
      },
      {
       "output_type": "stream",
       "stream": "stdout",
       "text": [
        " 490 is : 0.288451755146\n",
        "Error in epoch "
       ]
      },
      {
       "output_type": "stream",
       "stream": "stdout",
       "text": [
        " 491 is : 0.288451859179\n",
        "Error in epoch "
       ]
      },
      {
       "output_type": "stream",
       "stream": "stdout",
       "text": [
        " 492 is : 0.288451962775\n",
        "Error in epoch "
       ]
      },
      {
       "output_type": "stream",
       "stream": "stdout",
       "text": [
        " 493 is : 0.288452065937\n",
        "Error in epoch "
       ]
      },
      {
       "output_type": "stream",
       "stream": "stdout",
       "text": [
        " 494 is : 0.288452168667\n",
        "Error in epoch "
       ]
      },
      {
       "output_type": "stream",
       "stream": "stdout",
       "text": [
        " 495 is : 0.28845227097\n",
        "Error in epoch "
       ]
      },
      {
       "output_type": "stream",
       "stream": "stdout",
       "text": [
        " 496 is : 0.288452372846\n",
        "Error in epoch "
       ]
      },
      {
       "output_type": "stream",
       "stream": "stdout",
       "text": [
        " 497 is : 0.288452474299\n",
        "Error in epoch "
       ]
      },
      {
       "output_type": "stream",
       "stream": "stdout",
       "text": [
        " 498 is : 0.288452575331\n",
        "Error in epoch "
       ]
      },
      {
       "output_type": "stream",
       "stream": "stdout",
       "text": [
        " 499 is : 0.288452675946\n",
        "Error in epoch "
       ]
      },
      {
       "output_type": "stream",
       "stream": "stdout",
       "text": [
        " 500 is : 0.288452776145\n",
        "Error in epoch "
       ]
      },
      {
       "output_type": "stream",
       "stream": "stdout",
       "text": [
        " 501 is : 0.288452875931\n",
        "Error in epoch "
       ]
      },
      {
       "output_type": "stream",
       "stream": "stdout",
       "text": [
        " 502 is : 0.288452975306\n",
        "Error in epoch "
       ]
      },
      {
       "output_type": "stream",
       "stream": "stdout",
       "text": [
        " 503 is : 0.288453074274\n",
        "Error in epoch "
       ]
      },
      {
       "output_type": "stream",
       "stream": "stdout",
       "text": [
        " 504 is : 0.288453172836\n",
        "Error in epoch "
       ]
      },
      {
       "output_type": "stream",
       "stream": "stdout",
       "text": [
        " 505 is : 0.288453270996\n",
        "Error in epoch "
       ]
      },
      {
       "output_type": "stream",
       "stream": "stdout",
       "text": [
        " 506 is : 0.288453368754\n",
        "Error in epoch "
       ]
      },
      {
       "output_type": "stream",
       "stream": "stdout",
       "text": [
        " 507 is : 0.288453466115\n",
        "Error in epoch "
       ]
      },
      {
       "output_type": "stream",
       "stream": "stdout",
       "text": [
        " 508 is : 0.28845356308\n",
        "Error in epoch "
       ]
      },
      {
       "output_type": "stream",
       "stream": "stdout",
       "text": [
        " 509 is : 0.288453659651\n",
        "Error in epoch "
       ]
      },
      {
       "output_type": "stream",
       "stream": "stdout",
       "text": [
        " 510 is : 0.288453755832\n",
        "Error in epoch "
       ]
      },
      {
       "output_type": "stream",
       "stream": "stdout",
       "text": [
        " 511 is : 0.288453851624\n",
        "Error in epoch "
       ]
      },
      {
       "output_type": "stream",
       "stream": "stdout",
       "text": [
        " 512 is : 0.28845394703\n",
        "Error in epoch "
       ]
      },
      {
       "output_type": "stream",
       "stream": "stdout",
       "text": [
        " 513 is : 0.288454042052\n",
        "Error in epoch "
       ]
      },
      {
       "output_type": "stream",
       "stream": "stdout",
       "text": [
        " 514 is : 0.288454136692\n",
        "Error in epoch "
       ]
      },
      {
       "output_type": "stream",
       "stream": "stdout",
       "text": [
        " 515 is : 0.288454230953\n",
        "Error in epoch "
       ]
      },
      {
       "output_type": "stream",
       "stream": "stdout",
       "text": [
        " 516 is : 0.288454324836\n",
        "Error in epoch "
       ]
      },
      {
       "output_type": "stream",
       "stream": "stdout",
       "text": [
        " 517 is : 0.288454418345\n",
        "Error in epoch "
       ]
      },
      {
       "output_type": "stream",
       "stream": "stdout",
       "text": [
        " 518 is : 0.288454511481\n",
        "Error in epoch "
       ]
      },
      {
       "output_type": "stream",
       "stream": "stdout",
       "text": [
        " 519 is : 0.288454604246\n",
        "Error in epoch "
       ]
      },
      {
       "output_type": "stream",
       "stream": "stdout",
       "text": [
        " 520 is : 0.288454696643\n",
        "Error in epoch "
       ]
      },
      {
       "output_type": "stream",
       "stream": "stdout",
       "text": [
        " 521 is : 0.288454788674\n",
        "Error in epoch "
       ]
      },
      {
       "output_type": "stream",
       "stream": "stdout",
       "text": [
        " 522 is : 0.288454880342\n",
        "Error in epoch "
       ]
      },
      {
       "output_type": "stream",
       "stream": "stdout",
       "text": [
        " 523 is : 0.288454971647\n",
        "Error in epoch "
       ]
      },
      {
       "output_type": "stream",
       "stream": "stdout",
       "text": [
        " 524 is : 0.288455062592\n",
        "Error in epoch "
       ]
      },
      {
       "output_type": "stream",
       "stream": "stdout",
       "text": [
        " 525 is : 0.28845515318\n",
        "Error in epoch "
       ]
      },
      {
       "output_type": "stream",
       "stream": "stdout",
       "text": [
        " 526 is : 0.288455243412\n",
        "Error in epoch "
       ]
      },
      {
       "output_type": "stream",
       "stream": "stdout",
       "text": [
        " 527 is : 0.288455333291\n",
        "Error in epoch "
       ]
      },
      {
       "output_type": "stream",
       "stream": "stdout",
       "text": [
        " 528 is : 0.288455422819\n",
        "Error in epoch "
       ]
      },
      {
       "output_type": "stream",
       "stream": "stdout",
       "text": [
        " 529 is : 0.288455511997\n",
        "Error in epoch "
       ]
      },
      {
       "output_type": "stream",
       "stream": "stdout",
       "text": [
        " 530 is : 0.288455600827\n",
        "Error in epoch "
       ]
      },
      {
       "output_type": "stream",
       "stream": "stdout",
       "text": [
        " 531 is : 0.288455689313\n",
        "Error in epoch "
       ]
      },
      {
       "output_type": "stream",
       "stream": "stdout",
       "text": [
        " 532 is : 0.288455777455\n",
        "Error in epoch "
       ]
      },
      {
       "output_type": "stream",
       "stream": "stdout",
       "text": [
        " 533 is : 0.288455865255\n",
        "Error in epoch "
       ]
      },
      {
       "output_type": "stream",
       "stream": "stdout",
       "text": [
        " 534 is : 0.288455952716\n",
        "Error in epoch "
       ]
      },
      {
       "output_type": "stream",
       "stream": "stdout",
       "text": [
        " 535 is : 0.28845603984\n",
        "Error in epoch "
       ]
      },
      {
       "output_type": "stream",
       "stream": "stdout",
       "text": [
        " 536 is : 0.288456126628\n",
        "Error in epoch "
       ]
      },
      {
       "output_type": "stream",
       "stream": "stdout",
       "text": [
        " 537 is : 0.288456213083\n",
        "Error in epoch "
       ]
      },
      {
       "output_type": "stream",
       "stream": "stdout",
       "text": [
        " 538 is : 0.288456299205\n",
        "Error in epoch "
       ]
      },
      {
       "output_type": "stream",
       "stream": "stdout",
       "text": [
        " 539 is : 0.288456384998\n",
        "Error in epoch "
       ]
      },
      {
       "output_type": "stream",
       "stream": "stdout",
       "text": [
        " 540 is : 0.288456470463\n",
        "Error in epoch "
       ]
      },
      {
       "output_type": "stream",
       "stream": "stdout",
       "text": [
        " 541 is : 0.288456555602\n",
        "Error in epoch "
       ]
      },
      {
       "output_type": "stream",
       "stream": "stdout",
       "text": [
        " 542 is : 0.288456640417\n",
        "Error in epoch "
       ]
      },
      {
       "output_type": "stream",
       "stream": "stdout",
       "text": [
        " 543 is : 0.288456724909\n",
        "Error in epoch "
       ]
      },
      {
       "output_type": "stream",
       "stream": "stdout",
       "text": [
        " 544 is : 0.28845680908\n",
        "Error in epoch "
       ]
      },
      {
       "output_type": "stream",
       "stream": "stdout",
       "text": [
        " 545 is : 0.288456892933\n",
        "Error in epoch "
       ]
      },
      {
       "output_type": "stream",
       "stream": "stdout",
       "text": [
        " 546 is : 0.288456976469\n",
        "Error in epoch "
       ]
      },
      {
       "output_type": "stream",
       "stream": "stdout",
       "text": [
        " 547 is : 0.288457059689\n",
        "Error in epoch "
       ]
      },
      {
       "output_type": "stream",
       "stream": "stdout",
       "text": [
        " 548 is : 0.288457142596\n",
        "Error in epoch "
       ]
      },
      {
       "output_type": "stream",
       "stream": "stdout",
       "text": [
        " 549 is : 0.288457225191\n",
        "Error in epoch "
       ]
      },
      {
       "output_type": "stream",
       "stream": "stdout",
       "text": [
        " 550 is : 0.288457307476\n",
        "Error in epoch "
       ]
      },
      {
       "output_type": "stream",
       "stream": "stdout",
       "text": [
        " 551 is : 0.288457389453\n",
        "Error in epoch "
       ]
      },
      {
       "output_type": "stream",
       "stream": "stdout",
       "text": [
        " 552 is : 0.288457471124\n",
        "Error in epoch "
       ]
      },
      {
       "output_type": "stream",
       "stream": "stdout",
       "text": [
        " 553 is : 0.288457552489\n",
        "Error in epoch "
       ]
      },
      {
       "output_type": "stream",
       "stream": "stdout",
       "text": [
        " 554 is : 0.288457633552\n",
        "Error in epoch "
       ]
      },
      {
       "output_type": "stream",
       "stream": "stdout",
       "text": [
        " 555 is : 0.288457714313\n",
        "Error in epoch "
       ]
      },
      {
       "output_type": "stream",
       "stream": "stdout",
       "text": [
        " 556 is : 0.288457794774\n",
        "Error in epoch "
       ]
      },
      {
       "output_type": "stream",
       "stream": "stdout",
       "text": [
        " 557 is : 0.288457874937\n",
        "Error in epoch "
       ]
      },
      {
       "output_type": "stream",
       "stream": "stdout",
       "text": [
        " 558 is : 0.288457954803\n",
        "Error in epoch "
       ]
      },
      {
       "output_type": "stream",
       "stream": "stdout",
       "text": [
        " 559 is : 0.288458034375\n",
        "Error in epoch "
       ]
      },
      {
       "output_type": "stream",
       "stream": "stdout",
       "text": [
        " 560 is : 0.288458113653\n",
        "Error in epoch "
       ]
      },
      {
       "output_type": "stream",
       "stream": "stdout",
       "text": [
        " 561 is : 0.288458192639\n",
        "Error in epoch "
       ]
      },
      {
       "output_type": "stream",
       "stream": "stdout",
       "text": [
        " 562 is : 0.288458271336\n",
        "Error in epoch "
       ]
      },
      {
       "output_type": "stream",
       "stream": "stdout",
       "text": [
        " 563 is : 0.288458349744\n",
        "Error in epoch "
       ]
      },
      {
       "output_type": "stream",
       "stream": "stdout",
       "text": [
        " 564 is : 0.288458427864\n",
        "Error in epoch "
       ]
      },
      {
       "output_type": "stream",
       "stream": "stdout",
       "text": [
        " 565 is : 0.2884585057\n",
        "Error in epoch "
       ]
      },
      {
       "output_type": "stream",
       "stream": "stdout",
       "text": [
        " 566 is : 0.288458583252\n",
        "Error in epoch "
       ]
      },
      {
       "output_type": "stream",
       "stream": "stdout",
       "text": [
        " 567 is : 0.288458660521\n",
        "Error in epoch "
       ]
      },
      {
       "output_type": "stream",
       "stream": "stdout",
       "text": [
        " 568 is : 0.28845873751\n",
        "Error in epoch "
       ]
      },
      {
       "output_type": "stream",
       "stream": "stdout",
       "text": [
        " 569 is : 0.288458814219\n",
        "Error in epoch "
       ]
      },
      {
       "output_type": "stream",
       "stream": "stdout",
       "text": [
        " 570 is : 0.288458890651\n",
        "Error in epoch "
       ]
      },
      {
       "output_type": "stream",
       "stream": "stdout",
       "text": [
        " 571 is : 0.288458966806\n",
        "Error in epoch "
       ]
      },
      {
       "output_type": "stream",
       "stream": "stdout",
       "text": [
        " 572 is : 0.288459042686\n",
        "Error in epoch "
       ]
      },
      {
       "output_type": "stream",
       "stream": "stdout",
       "text": [
        " 573 is : 0.288459118293\n",
        "Error in epoch "
       ]
      },
      {
       "output_type": "stream",
       "stream": "stdout",
       "text": [
        " 574 is : 0.288459193629\n",
        "Error in epoch "
       ]
      },
      {
       "output_type": "stream",
       "stream": "stdout",
       "text": [
        " 575 is : 0.288459268694\n",
        "Error in epoch "
       ]
      },
      {
       "output_type": "stream",
       "stream": "stdout",
       "text": [
        " 576 is : 0.288459343489\n",
        "Error in epoch "
       ]
      },
      {
       "output_type": "stream",
       "stream": "stdout",
       "text": [
        " 577 is : 0.288459418018\n",
        "Error in epoch "
       ]
      },
      {
       "output_type": "stream",
       "stream": "stdout",
       "text": [
        " 578 is : 0.28845949228\n",
        "Error in epoch "
       ]
      },
      {
       "output_type": "stream",
       "stream": "stdout",
       "text": [
        " 579 is : 0.288459566278\n",
        "Error in epoch "
       ]
      },
      {
       "output_type": "stream",
       "stream": "stdout",
       "text": [
        " 580 is : 0.288459640012\n",
        "Error in epoch "
       ]
      },
      {
       "output_type": "stream",
       "stream": "stdout",
       "text": [
        " 581 is : 0.288459713484\n",
        "Error in epoch "
       ]
      },
      {
       "output_type": "stream",
       "stream": "stdout",
       "text": [
        " 582 is : 0.288459786696\n",
        "Error in epoch "
       ]
      },
      {
       "output_type": "stream",
       "stream": "stdout",
       "text": [
        " 583 is : 0.288459859648\n",
        "Error in epoch "
       ]
      },
      {
       "output_type": "stream",
       "stream": "stdout",
       "text": [
        " 584 is : 0.288459932343\n",
        "Error in epoch "
       ]
      },
      {
       "output_type": "stream",
       "stream": "stdout",
       "text": [
        " 585 is : 0.288460004781\n",
        "Error in epoch "
       ]
      },
      {
       "output_type": "stream",
       "stream": "stdout",
       "text": [
        " 586 is : 0.288460076964\n",
        "Error in epoch "
       ]
      },
      {
       "output_type": "stream",
       "stream": "stdout",
       "text": [
        " 587 is : 0.288460148894\n",
        "Error in epoch "
       ]
      },
      {
       "output_type": "stream",
       "stream": "stdout",
       "text": [
        " 588 is : 0.28846022057\n",
        "Error in epoch "
       ]
      },
      {
       "output_type": "stream",
       "stream": "stdout",
       "text": [
        " 589 is : 0.288460291996\n",
        "Error in epoch "
       ]
      },
      {
       "output_type": "stream",
       "stream": "stdout",
       "text": [
        " 590 is : 0.288460363172\n",
        "Error in epoch "
       ]
      },
      {
       "output_type": "stream",
       "stream": "stdout",
       "text": [
        " 591 is : 0.288460434099\n",
        "Error in epoch "
       ]
      },
      {
       "output_type": "stream",
       "stream": "stdout",
       "text": [
        " 592 is : 0.288460504779\n",
        "Error in epoch "
       ]
      },
      {
       "output_type": "stream",
       "stream": "stdout",
       "text": [
        " 593 is : 0.288460575214\n",
        "Error in epoch "
       ]
      },
      {
       "output_type": "stream",
       "stream": "stdout",
       "text": [
        " 594 is : 0.288460645403\n",
        "Error in epoch "
       ]
      },
      {
       "output_type": "stream",
       "stream": "stdout",
       "text": [
        " 595 is : 0.288460715349\n",
        "Error in epoch "
       ]
      },
      {
       "output_type": "stream",
       "stream": "stdout",
       "text": [
        " 596 is : 0.288460785053\n",
        "Error in epoch "
       ]
      },
      {
       "output_type": "stream",
       "stream": "stdout",
       "text": [
        " 597 is : 0.288460854515\n",
        "Error in epoch "
       ]
      },
      {
       "output_type": "stream",
       "stream": "stdout",
       "text": [
        " 598 is : 0.288460923738\n",
        "Error in epoch "
       ]
      },
      {
       "output_type": "stream",
       "stream": "stdout",
       "text": [
        " 599 is : 0.288460992723\n",
        "Error in epoch "
       ]
      },
      {
       "output_type": "stream",
       "stream": "stdout",
       "text": [
        " 600 is : 0.28846106147\n",
        "Error in epoch "
       ]
      },
      {
       "output_type": "stream",
       "stream": "stdout",
       "text": [
        " 601 is : 0.288461129981\n",
        "Error in epoch "
       ]
      },
      {
       "output_type": "stream",
       "stream": "stdout",
       "text": [
        " 602 is : 0.288461198258\n",
        "Error in epoch "
       ]
      },
      {
       "output_type": "stream",
       "stream": "stdout",
       "text": [
        " 603 is : 0.2884612663\n",
        "Error in epoch "
       ]
      },
      {
       "output_type": "stream",
       "stream": "stdout",
       "text": [
        " 604 is : 0.288461334111\n",
        "Error in epoch "
       ]
      },
      {
       "output_type": "stream",
       "stream": "stdout",
       "text": [
        " 605 is : 0.288461401689\n",
        "Error in epoch "
       ]
      },
      {
       "output_type": "stream",
       "stream": "stdout",
       "text": [
        " 606 is : 0.288461469038\n",
        "Error in epoch "
       ]
      },
      {
       "output_type": "stream",
       "stream": "stdout",
       "text": [
        " 607 is : 0.288461536158\n",
        "Error in epoch "
       ]
      },
      {
       "output_type": "stream",
       "stream": "stdout",
       "text": [
        " 608 is : 0.28846160305\n",
        "Error in epoch "
       ]
      },
      {
       "output_type": "stream",
       "stream": "stdout",
       "text": [
        " 609 is : 0.288461669715\n",
        "Error in epoch "
       ]
      },
      {
       "output_type": "stream",
       "stream": "stdout",
       "text": [
        " 610 is : 0.288461736155\n",
        "Error in epoch "
       ]
      },
      {
       "output_type": "stream",
       "stream": "stdout",
       "text": [
        " 611 is : 0.28846180237\n",
        "Error in epoch "
       ]
      },
      {
       "output_type": "stream",
       "stream": "stdout",
       "text": [
        " 612 is : 0.288461868363\n",
        "Error in epoch "
       ]
      },
      {
       "output_type": "stream",
       "stream": "stdout",
       "text": [
        " 613 is : 0.288461934133\n",
        "Error in epoch "
       ]
      },
      {
       "output_type": "stream",
       "stream": "stdout",
       "text": [
        " 614 is : 0.288461999682\n",
        "Error in epoch "
       ]
      },
      {
       "output_type": "stream",
       "stream": "stdout",
       "text": [
        " 615 is : 0.28846206501\n",
        "Error in epoch "
       ]
      },
      {
       "output_type": "stream",
       "stream": "stdout",
       "text": [
        " 616 is : 0.288462130121\n",
        "Error in epoch "
       ]
      },
      {
       "output_type": "stream",
       "stream": "stdout",
       "text": [
        " 617 is : 0.288462195013\n",
        "Error in epoch "
       ]
      },
      {
       "output_type": "stream",
       "stream": "stdout",
       "text": [
        " 618 is : 0.288462259689\n",
        "Error in epoch "
       ]
      },
      {
       "output_type": "stream",
       "stream": "stdout",
       "text": [
        " 619 is : 0.288462324149\n",
        "Error in epoch "
       ]
      },
      {
       "output_type": "stream",
       "stream": "stdout",
       "text": [
        " 620 is : 0.288462388394\n",
        "Error in epoch "
       ]
      },
      {
       "output_type": "stream",
       "stream": "stdout",
       "text": [
        " 621 is : 0.288462452426\n",
        "Error in epoch "
       ]
      },
      {
       "output_type": "stream",
       "stream": "stdout",
       "text": [
        " 622 is : 0.288462516246\n",
        "Error in epoch "
       ]
      },
      {
       "output_type": "stream",
       "stream": "stdout",
       "text": [
        " 623 is : 0.288462579854\n",
        "Error in epoch "
       ]
      },
      {
       "output_type": "stream",
       "stream": "stdout",
       "text": [
        " 624 is : 0.288462643252\n",
        "Error in epoch "
       ]
      },
      {
       "output_type": "stream",
       "stream": "stdout",
       "text": [
        " 625 is : 0.288462706441\n",
        "Error in epoch "
       ]
      },
      {
       "output_type": "stream",
       "stream": "stdout",
       "text": [
        " 626 is : 0.288462769421\n",
        "Error in epoch "
       ]
      },
      {
       "output_type": "stream",
       "stream": "stdout",
       "text": [
        " 627 is : 0.288462832194\n",
        "Error in epoch "
       ]
      },
      {
       "output_type": "stream",
       "stream": "stdout",
       "text": [
        " 628 is : 0.288462894761\n",
        "Error in epoch "
       ]
      },
      {
       "output_type": "stream",
       "stream": "stdout",
       "text": [
        " 629 is : 0.288462957122\n",
        "Error in epoch "
       ]
      },
      {
       "output_type": "stream",
       "stream": "stdout",
       "text": [
        " 630 is : 0.28846301928\n",
        "Error in epoch "
       ]
      },
      {
       "output_type": "stream",
       "stream": "stdout",
       "text": [
        " 631 is : 0.288463081234\n",
        "Error in epoch "
       ]
      },
      {
       "output_type": "stream",
       "stream": "stdout",
       "text": [
        " 632 is : 0.288463142986\n",
        "Error in epoch "
       ]
      },
      {
       "output_type": "stream",
       "stream": "stdout",
       "text": [
        " 633 is : 0.288463204536\n",
        "Error in epoch "
       ]
      },
      {
       "output_type": "stream",
       "stream": "stdout",
       "text": [
        " 634 is : 0.288463265886\n",
        "Error in epoch "
       ]
      },
      {
       "output_type": "stream",
       "stream": "stdout",
       "text": [
        " 635 is : 0.288463327037\n",
        "Error in epoch "
       ]
      },
      {
       "output_type": "stream",
       "stream": "stdout",
       "text": [
        " 636 is : 0.288463387989\n",
        "Error in epoch "
       ]
      },
      {
       "output_type": "stream",
       "stream": "stdout",
       "text": [
        " 637 is : 0.288463448744\n",
        "Error in epoch "
       ]
      },
      {
       "output_type": "stream",
       "stream": "stdout",
       "text": [
        " 638 is : 0.288463509303\n",
        "Error in epoch "
       ]
      },
      {
       "output_type": "stream",
       "stream": "stdout",
       "text": [
        " 639 is : 0.288463569666\n",
        "Error in epoch "
       ]
      },
      {
       "output_type": "stream",
       "stream": "stdout",
       "text": [
        " 640 is : 0.288463629834\n",
        "Error in epoch "
       ]
      },
      {
       "output_type": "stream",
       "stream": "stdout",
       "text": [
        " 641 is : 0.288463689809\n",
        "Error in epoch "
       ]
      },
      {
       "output_type": "stream",
       "stream": "stdout",
       "text": [
        " 642 is : 0.288463749591\n",
        "Error in epoch "
       ]
      },
      {
       "output_type": "stream",
       "stream": "stdout",
       "text": [
        " 643 is : 0.288463809181\n",
        "Error in epoch "
       ]
      },
      {
       "output_type": "stream",
       "stream": "stdout",
       "text": [
        " 644 is : 0.28846386858\n",
        "Error in epoch "
       ]
      },
      {
       "output_type": "stream",
       "stream": "stdout",
       "text": [
        " 645 is : 0.288463927789\n",
        "Error in epoch "
       ]
      },
      {
       "output_type": "stream",
       "stream": "stdout",
       "text": [
        " 646 is : 0.288463986809\n",
        "Error in epoch "
       ]
      },
      {
       "output_type": "stream",
       "stream": "stdout",
       "text": [
        " 647 is : 0.288464045641\n",
        "Error in epoch "
       ]
      },
      {
       "output_type": "stream",
       "stream": "stdout",
       "text": [
        " 648 is : 0.288464104285\n",
        "Error in epoch "
       ]
      },
      {
       "output_type": "stream",
       "stream": "stdout",
       "text": [
        " 649 is : 0.288464162743\n",
        "Error in epoch "
       ]
      },
      {
       "output_type": "stream",
       "stream": "stdout",
       "text": [
        " 650 is : 0.288464221016\n",
        "Error in epoch "
       ]
      },
      {
       "output_type": "stream",
       "stream": "stdout",
       "text": [
        " 651 is : 0.288464279103\n",
        "Error in epoch "
       ]
      },
      {
       "output_type": "stream",
       "stream": "stdout",
       "text": [
        " 652 is : 0.288464337007\n",
        "Error in epoch "
       ]
      },
      {
       "output_type": "stream",
       "stream": "stdout",
       "text": [
        " 653 is : 0.288464394728\n",
        "Error in epoch "
       ]
      },
      {
       "output_type": "stream",
       "stream": "stdout",
       "text": [
        " 654 is : 0.288464452267\n",
        "Error in epoch "
       ]
      },
      {
       "output_type": "stream",
       "stream": "stdout",
       "text": [
        " 655 is : 0.288464509625\n",
        "Error in epoch "
       ]
      },
      {
       "output_type": "stream",
       "stream": "stdout",
       "text": [
        " 656 is : 0.288464566802\n",
        "Error in epoch "
       ]
      },
      {
       "output_type": "stream",
       "stream": "stdout",
       "text": [
        " 657 is : 0.2884646238\n",
        "Error in epoch "
       ]
      },
      {
       "output_type": "stream",
       "stream": "stdout",
       "text": [
        " 658 is : 0.288464680619\n",
        "Error in epoch "
       ]
      },
      {
       "output_type": "stream",
       "stream": "stdout",
       "text": [
        " 659 is : 0.28846473726\n",
        "Error in epoch "
       ]
      },
      {
       "output_type": "stream",
       "stream": "stdout",
       "text": [
        " 660 is : 0.288464793724\n",
        "Error in epoch "
       ]
      },
      {
       "output_type": "stream",
       "stream": "stdout",
       "text": [
        " 661 is : 0.288464850012\n",
        "Error in epoch "
       ]
      },
      {
       "output_type": "stream",
       "stream": "stdout",
       "text": [
        " 662 is : 0.288464906125\n",
        "Error in epoch "
       ]
      },
      {
       "output_type": "stream",
       "stream": "stdout",
       "text": [
        " 663 is : 0.288464962062\n",
        "Error in epoch "
       ]
      },
      {
       "output_type": "stream",
       "stream": "stdout",
       "text": [
        " 664 is : 0.288465017826\n",
        "Error in epoch "
       ]
      },
      {
       "output_type": "stream",
       "stream": "stdout",
       "text": [
        " 665 is : 0.288465073417\n",
        "Error in epoch "
       ]
      },
      {
       "output_type": "stream",
       "stream": "stdout",
       "text": [
        " 666 is : 0.288465128836\n",
        "Error in epoch "
       ]
      },
      {
       "output_type": "stream",
       "stream": "stdout",
       "text": [
        " 667 is : 0.288465184084\n",
        "Error in epoch "
       ]
      },
      {
       "output_type": "stream",
       "stream": "stdout",
       "text": [
        " 668 is : 0.28846523916\n",
        "Error in epoch "
       ]
      },
      {
       "output_type": "stream",
       "stream": "stdout",
       "text": [
        " 669 is : 0.288465294067\n",
        "Error in epoch "
       ]
      },
      {
       "output_type": "stream",
       "stream": "stdout",
       "text": [
        " 670 is : 0.288465348805\n",
        "Error in epoch "
       ]
      },
      {
       "output_type": "stream",
       "stream": "stdout",
       "text": [
        " 671 is : 0.288465403375\n",
        "Error in epoch "
       ]
      },
      {
       "output_type": "stream",
       "stream": "stdout",
       "text": [
        " 672 is : 0.288465457777\n",
        "Error in epoch "
       ]
      },
      {
       "output_type": "stream",
       "stream": "stdout",
       "text": [
        " 673 is : 0.288465512012\n",
        "Error in epoch "
       ]
      },
      {
       "output_type": "stream",
       "stream": "stdout",
       "text": [
        " 674 is : 0.288465566081\n",
        "Error in epoch "
       ]
      },
      {
       "output_type": "stream",
       "stream": "stdout",
       "text": [
        " 675 is : 0.288465619985\n",
        "Error in epoch "
       ]
      },
      {
       "output_type": "stream",
       "stream": "stdout",
       "text": [
        " 676 is : 0.288465673725\n",
        "Error in epoch "
       ]
      },
      {
       "output_type": "stream",
       "stream": "stdout",
       "text": [
        " 677 is : 0.2884657273\n",
        "Error in epoch "
       ]
      },
      {
       "output_type": "stream",
       "stream": "stdout",
       "text": [
        " 678 is : 0.288465780713\n",
        "Error in epoch "
       ]
      },
      {
       "output_type": "stream",
       "stream": "stdout",
       "text": [
        " 679 is : 0.288465833963\n",
        "Error in epoch "
       ]
      },
      {
       "output_type": "stream",
       "stream": "stdout",
       "text": [
        " 680 is : 0.288465887052\n",
        "Error in epoch "
       ]
      },
      {
       "output_type": "stream",
       "stream": "stdout",
       "text": [
        " 681 is : 0.28846593998\n",
        "Error in epoch "
       ]
      },
      {
       "output_type": "stream",
       "stream": "stdout",
       "text": [
        " 682 is : 0.288465992748\n",
        "Error in epoch "
       ]
      },
      {
       "output_type": "stream",
       "stream": "stdout",
       "text": [
        " 683 is : 0.288466045357\n",
        "Error in epoch "
       ]
      },
      {
       "output_type": "stream",
       "stream": "stdout",
       "text": [
        " 684 is : 0.288466097807\n",
        "Error in epoch "
       ]
      },
      {
       "output_type": "stream",
       "stream": "stdout",
       "text": [
        " 685 is : 0.288466150099\n",
        "Error in epoch "
       ]
      },
      {
       "output_type": "stream",
       "stream": "stdout",
       "text": [
        " 686 is : 0.288466202233\n",
        "Error in epoch "
       ]
      },
      {
       "output_type": "stream",
       "stream": "stdout",
       "text": [
        " 687 is : 0.288466254212\n",
        "Error in epoch "
       ]
      },
      {
       "output_type": "stream",
       "stream": "stdout",
       "text": [
        " 688 is : 0.288466306034\n",
        "Error in epoch "
       ]
      },
      {
       "output_type": "stream",
       "stream": "stdout",
       "text": [
        " 689 is : 0.288466357701\n",
        "Error in epoch "
       ]
      },
      {
       "output_type": "stream",
       "stream": "stdout",
       "text": [
        " 690 is : 0.288466409214\n",
        "Error in epoch "
       ]
      },
      {
       "output_type": "stream",
       "stream": "stdout",
       "text": [
        " 691 is : 0.288466460573\n",
        "Error in epoch "
       ]
      },
      {
       "output_type": "stream",
       "stream": "stdout",
       "text": [
        " 692 is : 0.288466511778\n",
        "Error in epoch "
       ]
      },
      {
       "output_type": "stream",
       "stream": "stdout",
       "text": [
        " 693 is : 0.288466562832\n",
        "Error in epoch "
       ]
      },
      {
       "output_type": "stream",
       "stream": "stdout",
       "text": [
        " 694 is : 0.288466613733\n",
        "Error in epoch "
       ]
      },
      {
       "output_type": "stream",
       "stream": "stdout",
       "text": [
        " 695 is : 0.288466664484\n",
        "Error in epoch "
       ]
      },
      {
       "output_type": "stream",
       "stream": "stdout",
       "text": [
        " 696 is : 0.288466715084\n",
        "Error in epoch "
       ]
      },
      {
       "output_type": "stream",
       "stream": "stdout",
       "text": [
        " 697 is : 0.288466765534\n",
        "Error in epoch "
       ]
      },
      {
       "output_type": "stream",
       "stream": "stdout",
       "text": [
        " 698 is : 0.288466815836\n",
        "Error in epoch "
       ]
      },
      {
       "output_type": "stream",
       "stream": "stdout",
       "text": [
        " 699 is : 0.288466865988\n",
        "Error in epoch "
       ]
      },
      {
       "output_type": "stream",
       "stream": "stdout",
       "text": [
        " 700 is : 0.288466915993\n",
        "Error in epoch "
       ]
      },
      {
       "output_type": "stream",
       "stream": "stdout",
       "text": [
        " 701 is : 0.288466965851\n",
        "Error in epoch "
       ]
      },
      {
       "output_type": "stream",
       "stream": "stdout",
       "text": [
        " 702 is : 0.288467015563\n",
        "Error in epoch "
       ]
      },
      {
       "output_type": "stream",
       "stream": "stdout",
       "text": [
        " 703 is : 0.288467065128\n",
        "Error in epoch "
       ]
      },
      {
       "output_type": "stream",
       "stream": "stdout",
       "text": [
        " 704 is : 0.288467114548\n",
        "Error in epoch "
       ]
      },
      {
       "output_type": "stream",
       "stream": "stdout",
       "text": [
        " 705 is : 0.288467163824\n",
        "Error in epoch "
       ]
      },
      {
       "output_type": "stream",
       "stream": "stdout",
       "text": [
        " 706 is : 0.288467212956\n",
        "Error in epoch "
       ]
      },
      {
       "output_type": "stream",
       "stream": "stdout",
       "text": [
        " 707 is : 0.288467261944\n",
        "Error in epoch "
       ]
      },
      {
       "output_type": "stream",
       "stream": "stdout",
       "text": [
        " 708 is : 0.28846731079\n",
        "Error in epoch "
       ]
      },
      {
       "output_type": "stream",
       "stream": "stdout",
       "text": [
        " 709 is : 0.288467359493\n",
        "Error in epoch "
       ]
      },
      {
       "output_type": "stream",
       "stream": "stdout",
       "text": [
        " 710 is : 0.288467408055\n",
        "Error in epoch "
       ]
      },
      {
       "output_type": "stream",
       "stream": "stdout",
       "text": [
        " 711 is : 0.288467456476\n",
        "Error in epoch "
       ]
      },
      {
       "output_type": "stream",
       "stream": "stdout",
       "text": [
        " 712 is : 0.288467504757\n",
        "Error in epoch "
       ]
      },
      {
       "output_type": "stream",
       "stream": "stdout",
       "text": [
        " 713 is : 0.288467552899\n",
        "Error in epoch "
       ]
      },
      {
       "output_type": "stream",
       "stream": "stdout",
       "text": [
        " 714 is : 0.288467600901\n",
        "Error in epoch "
       ]
      },
      {
       "output_type": "stream",
       "stream": "stdout",
       "text": [
        " 715 is : 0.288467648764\n",
        "Error in epoch "
       ]
      },
      {
       "output_type": "stream",
       "stream": "stdout",
       "text": [
        " 716 is : 0.28846769649\n",
        "Error in epoch "
       ]
      },
      {
       "output_type": "stream",
       "stream": "stdout",
       "text": [
        " 717 is : 0.288467744078\n",
        "Error in epoch "
       ]
      },
      {
       "output_type": "stream",
       "stream": "stdout",
       "text": [
        " 718 is : 0.28846779153\n",
        "Error in epoch "
       ]
      },
      {
       "output_type": "stream",
       "stream": "stdout",
       "text": [
        " 719 is : 0.288467838846\n",
        "Error in epoch "
       ]
      },
      {
       "output_type": "stream",
       "stream": "stdout",
       "text": [
        " 720 is : 0.288467886026\n",
        "Error in epoch "
       ]
      },
      {
       "output_type": "stream",
       "stream": "stdout",
       "text": [
        " 721 is : 0.288467933071\n",
        "Error in epoch "
       ]
      },
      {
       "output_type": "stream",
       "stream": "stdout",
       "text": [
        " 722 is : 0.288467979982\n",
        "Error in epoch "
       ]
      },
      {
       "output_type": "stream",
       "stream": "stdout",
       "text": [
        " 723 is : 0.288468026759\n",
        "Error in epoch "
       ]
      },
      {
       "output_type": "stream",
       "stream": "stdout",
       "text": [
        " 724 is : 0.288468073402\n",
        "Error in epoch "
       ]
      },
      {
       "output_type": "stream",
       "stream": "stdout",
       "text": [
        " 725 is : 0.288468119913\n",
        "Error in epoch "
       ]
      },
      {
       "output_type": "stream",
       "stream": "stdout",
       "text": [
        " 726 is : 0.288468166292\n",
        "Error in epoch "
       ]
      },
      {
       "output_type": "stream",
       "stream": "stdout",
       "text": [
        " 727 is : 0.288468212539\n",
        "Error in epoch "
       ]
      },
      {
       "output_type": "stream",
       "stream": "stdout",
       "text": [
        " 728 is : 0.288468258655\n",
        "Error in epoch "
       ]
      },
      {
       "output_type": "stream",
       "stream": "stdout",
       "text": [
        " 729 is : 0.288468304641\n",
        "Error in epoch "
       ]
      },
      {
       "output_type": "stream",
       "stream": "stdout",
       "text": [
        " 730 is : 0.288468350497\n",
        "Error in epoch "
       ]
      },
      {
       "output_type": "stream",
       "stream": "stdout",
       "text": [
        " 731 is : 0.288468396223\n",
        "Error in epoch "
       ]
      },
      {
       "output_type": "stream",
       "stream": "stdout",
       "text": [
        " 732 is : 0.288468441821\n",
        "Error in epoch "
       ]
      },
      {
       "output_type": "stream",
       "stream": "stdout",
       "text": [
        " 733 is : 0.28846848729\n",
        "Error in epoch "
       ]
      },
      {
       "output_type": "stream",
       "stream": "stdout",
       "text": [
        " 734 is : 0.288468532631\n",
        "Error in epoch "
       ]
      },
      {
       "output_type": "stream",
       "stream": "stdout",
       "text": [
        " 735 is : 0.288468577846\n",
        "Error in epoch "
       ]
      },
      {
       "output_type": "stream",
       "stream": "stdout",
       "text": [
        " 736 is : 0.288468622933\n",
        "Error in epoch "
       ]
      },
      {
       "output_type": "stream",
       "stream": "stdout",
       "text": [
        " 737 is : 0.288468667894\n",
        "Error in epoch "
       ]
      },
      {
       "output_type": "stream",
       "stream": "stdout",
       "text": [
        " 738 is : 0.28846871273\n",
        "Error in epoch "
       ]
      },
      {
       "output_type": "stream",
       "stream": "stdout",
       "text": [
        " 739 is : 0.288468757441\n",
        "Error in epoch "
       ]
      },
      {
       "output_type": "stream",
       "stream": "stdout",
       "text": [
        " 740 is : 0.288468802027\n",
        "Error in epoch "
       ]
      },
      {
       "output_type": "stream",
       "stream": "stdout",
       "text": [
        " 741 is : 0.288468846488\n",
        "Error in epoch "
       ]
      },
      {
       "output_type": "stream",
       "stream": "stdout",
       "text": [
        " 742 is : 0.288468890827\n",
        "Error in epoch "
       ]
      },
      {
       "output_type": "stream",
       "stream": "stdout",
       "text": [
        " 743 is : 0.288468935042\n",
        "Error in epoch "
       ]
      },
      {
       "output_type": "stream",
       "stream": "stdout",
       "text": [
        " 744 is : 0.288468979135\n",
        "Error in epoch "
       ]
      },
      {
       "output_type": "stream",
       "stream": "stdout",
       "text": [
        " 745 is : 0.288469023105\n",
        "Error in epoch "
       ]
      },
      {
       "output_type": "stream",
       "stream": "stdout",
       "text": [
        " 746 is : 0.288469066954\n",
        "Error in epoch "
       ]
      },
      {
       "output_type": "stream",
       "stream": "stdout",
       "text": [
        " 747 is : 0.288469110682\n",
        "Error in epoch "
       ]
      },
      {
       "output_type": "stream",
       "stream": "stdout",
       "text": [
        " 748 is : 0.288469154289\n",
        "Error in epoch "
       ]
      },
      {
       "output_type": "stream",
       "stream": "stdout",
       "text": [
        " 749 is : 0.288469197777\n",
        "Error in epoch "
       ]
      },
      {
       "output_type": "stream",
       "stream": "stdout",
       "text": [
        " 750 is : 0.288469241144\n",
        "Error in epoch "
       ]
      },
      {
       "output_type": "stream",
       "stream": "stdout",
       "text": [
        " 751 is : 0.288469284393\n",
        "Error in epoch "
       ]
      },
      {
       "output_type": "stream",
       "stream": "stdout",
       "text": [
        " 752 is : 0.288469327523\n",
        "Error in epoch "
       ]
      },
      {
       "output_type": "stream",
       "stream": "stdout",
       "text": [
        " 753 is : 0.288469370535\n",
        "Error in epoch "
       ]
      },
      {
       "output_type": "stream",
       "stream": "stdout",
       "text": [
        " 754 is : 0.288469413429\n",
        "Error in epoch "
       ]
      },
      {
       "output_type": "stream",
       "stream": "stdout",
       "text": [
        " 755 is : 0.288469456206\n",
        "Error in epoch "
       ]
      },
      {
       "output_type": "stream",
       "stream": "stdout",
       "text": [
        " 756 is : 0.288469498867\n",
        "Error in epoch "
       ]
      },
      {
       "output_type": "stream",
       "stream": "stdout",
       "text": [
        " 757 is : 0.288469541411\n",
        "Error in epoch "
       ]
      },
      {
       "output_type": "stream",
       "stream": "stdout",
       "text": [
        " 758 is : 0.288469583839\n",
        "Error in epoch "
       ]
      },
      {
       "output_type": "stream",
       "stream": "stdout",
       "text": [
        " 759 is : 0.288469626152\n",
        "Error in epoch "
       ]
      },
      {
       "output_type": "stream",
       "stream": "stdout",
       "text": [
        " 760 is : 0.288469668351\n",
        "Error in epoch "
       ]
      },
      {
       "output_type": "stream",
       "stream": "stdout",
       "text": [
        " 761 is : 0.288469710435\n",
        "Error in epoch "
       ]
      },
      {
       "output_type": "stream",
       "stream": "stdout",
       "text": [
        " 762 is : 0.288469752405\n",
        "Error in epoch "
       ]
      },
      {
       "output_type": "stream",
       "stream": "stdout",
       "text": [
        " 763 is : 0.288469794261\n",
        "Error in epoch "
       ]
      },
      {
       "output_type": "stream",
       "stream": "stdout",
       "text": [
        " 764 is : 0.288469836005\n",
        "Error in epoch "
       ]
      },
      {
       "output_type": "stream",
       "stream": "stdout",
       "text": [
        " 765 is : 0.288469877636\n",
        "Error in epoch "
       ]
      },
      {
       "output_type": "stream",
       "stream": "stdout",
       "text": [
        " 766 is : 0.288469919155\n",
        "Error in epoch "
       ]
      },
      {
       "output_type": "stream",
       "stream": "stdout",
       "text": [
        " 767 is : 0.288469960562\n",
        "Error in epoch "
       ]
      },
      {
       "output_type": "stream",
       "stream": "stdout",
       "text": [
        " 768 is : 0.288470001859\n",
        "Error in epoch "
       ]
      },
      {
       "output_type": "stream",
       "stream": "stdout",
       "text": [
        " 769 is : 0.288470043044\n",
        "Error in epoch "
       ]
      },
      {
       "output_type": "stream",
       "stream": "stdout",
       "text": [
        " 770 is : 0.288470084119\n",
        "Error in epoch "
       ]
      },
      {
       "output_type": "stream",
       "stream": "stdout",
       "text": [
        " 771 is : 0.288470125085\n",
        "Error in epoch "
       ]
      },
      {
       "output_type": "stream",
       "stream": "stdout",
       "text": [
        " 772 is : 0.28847016594\n",
        "Error in epoch "
       ]
      },
      {
       "output_type": "stream",
       "stream": "stdout",
       "text": [
        " 773 is : 0.288470206687\n",
        "Error in epoch "
       ]
      },
      {
       "output_type": "stream",
       "stream": "stdout",
       "text": [
        " 774 is : 0.288470247326\n",
        "Error in epoch "
       ]
      },
      {
       "output_type": "stream",
       "stream": "stdout",
       "text": [
        " 775 is : 0.288470287856\n",
        "Error in epoch "
       ]
      },
      {
       "output_type": "stream",
       "stream": "stdout",
       "text": [
        " 776 is : 0.288470328278\n",
        "Error in epoch "
       ]
      },
      {
       "output_type": "stream",
       "stream": "stdout",
       "text": [
        " 777 is : 0.288470368593\n",
        "Error in epoch "
       ]
      },
      {
       "output_type": "stream",
       "stream": "stdout",
       "text": [
        " 778 is : 0.288470408802\n",
        "Error in epoch "
       ]
      },
      {
       "output_type": "stream",
       "stream": "stdout",
       "text": [
        " 779 is : 0.288470448904\n",
        "Error in epoch "
       ]
      },
      {
       "output_type": "stream",
       "stream": "stdout",
       "text": [
        " 780 is : 0.288470488899\n",
        "Error in epoch "
       ]
      },
      {
       "output_type": "stream",
       "stream": "stdout",
       "text": [
        " 781 is : 0.28847052879\n",
        "Error in epoch "
       ]
      },
      {
       "output_type": "stream",
       "stream": "stdout",
       "text": [
        " 782 is : 0.288470568575\n",
        "Error in epoch "
       ]
      },
      {
       "output_type": "stream",
       "stream": "stdout",
       "text": [
        " 783 is : 0.288470608255\n",
        "Error in epoch "
       ]
      },
      {
       "output_type": "stream",
       "stream": "stdout",
       "text": [
        " 784 is : 0.288470647831\n",
        "Error in epoch "
       ]
      },
      {
       "output_type": "stream",
       "stream": "stdout",
       "text": [
        " 785 is : 0.288470687303\n",
        "Error in epoch "
       ]
      },
      {
       "output_type": "stream",
       "stream": "stdout",
       "text": [
        " 786 is : 0.288470726671\n",
        "Error in epoch "
       ]
      },
      {
       "output_type": "stream",
       "stream": "stdout",
       "text": [
        " 787 is : 0.288470765937\n",
        "Error in epoch "
       ]
      },
      {
       "output_type": "stream",
       "stream": "stdout",
       "text": [
        " 788 is : 0.288470805099\n",
        "Error in epoch "
       ]
      },
      {
       "output_type": "stream",
       "stream": "stdout",
       "text": [
        " 789 is : 0.288470844159\n",
        "Error in epoch "
       ]
      },
      {
       "output_type": "stream",
       "stream": "stdout",
       "text": [
        " 790 is : 0.288470883118\n",
        "Error in epoch "
       ]
      },
      {
       "output_type": "stream",
       "stream": "stdout",
       "text": [
        " 791 is : 0.288470921974\n",
        "Error in epoch "
       ]
      },
      {
       "output_type": "stream",
       "stream": "stdout",
       "text": [
        " 792 is : 0.28847096073\n",
        "Error in epoch "
       ]
      },
      {
       "output_type": "stream",
       "stream": "stdout",
       "text": [
        " 793 is : 0.288470999384\n",
        "Error in epoch "
       ]
      },
      {
       "output_type": "stream",
       "stream": "stdout",
       "text": [
        " 794 is : 0.288471037939\n",
        "Error in epoch "
       ]
      },
      {
       "output_type": "stream",
       "stream": "stdout",
       "text": [
        " 795 is : 0.288471076393\n",
        "Error in epoch "
       ]
      },
      {
       "output_type": "stream",
       "stream": "stdout",
       "text": [
        " 796 is : 0.288471114748\n",
        "Error in epoch "
       ]
      },
      {
       "output_type": "stream",
       "stream": "stdout",
       "text": [
        " 797 is : 0.288471153003\n",
        "Error in epoch "
       ]
      },
      {
       "output_type": "stream",
       "stream": "stdout",
       "text": [
        " 798 is : 0.28847119116\n",
        "Error in epoch "
       ]
      },
      {
       "output_type": "stream",
       "stream": "stdout",
       "text": [
        " 799 is : 0.288471229218\n",
        "Error in epoch "
       ]
      },
      {
       "output_type": "stream",
       "stream": "stdout",
       "text": [
        " 800 is : 0.288471267178\n",
        "Error in epoch "
       ]
      },
      {
       "output_type": "stream",
       "stream": "stdout",
       "text": [
        " 801 is : 0.28847130504\n",
        "Error in epoch "
       ]
      },
      {
       "output_type": "stream",
       "stream": "stdout",
       "text": [
        " 802 is : 0.288471342805\n",
        "Error in epoch "
       ]
      },
      {
       "output_type": "stream",
       "stream": "stdout",
       "text": [
        " 803 is : 0.288471380473\n",
        "Error in epoch "
       ]
      },
      {
       "output_type": "stream",
       "stream": "stdout",
       "text": [
        " 804 is : 0.288471418045\n",
        "Error in epoch "
       ]
      },
      {
       "output_type": "stream",
       "stream": "stdout",
       "text": [
        " 805 is : 0.28847145552\n",
        "Error in epoch "
       ]
      },
      {
       "output_type": "stream",
       "stream": "stdout",
       "text": [
        " 806 is : 0.288471492899\n",
        "Error in epoch "
       ]
      },
      {
       "output_type": "stream",
       "stream": "stdout",
       "text": [
        " 807 is : 0.288471530183\n",
        "Error in epoch "
       ]
      },
      {
       "output_type": "stream",
       "stream": "stdout",
       "text": [
        " 808 is : 0.288471567372\n",
        "Error in epoch "
       ]
      },
      {
       "output_type": "stream",
       "stream": "stdout",
       "text": [
        " 809 is : 0.288471604466\n",
        "Error in epoch "
       ]
      },
      {
       "output_type": "stream",
       "stream": "stdout",
       "text": [
        " 810 is : 0.288471641465\n",
        "Error in epoch "
       ]
      },
      {
       "output_type": "stream",
       "stream": "stdout",
       "text": [
        " 811 is : 0.28847167837\n",
        "Error in epoch "
       ]
      },
      {
       "output_type": "stream",
       "stream": "stdout",
       "text": [
        " 812 is : 0.288471715182\n",
        "Error in epoch "
       ]
      },
      {
       "output_type": "stream",
       "stream": "stdout",
       "text": [
        " 813 is : 0.2884717519\n",
        "Error in epoch "
       ]
      },
      {
       "output_type": "stream",
       "stream": "stdout",
       "text": [
        " 814 is : 0.288471788526\n",
        "Error in epoch "
       ]
      },
      {
       "output_type": "stream",
       "stream": "stdout",
       "text": [
        " 815 is : 0.288471825058\n",
        "Error in epoch "
       ]
      },
      {
       "output_type": "stream",
       "stream": "stdout",
       "text": [
        " 816 is : 0.288471861499\n",
        "Error in epoch "
       ]
      },
      {
       "output_type": "stream",
       "stream": "stdout",
       "text": [
        " 817 is : 0.288471897847\n",
        "Error in epoch "
       ]
      },
      {
       "output_type": "stream",
       "stream": "stdout",
       "text": [
        " 818 is : 0.288471934104\n",
        "Error in epoch "
       ]
      },
      {
       "output_type": "stream",
       "stream": "stdout",
       "text": [
        " 819 is : 0.288471970269\n",
        "Error in epoch "
       ]
      },
      {
       "output_type": "stream",
       "stream": "stdout",
       "text": [
        " 820 is : 0.288472006344\n",
        "Error in epoch "
       ]
      },
      {
       "output_type": "stream",
       "stream": "stdout",
       "text": [
        " 821 is : 0.288472042328\n",
        "Error in epoch "
       ]
      },
      {
       "output_type": "stream",
       "stream": "stdout",
       "text": [
        " 822 is : 0.288472078221\n",
        "Error in epoch "
       ]
      },
      {
       "output_type": "stream",
       "stream": "stdout",
       "text": [
        " 823 is : 0.288472114025\n",
        "Error in epoch "
       ]
      },
      {
       "output_type": "stream",
       "stream": "stdout",
       "text": [
        " 824 is : 0.288472149739\n",
        "Error in epoch "
       ]
      },
      {
       "output_type": "stream",
       "stream": "stdout",
       "text": [
        " 825 is : 0.288472185364\n",
        "Error in epoch "
       ]
      },
      {
       "output_type": "stream",
       "stream": "stdout",
       "text": [
        " 826 is : 0.2884722209\n",
        "Error in epoch "
       ]
      },
      {
       "output_type": "stream",
       "stream": "stdout",
       "text": [
        " 827 is : 0.288472256348\n",
        "Error in epoch "
       ]
      },
      {
       "output_type": "stream",
       "stream": "stdout",
       "text": [
        " 828 is : 0.288472291707\n",
        "Error in epoch "
       ]
      },
      {
       "output_type": "stream",
       "stream": "stdout",
       "text": [
        " 829 is : 0.288472326978\n",
        "Error in epoch "
       ]
      },
      {
       "output_type": "stream",
       "stream": "stdout",
       "text": [
        " 830 is : 0.288472362162\n",
        "Error in epoch "
       ]
      },
      {
       "output_type": "stream",
       "stream": "stdout",
       "text": [
        " 831 is : 0.288472397258\n",
        "Error in epoch "
       ]
      },
      {
       "output_type": "stream",
       "stream": "stdout",
       "text": [
        " 832 is : 0.288472432267\n",
        "Error in epoch "
       ]
      },
      {
       "output_type": "stream",
       "stream": "stdout",
       "text": [
        " 833 is : 0.28847246719\n",
        "Error in epoch "
       ]
      },
      {
       "output_type": "stream",
       "stream": "stdout",
       "text": [
        " 834 is : 0.288472502026\n",
        "Error in epoch "
       ]
      },
      {
       "output_type": "stream",
       "stream": "stdout",
       "text": [
        " 835 is : 0.288472536777\n",
        "Error in epoch "
       ]
      },
      {
       "output_type": "stream",
       "stream": "stdout",
       "text": [
        " 836 is : 0.288472571441\n",
        "Error in epoch "
       ]
      },
      {
       "output_type": "stream",
       "stream": "stdout",
       "text": [
        " 837 is : 0.288472606021\n",
        "Error in epoch "
       ]
      },
      {
       "output_type": "stream",
       "stream": "stdout",
       "text": [
        " 838 is : 0.288472640515\n",
        "Error in epoch "
       ]
      },
      {
       "output_type": "stream",
       "stream": "stdout",
       "text": [
        " 839 is : 0.288472674924\n",
        "Error in epoch "
       ]
      },
      {
       "output_type": "stream",
       "stream": "stdout",
       "text": [
        " 840 is : 0.288472709249\n",
        "Error in epoch "
       ]
      },
      {
       "output_type": "stream",
       "stream": "stdout",
       "text": [
        " 841 is : 0.28847274349\n",
        "Error in epoch "
       ]
      },
      {
       "output_type": "stream",
       "stream": "stdout",
       "text": [
        " 842 is : 0.288472777647\n",
        "Error in epoch "
       ]
      },
      {
       "output_type": "stream",
       "stream": "stdout",
       "text": [
        " 843 is : 0.28847281172\n",
        "Error in epoch "
       ]
      },
      {
       "output_type": "stream",
       "stream": "stdout",
       "text": [
        " 844 is : 0.28847284571\n",
        "Error in epoch "
       ]
      },
      {
       "output_type": "stream",
       "stream": "stdout",
       "text": [
        " 845 is : 0.288472879618\n",
        "Error in epoch "
       ]
      },
      {
       "output_type": "stream",
       "stream": "stdout",
       "text": [
        " 846 is : 0.288472913442\n",
        "Error in epoch "
       ]
      },
      {
       "output_type": "stream",
       "stream": "stdout",
       "text": [
        " 847 is : 0.288472947185\n",
        "Error in epoch "
       ]
      },
      {
       "output_type": "stream",
       "stream": "stdout",
       "text": [
        " 848 is : 0.288472980845\n",
        "Error in epoch "
       ]
      },
      {
       "output_type": "stream",
       "stream": "stdout",
       "text": [
        " 849 is : 0.288473014424\n",
        "Error in epoch "
       ]
      },
      {
       "output_type": "stream",
       "stream": "stdout",
       "text": [
        " 850 is : 0.288473047921\n",
        "Error in epoch "
       ]
      },
      {
       "output_type": "stream",
       "stream": "stdout",
       "text": [
        " 851 is : 0.288473081337\n",
        "Error in epoch "
       ]
      },
      {
       "output_type": "stream",
       "stream": "stdout",
       "text": [
        " 852 is : 0.288473114672\n",
        "Error in epoch "
       ]
      },
      {
       "output_type": "stream",
       "stream": "stdout",
       "text": [
        " 853 is : 0.288473147926\n",
        "Error in epoch "
       ]
      },
      {
       "output_type": "stream",
       "stream": "stdout",
       "text": [
        " 854 is : 0.288473181101\n",
        "Error in epoch "
       ]
      },
      {
       "output_type": "stream",
       "stream": "stdout",
       "text": [
        " 855 is : 0.288473214195\n",
        "Error in epoch "
       ]
      },
      {
       "output_type": "stream",
       "stream": "stdout",
       "text": [
        " 856 is : 0.288473247209\n",
        "Error in epoch "
       ]
      },
      {
       "output_type": "stream",
       "stream": "stdout",
       "text": [
        " 857 is : 0.288473280145\n",
        "Error in epoch "
       ]
      },
      {
       "output_type": "stream",
       "stream": "stdout",
       "text": [
        " 858 is : 0.288473313001\n",
        "Error in epoch "
       ]
      },
      {
       "output_type": "stream",
       "stream": "stdout",
       "text": [
        " 859 is : 0.288473345778\n",
        "Error in epoch "
       ]
      },
      {
       "output_type": "stream",
       "stream": "stdout",
       "text": [
        " 860 is : 0.288473378476\n",
        "Error in epoch "
       ]
      },
      {
       "output_type": "stream",
       "stream": "stdout",
       "text": [
        " 861 is : 0.288473411097\n",
        "Error in epoch "
       ]
      },
      {
       "output_type": "stream",
       "stream": "stdout",
       "text": [
        " 862 is : 0.288473443639\n",
        "Error in epoch "
       ]
      },
      {
       "output_type": "stream",
       "stream": "stdout",
       "text": [
        " 863 is : 0.288473476103\n",
        "Error in epoch "
       ]
      },
      {
       "output_type": "stream",
       "stream": "stdout",
       "text": [
        " 864 is : 0.288473508491\n",
        "Error in epoch "
       ]
      },
      {
       "output_type": "stream",
       "stream": "stdout",
       "text": [
        " 865 is : 0.2884735408\n",
        "Error in epoch "
       ]
      },
      {
       "output_type": "stream",
       "stream": "stdout",
       "text": [
        " 866 is : 0.288473573033\n",
        "Error in epoch "
       ]
      },
      {
       "output_type": "stream",
       "stream": "stdout",
       "text": [
        " 867 is : 0.28847360519\n",
        "Error in epoch "
       ]
      },
      {
       "output_type": "stream",
       "stream": "stdout",
       "text": [
        " 868 is : 0.28847363727\n",
        "Error in epoch "
       ]
      },
      {
       "output_type": "stream",
       "stream": "stdout",
       "text": [
        " 869 is : 0.288473669274\n",
        "Error in epoch "
       ]
      },
      {
       "output_type": "stream",
       "stream": "stdout",
       "text": [
        " 870 is : 0.288473701202\n",
        "Error in epoch "
       ]
      },
      {
       "output_type": "stream",
       "stream": "stdout",
       "text": [
        " 871 is : 0.288473733054\n",
        "Error in epoch "
       ]
      },
      {
       "output_type": "stream",
       "stream": "stdout",
       "text": [
        " 872 is : 0.288473764831\n",
        "Error in epoch "
       ]
      },
      {
       "output_type": "stream",
       "stream": "stdout",
       "text": [
        " 873 is : 0.288473796534\n",
        "Error in epoch "
       ]
      },
      {
       "output_type": "stream",
       "stream": "stdout",
       "text": [
        " 874 is : 0.288473828161\n",
        "Error in epoch "
       ]
      },
      {
       "output_type": "stream",
       "stream": "stdout",
       "text": [
        " 875 is : 0.288473859714\n",
        "Error in epoch "
       ]
      },
      {
       "output_type": "stream",
       "stream": "stdout",
       "text": [
        " 876 is : 0.288473891192\n",
        "Error in epoch "
       ]
      },
      {
       "output_type": "stream",
       "stream": "stdout",
       "text": [
        " 877 is : 0.288473922597\n",
        "Error in epoch "
       ]
      },
      {
       "output_type": "stream",
       "stream": "stdout",
       "text": [
        " 878 is : 0.288473953928\n",
        "Error in epoch "
       ]
      },
      {
       "output_type": "stream",
       "stream": "stdout",
       "text": [
        " 879 is : 0.288473985185\n",
        "Error in epoch "
       ]
      },
      {
       "output_type": "stream",
       "stream": "stdout",
       "text": [
        " 880 is : 0.28847401637\n",
        "Error in epoch "
       ]
      },
      {
       "output_type": "stream",
       "stream": "stdout",
       "text": [
        " 881 is : 0.288474047481\n",
        "Error in epoch "
       ]
      },
      {
       "output_type": "stream",
       "stream": "stdout",
       "text": [
        " 882 is : 0.288474078519\n",
        "Error in epoch "
       ]
      },
      {
       "output_type": "stream",
       "stream": "stdout",
       "text": [
        " 883 is : 0.288474109485\n",
        "Error in epoch "
       ]
      },
      {
       "output_type": "stream",
       "stream": "stdout",
       "text": [
        " 884 is : 0.288474140379\n",
        "Error in epoch "
       ]
      },
      {
       "output_type": "stream",
       "stream": "stdout",
       "text": [
        " 885 is : 0.288474171201\n",
        "Error in epoch "
       ]
      },
      {
       "output_type": "stream",
       "stream": "stdout",
       "text": [
        " 886 is : 0.288474201951\n",
        "Error in epoch "
       ]
      },
      {
       "output_type": "stream",
       "stream": "stdout",
       "text": [
        " 887 is : 0.28847423263\n",
        "Error in epoch "
       ]
      },
      {
       "output_type": "stream",
       "stream": "stdout",
       "text": [
        " 888 is : 0.288474263238\n",
        "Error in epoch "
       ]
      },
      {
       "output_type": "stream",
       "stream": "stdout",
       "text": [
        " 889 is : 0.288474293774\n",
        "Error in epoch "
       ]
      },
      {
       "output_type": "stream",
       "stream": "stdout",
       "text": [
        " 890 is : 0.28847432424\n",
        "Error in epoch "
       ]
      },
      {
       "output_type": "stream",
       "stream": "stdout",
       "text": [
        " 891 is : 0.288474354635\n",
        "Error in epoch "
       ]
      },
      {
       "output_type": "stream",
       "stream": "stdout",
       "text": [
        " 892 is : 0.28847438496\n",
        "Error in epoch "
       ]
      },
      {
       "output_type": "stream",
       "stream": "stdout",
       "text": [
        " 893 is : 0.288474415215\n",
        "Error in epoch "
       ]
      },
      {
       "output_type": "stream",
       "stream": "stdout",
       "text": [
        " 894 is : 0.288474445401\n",
        "Error in epoch "
       ]
      },
      {
       "output_type": "stream",
       "stream": "stdout",
       "text": [
        " 895 is : 0.288474475517\n",
        "Error in epoch "
       ]
      },
      {
       "output_type": "stream",
       "stream": "stdout",
       "text": [
        " 896 is : 0.288474505563\n",
        "Error in epoch "
       ]
      },
      {
       "output_type": "stream",
       "stream": "stdout",
       "text": [
        " 897 is : 0.288474535541\n",
        "Error in epoch "
       ]
      },
      {
       "output_type": "stream",
       "stream": "stdout",
       "text": [
        " 898 is : 0.288474565449\n",
        "Error in epoch "
       ]
      },
      {
       "output_type": "stream",
       "stream": "stdout",
       "text": [
        " 899 is : 0.288474595289\n",
        "Error in epoch "
       ]
      },
      {
       "output_type": "stream",
       "stream": "stdout",
       "text": [
        " 900 is : 0.288474625061\n",
        "Error in epoch "
       ]
      },
      {
       "output_type": "stream",
       "stream": "stdout",
       "text": [
        " 901 is : 0.288474654765\n",
        "Error in epoch "
       ]
      },
      {
       "output_type": "stream",
       "stream": "stdout",
       "text": [
        " 902 is : 0.288474684401\n",
        "Error in epoch "
       ]
      },
      {
       "output_type": "stream",
       "stream": "stdout",
       "text": [
        " 903 is : 0.288474713969\n",
        "Error in epoch "
       ]
      },
      {
       "output_type": "stream",
       "stream": "stdout",
       "text": [
        " 904 is : 0.28847474347\n",
        "Error in epoch "
       ]
      },
      {
       "output_type": "stream",
       "stream": "stdout",
       "text": [
        " 905 is : 0.288474772903\n",
        "Error in epoch "
       ]
      },
      {
       "output_type": "stream",
       "stream": "stdout",
       "text": [
        " 906 is : 0.28847480227\n",
        "Error in epoch "
       ]
      },
      {
       "output_type": "stream",
       "stream": "stdout",
       "text": [
        " 907 is : 0.288474831569\n",
        "Error in epoch "
       ]
      },
      {
       "output_type": "stream",
       "stream": "stdout",
       "text": [
        " 908 is : 0.288474860803\n",
        "Error in epoch "
       ]
      },
      {
       "output_type": "stream",
       "stream": "stdout",
       "text": [
        " 909 is : 0.28847488997\n",
        "Error in epoch "
       ]
      },
      {
       "output_type": "stream",
       "stream": "stdout",
       "text": [
        " 910 is : 0.288474919071\n",
        "Error in epoch "
       ]
      },
      {
       "output_type": "stream",
       "stream": "stdout",
       "text": [
        " 911 is : 0.288474948106\n",
        "Error in epoch "
       ]
      },
      {
       "output_type": "stream",
       "stream": "stdout",
       "text": [
        " 912 is : 0.288474977075\n",
        "Error in epoch "
       ]
      },
      {
       "output_type": "stream",
       "stream": "stdout",
       "text": [
        " 913 is : 0.288475005979\n",
        "Error in epoch "
       ]
      },
      {
       "output_type": "stream",
       "stream": "stdout",
       "text": [
        " 914 is : 0.288475034818\n",
        "Error in epoch "
       ]
      },
      {
       "output_type": "stream",
       "stream": "stdout",
       "text": [
        " 915 is : 0.288475063592\n",
        "Error in epoch "
       ]
      },
      {
       "output_type": "stream",
       "stream": "stdout",
       "text": [
        " 916 is : 0.288475092302\n",
        "Error in epoch "
       ]
      },
      {
       "output_type": "stream",
       "stream": "stdout",
       "text": [
        " 917 is : 0.288475120946\n",
        "Error in epoch "
       ]
      },
      {
       "output_type": "stream",
       "stream": "stdout",
       "text": [
        " 918 is : 0.288475149527\n",
        "Error in epoch "
       ]
      },
      {
       "output_type": "stream",
       "stream": "stdout",
       "text": [
        " 919 is : 0.288475178043\n",
        "Error in epoch "
       ]
      },
      {
       "output_type": "stream",
       "stream": "stdout",
       "text": [
        " 920 is : 0.288475206495\n",
        "Error in epoch "
       ]
      },
      {
       "output_type": "stream",
       "stream": "stdout",
       "text": [
        " 921 is : 0.288475234884\n",
        "Error in epoch "
       ]
      },
      {
       "output_type": "stream",
       "stream": "stdout",
       "text": [
        " 922 is : 0.288475263209\n",
        "Error in epoch "
       ]
      },
      {
       "output_type": "stream",
       "stream": "stdout",
       "text": [
        " 923 is : 0.288475291471\n",
        "Error in epoch "
       ]
      },
      {
       "output_type": "stream",
       "stream": "stdout",
       "text": [
        " 924 is : 0.28847531967\n",
        "Error in epoch "
       ]
      },
      {
       "output_type": "stream",
       "stream": "stdout",
       "text": [
        " 925 is : 0.288475347806\n",
        "Error in epoch "
       ]
      },
      {
       "output_type": "stream",
       "stream": "stdout",
       "text": [
        " 926 is : 0.28847537588\n",
        "Error in epoch "
       ]
      },
      {
       "output_type": "stream",
       "stream": "stdout",
       "text": [
        " 927 is : 0.288475403891\n",
        "Error in epoch "
       ]
      },
      {
       "output_type": "stream",
       "stream": "stdout",
       "text": [
        " 928 is : 0.28847543184\n",
        "Error in epoch "
       ]
      },
      {
       "output_type": "stream",
       "stream": "stdout",
       "text": [
        " 929 is : 0.288475459727\n",
        "Error in epoch "
       ]
      },
      {
       "output_type": "stream",
       "stream": "stdout",
       "text": [
        " 930 is : 0.288475487552\n",
        "Error in epoch "
       ]
      },
      {
       "output_type": "stream",
       "stream": "stdout",
       "text": [
        " 931 is : 0.288475515315\n",
        "Error in epoch "
       ]
      },
      {
       "output_type": "stream",
       "stream": "stdout",
       "text": [
        " 932 is : 0.288475543017\n",
        "Error in epoch "
       ]
      },
      {
       "output_type": "stream",
       "stream": "stdout",
       "text": [
        " 933 is : 0.288475570658\n",
        "Error in epoch "
       ]
      },
      {
       "output_type": "stream",
       "stream": "stdout",
       "text": [
        " 934 is : 0.288475598238\n",
        "Error in epoch "
       ]
      },
      {
       "output_type": "stream",
       "stream": "stdout",
       "text": [
        " 935 is : 0.288475625757\n",
        "Error in epoch "
       ]
      },
      {
       "output_type": "stream",
       "stream": "stdout",
       "text": [
        " 936 is : 0.288475653216\n",
        "Error in epoch "
       ]
      },
      {
       "output_type": "stream",
       "stream": "stdout",
       "text": [
        " 937 is : 0.288475680614\n",
        "Error in epoch "
       ]
      },
      {
       "output_type": "stream",
       "stream": "stdout",
       "text": [
        " 938 is : 0.288475707952\n",
        "Error in epoch "
       ]
      },
      {
       "output_type": "stream",
       "stream": "stdout",
       "text": [
        " 939 is : 0.28847573523\n",
        "Error in epoch "
       ]
      },
      {
       "output_type": "stream",
       "stream": "stdout",
       "text": [
        " 940 is : 0.288475762448\n",
        "Error in epoch "
       ]
      },
      {
       "output_type": "stream",
       "stream": "stdout",
       "text": [
        " 941 is : 0.288475789606\n",
        "Error in epoch "
       ]
      },
      {
       "output_type": "stream",
       "stream": "stdout",
       "text": [
        " 942 is : 0.288475816705\n",
        "Error in epoch "
       ]
      },
      {
       "output_type": "stream",
       "stream": "stdout",
       "text": [
        " 943 is : 0.288475843745\n",
        "Error in epoch "
       ]
      },
      {
       "output_type": "stream",
       "stream": "stdout",
       "text": [
        " 944 is : 0.288475870726\n",
        "Error in epoch "
       ]
      },
      {
       "output_type": "stream",
       "stream": "stdout",
       "text": [
        " 945 is : 0.288475897648\n",
        "Error in epoch "
       ]
      },
      {
       "output_type": "stream",
       "stream": "stdout",
       "text": [
        " 946 is : 0.288475924511\n",
        "Error in epoch "
       ]
      },
      {
       "output_type": "stream",
       "stream": "stdout",
       "text": [
        " 947 is : 0.288475951316\n",
        "Error in epoch "
       ]
      },
      {
       "output_type": "stream",
       "stream": "stdout",
       "text": [
        " 948 is : 0.288475978063\n",
        "Error in epoch "
       ]
      },
      {
       "output_type": "stream",
       "stream": "stdout",
       "text": [
        " 949 is : 0.288476004751\n",
        "Error in epoch "
       ]
      },
      {
       "output_type": "stream",
       "stream": "stdout",
       "text": [
        " 950 is : 0.288476031382\n",
        "Error in epoch "
       ]
      },
      {
       "output_type": "stream",
       "stream": "stdout",
       "text": [
        " 951 is : 0.288476057955\n",
        "Error in epoch "
       ]
      },
      {
       "output_type": "stream",
       "stream": "stdout",
       "text": [
        " 952 is : 0.28847608447\n",
        "Error in epoch "
       ]
      },
      {
       "output_type": "stream",
       "stream": "stdout",
       "text": [
        " 953 is : 0.288476110928\n",
        "Error in epoch "
       ]
      },
      {
       "output_type": "stream",
       "stream": "stdout",
       "text": [
        " 954 is : 0.288476137329\n",
        "Error in epoch "
       ]
      },
      {
       "output_type": "stream",
       "stream": "stdout",
       "text": [
        " 955 is : 0.288476163673\n",
        "Error in epoch "
       ]
      },
      {
       "output_type": "stream",
       "stream": "stdout",
       "text": [
        " 956 is : 0.28847618996\n",
        "Error in epoch "
       ]
      },
      {
       "output_type": "stream",
       "stream": "stdout",
       "text": [
        " 957 is : 0.288476216191\n",
        "Error in epoch "
       ]
      },
      {
       "output_type": "stream",
       "stream": "stdout",
       "text": [
        " 958 is : 0.288476242365\n",
        "Error in epoch "
       ]
      },
      {
       "output_type": "stream",
       "stream": "stdout",
       "text": [
        " 959 is : 0.288476268482\n",
        "Error in epoch "
       ]
      },
      {
       "output_type": "stream",
       "stream": "stdout",
       "text": [
        " 960 is : 0.288476294544\n",
        "Error in epoch "
       ]
      },
      {
       "output_type": "stream",
       "stream": "stdout",
       "text": [
        " 961 is : 0.28847632055\n",
        "Error in epoch "
       ]
      },
      {
       "output_type": "stream",
       "stream": "stdout",
       "text": [
        " 962 is : 0.2884763465\n",
        "Error in epoch "
       ]
      },
      {
       "output_type": "stream",
       "stream": "stdout",
       "text": [
        " 963 is : 0.288476372395\n",
        "Error in epoch "
       ]
      },
      {
       "output_type": "stream",
       "stream": "stdout",
       "text": [
        " 964 is : 0.288476398234\n",
        "Error in epoch "
       ]
      },
      {
       "output_type": "stream",
       "stream": "stdout",
       "text": [
        " 965 is : 0.288476424018\n",
        "Error in epoch "
       ]
      },
      {
       "output_type": "stream",
       "stream": "stdout",
       "text": [
        " 966 is : 0.288476449747\n",
        "Error in epoch "
       ]
      },
      {
       "output_type": "stream",
       "stream": "stdout",
       "text": [
        " 967 is : 0.288476475422\n",
        "Error in epoch "
       ]
      },
      {
       "output_type": "stream",
       "stream": "stdout",
       "text": [
        " 968 is : 0.288476501041\n",
        "Error in epoch "
       ]
      },
      {
       "output_type": "stream",
       "stream": "stdout",
       "text": [
        " 969 is : 0.288476526606\n",
        "Error in epoch "
       ]
      },
      {
       "output_type": "stream",
       "stream": "stdout",
       "text": [
        " 970 is : 0.288476552117\n",
        "Error in epoch "
       ]
      },
      {
       "output_type": "stream",
       "stream": "stdout",
       "text": [
        " 971 is : 0.288476577574\n",
        "Error in epoch "
       ]
      },
      {
       "output_type": "stream",
       "stream": "stdout",
       "text": [
        " 972 is : 0.288476602977\n",
        "Error in epoch "
       ]
      },
      {
       "output_type": "stream",
       "stream": "stdout",
       "text": [
        " 973 is : 0.288476628325\n",
        "Error in epoch "
       ]
      },
      {
       "output_type": "stream",
       "stream": "stdout",
       "text": [
        " 974 is : 0.288476653621\n",
        "Error in epoch "
       ]
      },
      {
       "output_type": "stream",
       "stream": "stdout",
       "text": [
        " 975 is : 0.288476678862\n",
        "Error in epoch "
       ]
      },
      {
       "output_type": "stream",
       "stream": "stdout",
       "text": [
        " 976 is : 0.288476704051\n",
        "Error in epoch "
       ]
      },
      {
       "output_type": "stream",
       "stream": "stdout",
       "text": [
        " 977 is : 0.288476729186\n",
        "Error in epoch "
       ]
      },
      {
       "output_type": "stream",
       "stream": "stdout",
       "text": [
        " 978 is : 0.288476754269\n",
        "Error in epoch "
       ]
      },
      {
       "output_type": "stream",
       "stream": "stdout",
       "text": [
        " 979 is : 0.288476779298\n",
        "Error in epoch "
       ]
      },
      {
       "output_type": "stream",
       "stream": "stdout",
       "text": [
        " 980 is : 0.288476804275\n",
        "Error in epoch "
       ]
      },
      {
       "output_type": "stream",
       "stream": "stdout",
       "text": [
        " 981 is : 0.2884768292\n",
        "Error in epoch "
       ]
      },
      {
       "output_type": "stream",
       "stream": "stdout",
       "text": [
        " 982 is : 0.288476854072\n",
        "Error in epoch "
       ]
      },
      {
       "output_type": "stream",
       "stream": "stdout",
       "text": [
        " 983 is : 0.288476878892\n",
        "Error in epoch "
       ]
      },
      {
       "output_type": "stream",
       "stream": "stdout",
       "text": [
        " 984 is : 0.28847690366\n",
        "Error in epoch "
       ]
      },
      {
       "output_type": "stream",
       "stream": "stdout",
       "text": [
        " 985 is : 0.288476928377\n",
        "Error in epoch "
       ]
      },
      {
       "output_type": "stream",
       "stream": "stdout",
       "text": [
        " 986 is : 0.288476953041\n",
        "Error in epoch "
       ]
      },
      {
       "output_type": "stream",
       "stream": "stdout",
       "text": [
        " 987 is : 0.288476977654\n",
        "Error in epoch "
       ]
      },
      {
       "output_type": "stream",
       "stream": "stdout",
       "text": [
        " 988 is : 0.288477002216\n",
        "Error in epoch "
       ]
      },
      {
       "output_type": "stream",
       "stream": "stdout",
       "text": [
        " 989 is : 0.288477026727\n",
        "Error in epoch "
       ]
      },
      {
       "output_type": "stream",
       "stream": "stdout",
       "text": [
        " 990 is : 0.288477051186\n",
        "Error in epoch "
       ]
      },
      {
       "output_type": "stream",
       "stream": "stdout",
       "text": [
        " 991 is : 0.288477075595\n",
        "Error in epoch "
       ]
      },
      {
       "output_type": "stream",
       "stream": "stdout",
       "text": [
        " 992 is : 0.288477099953\n",
        "Error in epoch "
       ]
      },
      {
       "output_type": "stream",
       "stream": "stdout",
       "text": [
        " 993 is : 0.288477124261\n",
        "Error in epoch "
       ]
      },
      {
       "output_type": "stream",
       "stream": "stdout",
       "text": [
        " 994 is : 0.288477148518\n",
        "Error in epoch "
       ]
      },
      {
       "output_type": "stream",
       "stream": "stdout",
       "text": [
        " 995 is : 0.288477172725\n",
        "Error in epoch "
       ]
      },
      {
       "output_type": "stream",
       "stream": "stdout",
       "text": [
        " 996 is : 0.288477196882\n",
        "Error in epoch "
       ]
      },
      {
       "output_type": "stream",
       "stream": "stdout",
       "text": [
        " 997 is : 0.288477220988\n",
        "Error in epoch "
       ]
      },
      {
       "output_type": "stream",
       "stream": "stdout",
       "text": [
        " 998 is : 0.288477245046\n",
        "Error in epoch "
       ]
      },
      {
       "output_type": "stream",
       "stream": "stdout",
       "text": [
        " 999 is : 0.288477269053\n"
       ]
      },
      {
       "output_type": "pyout",
       "prompt_number": 49,
       "text": [
        "[<matplotlib.lines.Line2D at 0x54cf090>]"
       ]
      },
      {
       "output_type": "display_data",
       "png": "[encoded data removed]"
      }
     ],
     "prompt_number": 49
    },
    {
     "cell_type": "code",
     "collapsed": false,
     "input": [],
     "language": "python",
     "metadata": {},
     "outputs": []
    },
    {
     "cell_type": "code",
     "collapsed": false,
     "input": [],
     "language": "python",
     "metadata": {},
     "outputs": []
    }
   ],
   "metadata": {}
  }
 ]
}